{
 "cells": [
  {
   "cell_type": "markdown",
   "metadata": {},
   "source": [
    "## 資料處理"
   ]
  },
  {
   "cell_type": "code",
   "execution_count": 37,
   "metadata": {},
   "outputs": [],
   "source": [
    "import numpy as np\n",
    "import pandas as pd\n",
    "import collections\n",
    "import datetime\n",
    "import matplotlib.pyplot as plt\n",
    "import talib\n",
    "\n",
    "plt.rcParams['figure.figsize'] = (24, 12)"
   ]
  },
  {
   "cell_type": "markdown",
   "metadata": {},
   "source": [
    "# 讀取資料"
   ]
  },
  {
   "cell_type": "code",
   "execution_count": 38,
   "metadata": {},
   "outputs": [],
   "source": [
    "市值 = pd.read_csv(\"TEJ_調整後股價資料//市值(百萬元).csv\") #TEJ_調整後股價資料 (剛剛TEJ_資料整理 整理的資料夾)\n",
    "市值['年月日'] = pd.to_datetime(市值['年月日'])\n",
    "市值 = 市值.set_index('年月日')"
   ]
  },
  {
   "cell_type": "code",
   "execution_count": 39,
   "metadata": {},
   "outputs": [],
   "source": [
    "收盤價 = pd.read_csv(\"TEJ_調整後股價資料//收盤價(元).csv\")\n",
    "收盤價['年月日'] = pd.to_datetime(收盤價['年月日'])\n",
    "收盤價 = 收盤價.set_index('年月日')"
   ]
  },
  {
   "cell_type": "code",
   "execution_count": 40,
   "metadata": {},
   "outputs": [],
   "source": [
    "市場別 = pd.read_csv(\"TEJ_調整後股價資料//市場別.csv\", low_memory=False)\n",
    "市場別['年月日'] = pd.to_datetime(市場別['年月日'])\n",
    "市場別 = 市場別.set_index('年月日')\n",
    "#市場別 = 市場別.apply(lambda x: x.str.strip()) # x.str.strip()把一個字串前後的空白都拿掉"
   ]
  },
  {
   "cell_type": "code",
   "execution_count": 41,
   "metadata": {},
   "outputs": [
    {
     "data": {
      "text/html": [
       "<div>\n",
       "<style scoped>\n",
       "    .dataframe tbody tr th:only-of-type {\n",
       "        vertical-align: middle;\n",
       "    }\n",
       "\n",
       "    .dataframe tbody tr th {\n",
       "        vertical-align: top;\n",
       "    }\n",
       "\n",
       "    .dataframe thead th {\n",
       "        text-align: right;\n",
       "    }\n",
       "</style>\n",
       "<table border=\"1\" class=\"dataframe\">\n",
       "  <thead>\n",
       "    <tr style=\"text-align: right;\">\n",
       "      <th></th>\n",
       "      <th>50</th>\n",
       "      <th>51</th>\n",
       "      <th>1101</th>\n",
       "      <th>1102</th>\n",
       "      <th>1103</th>\n",
       "      <th>1104</th>\n",
       "      <th>1107</th>\n",
       "      <th>1108</th>\n",
       "      <th>1109</th>\n",
       "      <th>1110</th>\n",
       "      <th>...</th>\n",
       "      <th>911613</th>\n",
       "      <th>911616</th>\n",
       "      <th>911619</th>\n",
       "      <th>911622</th>\n",
       "      <th>911626</th>\n",
       "      <th>911868</th>\n",
       "      <th>912000</th>\n",
       "      <th>912398</th>\n",
       "      <th>913889</th>\n",
       "      <th>916665</th>\n",
       "    </tr>\n",
       "    <tr>\n",
       "      <th>年月日</th>\n",
       "      <th></th>\n",
       "      <th></th>\n",
       "      <th></th>\n",
       "      <th></th>\n",
       "      <th></th>\n",
       "      <th></th>\n",
       "      <th></th>\n",
       "      <th></th>\n",
       "      <th></th>\n",
       "      <th></th>\n",
       "      <th></th>\n",
       "      <th></th>\n",
       "      <th></th>\n",
       "      <th></th>\n",
       "      <th></th>\n",
       "      <th></th>\n",
       "      <th></th>\n",
       "      <th></th>\n",
       "      <th></th>\n",
       "      <th></th>\n",
       "      <th></th>\n",
       "    </tr>\n",
       "  </thead>\n",
       "  <tbody>\n",
       "    <tr>\n",
       "      <th>2005-01-03</th>\n",
       "      <td>TSE</td>\n",
       "      <td>NaN</td>\n",
       "      <td>TSE</td>\n",
       "      <td>TSE</td>\n",
       "      <td>TSE</td>\n",
       "      <td>TSE</td>\n",
       "      <td>TSE</td>\n",
       "      <td>TSE</td>\n",
       "      <td>TSE</td>\n",
       "      <td>TSE</td>\n",
       "      <td>...</td>\n",
       "      <td>NaN</td>\n",
       "      <td>NaN</td>\n",
       "      <td>NaN</td>\n",
       "      <td>NaN</td>\n",
       "      <td>NaN</td>\n",
       "      <td>NaN</td>\n",
       "      <td>NaN</td>\n",
       "      <td>NaN</td>\n",
       "      <td>NaN</td>\n",
       "      <td>NaN</td>\n",
       "    </tr>\n",
       "    <tr>\n",
       "      <th>2005-01-04</th>\n",
       "      <td>TSE</td>\n",
       "      <td>NaN</td>\n",
       "      <td>TSE</td>\n",
       "      <td>TSE</td>\n",
       "      <td>TSE</td>\n",
       "      <td>TSE</td>\n",
       "      <td>TSE</td>\n",
       "      <td>TSE</td>\n",
       "      <td>TSE</td>\n",
       "      <td>TSE</td>\n",
       "      <td>...</td>\n",
       "      <td>NaN</td>\n",
       "      <td>NaN</td>\n",
       "      <td>NaN</td>\n",
       "      <td>NaN</td>\n",
       "      <td>NaN</td>\n",
       "      <td>NaN</td>\n",
       "      <td>NaN</td>\n",
       "      <td>NaN</td>\n",
       "      <td>NaN</td>\n",
       "      <td>NaN</td>\n",
       "    </tr>\n",
       "    <tr>\n",
       "      <th>2005-01-05</th>\n",
       "      <td>TSE</td>\n",
       "      <td>NaN</td>\n",
       "      <td>TSE</td>\n",
       "      <td>TSE</td>\n",
       "      <td>TSE</td>\n",
       "      <td>TSE</td>\n",
       "      <td>TSE</td>\n",
       "      <td>TSE</td>\n",
       "      <td>TSE</td>\n",
       "      <td>TSE</td>\n",
       "      <td>...</td>\n",
       "      <td>NaN</td>\n",
       "      <td>NaN</td>\n",
       "      <td>NaN</td>\n",
       "      <td>NaN</td>\n",
       "      <td>NaN</td>\n",
       "      <td>NaN</td>\n",
       "      <td>NaN</td>\n",
       "      <td>NaN</td>\n",
       "      <td>NaN</td>\n",
       "      <td>NaN</td>\n",
       "    </tr>\n",
       "    <tr>\n",
       "      <th>2005-01-06</th>\n",
       "      <td>TSE</td>\n",
       "      <td>NaN</td>\n",
       "      <td>TSE</td>\n",
       "      <td>TSE</td>\n",
       "      <td>TSE</td>\n",
       "      <td>TSE</td>\n",
       "      <td>TSE</td>\n",
       "      <td>TSE</td>\n",
       "      <td>TSE</td>\n",
       "      <td>TSE</td>\n",
       "      <td>...</td>\n",
       "      <td>NaN</td>\n",
       "      <td>NaN</td>\n",
       "      <td>NaN</td>\n",
       "      <td>NaN</td>\n",
       "      <td>NaN</td>\n",
       "      <td>NaN</td>\n",
       "      <td>NaN</td>\n",
       "      <td>NaN</td>\n",
       "      <td>NaN</td>\n",
       "      <td>NaN</td>\n",
       "    </tr>\n",
       "    <tr>\n",
       "      <th>2005-01-07</th>\n",
       "      <td>TSE</td>\n",
       "      <td>NaN</td>\n",
       "      <td>TSE</td>\n",
       "      <td>TSE</td>\n",
       "      <td>TSE</td>\n",
       "      <td>TSE</td>\n",
       "      <td>TSE</td>\n",
       "      <td>TSE</td>\n",
       "      <td>TSE</td>\n",
       "      <td>TSE</td>\n",
       "      <td>...</td>\n",
       "      <td>NaN</td>\n",
       "      <td>NaN</td>\n",
       "      <td>NaN</td>\n",
       "      <td>NaN</td>\n",
       "      <td>NaN</td>\n",
       "      <td>NaN</td>\n",
       "      <td>NaN</td>\n",
       "      <td>NaN</td>\n",
       "      <td>NaN</td>\n",
       "      <td>NaN</td>\n",
       "    </tr>\n",
       "  </tbody>\n",
       "</table>\n",
       "<p>5 rows × 2031 columns</p>\n",
       "</div>"
      ],
      "text/plain": [
       "               50   51   1101   1102   1103   1104   1107   1108   1109  \\\n",
       "年月日                                                                       \n",
       "2005-01-03  TSE    NaN  TSE    TSE    TSE    TSE    TSE    TSE    TSE     \n",
       "2005-01-04  TSE    NaN  TSE    TSE    TSE    TSE    TSE    TSE    TSE     \n",
       "2005-01-05  TSE    NaN  TSE    TSE    TSE    TSE    TSE    TSE    TSE     \n",
       "2005-01-06  TSE    NaN  TSE    TSE    TSE    TSE    TSE    TSE    TSE     \n",
       "2005-01-07  TSE    NaN  TSE    TSE    TSE    TSE    TSE    TSE    TSE     \n",
       "\n",
       "             1110  ... 911613 911616 911619 911622 911626 911868 912000  \\\n",
       "年月日                ...                                                    \n",
       "2005-01-03  TSE    ...    NaN    NaN    NaN    NaN    NaN    NaN    NaN   \n",
       "2005-01-04  TSE    ...    NaN    NaN    NaN    NaN    NaN    NaN    NaN   \n",
       "2005-01-05  TSE    ...    NaN    NaN    NaN    NaN    NaN    NaN    NaN   \n",
       "2005-01-06  TSE    ...    NaN    NaN    NaN    NaN    NaN    NaN    NaN   \n",
       "2005-01-07  TSE    ...    NaN    NaN    NaN    NaN    NaN    NaN    NaN   \n",
       "\n",
       "           912398 913889 916665  \n",
       "年月日                              \n",
       "2005-01-03    NaN    NaN    NaN  \n",
       "2005-01-04    NaN    NaN    NaN  \n",
       "2005-01-05    NaN    NaN    NaN  \n",
       "2005-01-06    NaN    NaN    NaN  \n",
       "2005-01-07    NaN    NaN    NaN  \n",
       "\n",
       "[5 rows x 2031 columns]"
      ]
     },
     "execution_count": 41,
     "metadata": {},
     "output_type": "execute_result"
    }
   ],
   "source": [
    "市場別.head()"
   ]
  },
  {
   "cell_type": "code",
   "execution_count": 42,
   "metadata": {},
   "outputs": [
    {
     "data": {
      "text/plain": [
       "'TSE  '"
      ]
     },
     "execution_count": 42,
     "metadata": {},
     "output_type": "execute_result"
    }
   ],
   "source": [
    "市場別.iloc[0][0]\n",
    "#'TSE'字串後面還有一串空白(需要刪除)"
   ]
  },
  {
   "cell_type": "code",
   "execution_count": 43,
   "metadata": {},
   "outputs": [
    {
     "data": {
      "text/plain": [
       "'TSE'"
      ]
     },
     "execution_count": 43,
     "metadata": {},
     "output_type": "execute_result"
    }
   ],
   "source": [
    "市場別 = 市場別.apply(lambda x: x.str.strip()) # x.str.strip()把一個字串前後的空白都拿掉\n",
    "市場別.iloc[0][0] #'TSE'字串後面一串空白被拿掉了"
   ]
  },
  {
   "cell_type": "code",
   "execution_count": 44,
   "metadata": {},
   "outputs": [],
   "source": [
    "董監持股 = pd.read_csv(\"TEJ_董監_經理人持股//董監持股%.csv\")\n",
    "董監持股['年月日'] = pd.to_datetime(董監持股['年月日'])\n",
    "董監持股 = 董監持股.set_index('年月日')\n",
    "#董監持股.columns = 董監持股.columns.str.strip() #用strip()把column後面的空白拿掉\n",
    "#董監持股 = 董監持股.shift(1).dropna(how = \"all\", axis = 0) #更改成確定會知道持股數值的日期，因為是下一個月才知道，往後shift(把1/1的值到2/1)，並把第一個row drop掉\n",
    "#董監持股.index = 董監持股.index + datetime.timedelta(14) #把index加上14天(因為下個月15號慈才會公布)"
   ]
  },
  {
   "cell_type": "code",
   "execution_count": 45,
   "metadata": {},
   "outputs": [
    {
     "data": {
      "text/plain": [
       "Index(['000116 ', '000930 ', '000960 ', '0009A0 ', '1101   ', '1102   ',\n",
       "       '1103   ', '1104   ', '1107   ', '1108   ',\n",
       "       ...\n",
       "       '9944   ', '9945   ', '9946   ', '9949   ', '9950   ', '9951   ',\n",
       "       '9955   ', '9958   ', '9960   ', '9962   '],\n",
       "      dtype='object', length=2085)"
      ]
     },
     "execution_count": 45,
     "metadata": {},
     "output_type": "execute_result"
    }
   ],
   "source": [
    "董監持股.columns #可以看到columns後面多了一些空白"
   ]
  },
  {
   "cell_type": "code",
   "execution_count": 46,
   "metadata": {},
   "outputs": [
    {
     "data": {
      "text/plain": [
       "Index(['000116', '000930', '000960', '0009A0', '1101', '1102', '1103', '1104',\n",
       "       '1107', '1108',\n",
       "       ...\n",
       "       '9944', '9945', '9946', '9949', '9950', '9951', '9955', '9958', '9960',\n",
       "       '9962'],\n",
       "      dtype='object', length=2085)"
      ]
     },
     "execution_count": 46,
     "metadata": {},
     "output_type": "execute_result"
    }
   ],
   "source": [
    "董監持股.columns = 董監持股.columns.str.strip() \n",
    "董監持股.columns"
   ]
  },
  {
   "cell_type": "code",
   "execution_count": 47,
   "metadata": {},
   "outputs": [
    {
     "data": {
      "text/html": [
       "<div>\n",
       "<style scoped>\n",
       "    .dataframe tbody tr th:only-of-type {\n",
       "        vertical-align: middle;\n",
       "    }\n",
       "\n",
       "    .dataframe tbody tr th {\n",
       "        vertical-align: top;\n",
       "    }\n",
       "\n",
       "    .dataframe thead th {\n",
       "        text-align: right;\n",
       "    }\n",
       "</style>\n",
       "<table border=\"1\" class=\"dataframe\">\n",
       "  <thead>\n",
       "    <tr style=\"text-align: right;\">\n",
       "      <th></th>\n",
       "      <th>000116</th>\n",
       "      <th>000930</th>\n",
       "      <th>000960</th>\n",
       "      <th>0009A0</th>\n",
       "      <th>1101</th>\n",
       "      <th>1102</th>\n",
       "      <th>1103</th>\n",
       "      <th>1104</th>\n",
       "      <th>1107</th>\n",
       "      <th>1108</th>\n",
       "      <th>...</th>\n",
       "      <th>9944</th>\n",
       "      <th>9945</th>\n",
       "      <th>9946</th>\n",
       "      <th>9949</th>\n",
       "      <th>9950</th>\n",
       "      <th>9951</th>\n",
       "      <th>9955</th>\n",
       "      <th>9958</th>\n",
       "      <th>9960</th>\n",
       "      <th>9962</th>\n",
       "    </tr>\n",
       "    <tr>\n",
       "      <th>年月日</th>\n",
       "      <th></th>\n",
       "      <th></th>\n",
       "      <th></th>\n",
       "      <th></th>\n",
       "      <th></th>\n",
       "      <th></th>\n",
       "      <th></th>\n",
       "      <th></th>\n",
       "      <th></th>\n",
       "      <th></th>\n",
       "      <th></th>\n",
       "      <th></th>\n",
       "      <th></th>\n",
       "      <th></th>\n",
       "      <th></th>\n",
       "      <th></th>\n",
       "      <th></th>\n",
       "      <th></th>\n",
       "      <th></th>\n",
       "      <th></th>\n",
       "      <th></th>\n",
       "    </tr>\n",
       "  </thead>\n",
       "  <tbody>\n",
       "    <tr>\n",
       "      <th>2005-01-01</th>\n",
       "      <td>100.0</td>\n",
       "      <td>100.0</td>\n",
       "      <td>100.0</td>\n",
       "      <td>100.0</td>\n",
       "      <td>7.66</td>\n",
       "      <td>33.06</td>\n",
       "      <td>25.72</td>\n",
       "      <td>11.25</td>\n",
       "      <td>5.0</td>\n",
       "      <td>13.66</td>\n",
       "      <td>...</td>\n",
       "      <td>32.69</td>\n",
       "      <td>37.64</td>\n",
       "      <td>20.80</td>\n",
       "      <td>22.39</td>\n",
       "      <td>41.38</td>\n",
       "      <td>34.51</td>\n",
       "      <td>53.20</td>\n",
       "      <td>31.57</td>\n",
       "      <td>28.93</td>\n",
       "      <td>26.70</td>\n",
       "    </tr>\n",
       "    <tr>\n",
       "      <th>2005-02-01</th>\n",
       "      <td>100.0</td>\n",
       "      <td>100.0</td>\n",
       "      <td>100.0</td>\n",
       "      <td>100.0</td>\n",
       "      <td>7.66</td>\n",
       "      <td>33.06</td>\n",
       "      <td>25.70</td>\n",
       "      <td>11.27</td>\n",
       "      <td>5.0</td>\n",
       "      <td>14.29</td>\n",
       "      <td>...</td>\n",
       "      <td>32.69</td>\n",
       "      <td>37.64</td>\n",
       "      <td>20.80</td>\n",
       "      <td>22.39</td>\n",
       "      <td>41.38</td>\n",
       "      <td>34.45</td>\n",
       "      <td>53.20</td>\n",
       "      <td>31.57</td>\n",
       "      <td>28.93</td>\n",
       "      <td>18.86</td>\n",
       "    </tr>\n",
       "    <tr>\n",
       "      <th>2005-03-01</th>\n",
       "      <td>100.0</td>\n",
       "      <td>100.0</td>\n",
       "      <td>100.0</td>\n",
       "      <td>100.0</td>\n",
       "      <td>7.69</td>\n",
       "      <td>33.06</td>\n",
       "      <td>25.69</td>\n",
       "      <td>11.29</td>\n",
       "      <td>5.0</td>\n",
       "      <td>14.29</td>\n",
       "      <td>...</td>\n",
       "      <td>32.56</td>\n",
       "      <td>37.64</td>\n",
       "      <td>20.80</td>\n",
       "      <td>22.39</td>\n",
       "      <td>41.38</td>\n",
       "      <td>34.45</td>\n",
       "      <td>52.62</td>\n",
       "      <td>31.57</td>\n",
       "      <td>28.93</td>\n",
       "      <td>18.86</td>\n",
       "    </tr>\n",
       "    <tr>\n",
       "      <th>2005-04-01</th>\n",
       "      <td>100.0</td>\n",
       "      <td>100.0</td>\n",
       "      <td>100.0</td>\n",
       "      <td>100.0</td>\n",
       "      <td>7.95</td>\n",
       "      <td>33.06</td>\n",
       "      <td>25.69</td>\n",
       "      <td>11.29</td>\n",
       "      <td>5.0</td>\n",
       "      <td>14.29</td>\n",
       "      <td>...</td>\n",
       "      <td>32.56</td>\n",
       "      <td>37.64</td>\n",
       "      <td>18.70</td>\n",
       "      <td>22.39</td>\n",
       "      <td>41.38</td>\n",
       "      <td>34.68</td>\n",
       "      <td>52.62</td>\n",
       "      <td>31.57</td>\n",
       "      <td>28.93</td>\n",
       "      <td>18.86</td>\n",
       "    </tr>\n",
       "    <tr>\n",
       "      <th>2005-05-01</th>\n",
       "      <td>100.0</td>\n",
       "      <td>100.0</td>\n",
       "      <td>100.0</td>\n",
       "      <td>100.0</td>\n",
       "      <td>8.06</td>\n",
       "      <td>33.06</td>\n",
       "      <td>25.69</td>\n",
       "      <td>11.29</td>\n",
       "      <td>5.0</td>\n",
       "      <td>14.29</td>\n",
       "      <td>...</td>\n",
       "      <td>31.79</td>\n",
       "      <td>37.64</td>\n",
       "      <td>18.87</td>\n",
       "      <td>22.39</td>\n",
       "      <td>41.38</td>\n",
       "      <td>34.68</td>\n",
       "      <td>52.62</td>\n",
       "      <td>31.57</td>\n",
       "      <td>28.93</td>\n",
       "      <td>18.86</td>\n",
       "    </tr>\n",
       "  </tbody>\n",
       "</table>\n",
       "<p>5 rows × 2085 columns</p>\n",
       "</div>"
      ],
      "text/plain": [
       "            000116  000930  000960  0009A0  1101   1102   1103   1104  1107  \\\n",
       "年月日                                                                           \n",
       "2005-01-01   100.0   100.0   100.0   100.0  7.66  33.06  25.72  11.25   5.0   \n",
       "2005-02-01   100.0   100.0   100.0   100.0  7.66  33.06  25.70  11.27   5.0   \n",
       "2005-03-01   100.0   100.0   100.0   100.0  7.69  33.06  25.69  11.29   5.0   \n",
       "2005-04-01   100.0   100.0   100.0   100.0  7.95  33.06  25.69  11.29   5.0   \n",
       "2005-05-01   100.0   100.0   100.0   100.0  8.06  33.06  25.69  11.29   5.0   \n",
       "\n",
       "             1108  ...   9944   9945   9946   9949   9950   9951   9955  \\\n",
       "年月日                ...                                                    \n",
       "2005-01-01  13.66  ...  32.69  37.64  20.80  22.39  41.38  34.51  53.20   \n",
       "2005-02-01  14.29  ...  32.69  37.64  20.80  22.39  41.38  34.45  53.20   \n",
       "2005-03-01  14.29  ...  32.56  37.64  20.80  22.39  41.38  34.45  52.62   \n",
       "2005-04-01  14.29  ...  32.56  37.64  18.70  22.39  41.38  34.68  52.62   \n",
       "2005-05-01  14.29  ...  31.79  37.64  18.87  22.39  41.38  34.68  52.62   \n",
       "\n",
       "             9958   9960   9962  \n",
       "年月日                              \n",
       "2005-01-01  31.57  28.93  26.70  \n",
       "2005-02-01  31.57  28.93  18.86  \n",
       "2005-03-01  31.57  28.93  18.86  \n",
       "2005-04-01  31.57  28.93  18.86  \n",
       "2005-05-01  31.57  28.93  18.86  \n",
       "\n",
       "[5 rows x 2085 columns]"
      ]
     },
     "execution_count": 47,
     "metadata": {},
     "output_type": "execute_result"
    }
   ],
   "source": [
    "董監持股.head()"
   ]
  },
  {
   "cell_type": "code",
   "execution_count": 48,
   "metadata": {},
   "outputs": [
    {
     "data": {
      "text/html": [
       "<div>\n",
       "<style scoped>\n",
       "    .dataframe tbody tr th:only-of-type {\n",
       "        vertical-align: middle;\n",
       "    }\n",
       "\n",
       "    .dataframe tbody tr th {\n",
       "        vertical-align: top;\n",
       "    }\n",
       "\n",
       "    .dataframe thead th {\n",
       "        text-align: right;\n",
       "    }\n",
       "</style>\n",
       "<table border=\"1\" class=\"dataframe\">\n",
       "  <thead>\n",
       "    <tr style=\"text-align: right;\">\n",
       "      <th></th>\n",
       "      <th>000116</th>\n",
       "      <th>000930</th>\n",
       "      <th>000960</th>\n",
       "      <th>0009A0</th>\n",
       "      <th>1101</th>\n",
       "      <th>1102</th>\n",
       "      <th>1103</th>\n",
       "      <th>1104</th>\n",
       "      <th>1107</th>\n",
       "      <th>1108</th>\n",
       "      <th>...</th>\n",
       "      <th>9944</th>\n",
       "      <th>9945</th>\n",
       "      <th>9946</th>\n",
       "      <th>9949</th>\n",
       "      <th>9950</th>\n",
       "      <th>9951</th>\n",
       "      <th>9955</th>\n",
       "      <th>9958</th>\n",
       "      <th>9960</th>\n",
       "      <th>9962</th>\n",
       "    </tr>\n",
       "    <tr>\n",
       "      <th>年月日</th>\n",
       "      <th></th>\n",
       "      <th></th>\n",
       "      <th></th>\n",
       "      <th></th>\n",
       "      <th></th>\n",
       "      <th></th>\n",
       "      <th></th>\n",
       "      <th></th>\n",
       "      <th></th>\n",
       "      <th></th>\n",
       "      <th></th>\n",
       "      <th></th>\n",
       "      <th></th>\n",
       "      <th></th>\n",
       "      <th></th>\n",
       "      <th></th>\n",
       "      <th></th>\n",
       "      <th></th>\n",
       "      <th></th>\n",
       "      <th></th>\n",
       "      <th></th>\n",
       "    </tr>\n",
       "  </thead>\n",
       "  <tbody>\n",
       "    <tr>\n",
       "      <th>2005-02-01</th>\n",
       "      <td>100.0</td>\n",
       "      <td>100.0</td>\n",
       "      <td>100.0</td>\n",
       "      <td>100.0</td>\n",
       "      <td>7.66</td>\n",
       "      <td>33.06</td>\n",
       "      <td>25.72</td>\n",
       "      <td>11.25</td>\n",
       "      <td>5.0</td>\n",
       "      <td>13.66</td>\n",
       "      <td>...</td>\n",
       "      <td>32.69</td>\n",
       "      <td>37.64</td>\n",
       "      <td>20.80</td>\n",
       "      <td>22.39</td>\n",
       "      <td>41.38</td>\n",
       "      <td>34.51</td>\n",
       "      <td>53.20</td>\n",
       "      <td>31.57</td>\n",
       "      <td>28.93</td>\n",
       "      <td>26.70</td>\n",
       "    </tr>\n",
       "    <tr>\n",
       "      <th>2005-03-01</th>\n",
       "      <td>100.0</td>\n",
       "      <td>100.0</td>\n",
       "      <td>100.0</td>\n",
       "      <td>100.0</td>\n",
       "      <td>7.66</td>\n",
       "      <td>33.06</td>\n",
       "      <td>25.70</td>\n",
       "      <td>11.27</td>\n",
       "      <td>5.0</td>\n",
       "      <td>14.29</td>\n",
       "      <td>...</td>\n",
       "      <td>32.69</td>\n",
       "      <td>37.64</td>\n",
       "      <td>20.80</td>\n",
       "      <td>22.39</td>\n",
       "      <td>41.38</td>\n",
       "      <td>34.45</td>\n",
       "      <td>53.20</td>\n",
       "      <td>31.57</td>\n",
       "      <td>28.93</td>\n",
       "      <td>18.86</td>\n",
       "    </tr>\n",
       "    <tr>\n",
       "      <th>2005-04-01</th>\n",
       "      <td>100.0</td>\n",
       "      <td>100.0</td>\n",
       "      <td>100.0</td>\n",
       "      <td>100.0</td>\n",
       "      <td>7.69</td>\n",
       "      <td>33.06</td>\n",
       "      <td>25.69</td>\n",
       "      <td>11.29</td>\n",
       "      <td>5.0</td>\n",
       "      <td>14.29</td>\n",
       "      <td>...</td>\n",
       "      <td>32.56</td>\n",
       "      <td>37.64</td>\n",
       "      <td>20.80</td>\n",
       "      <td>22.39</td>\n",
       "      <td>41.38</td>\n",
       "      <td>34.45</td>\n",
       "      <td>52.62</td>\n",
       "      <td>31.57</td>\n",
       "      <td>28.93</td>\n",
       "      <td>18.86</td>\n",
       "    </tr>\n",
       "    <tr>\n",
       "      <th>2005-05-01</th>\n",
       "      <td>100.0</td>\n",
       "      <td>100.0</td>\n",
       "      <td>100.0</td>\n",
       "      <td>100.0</td>\n",
       "      <td>7.95</td>\n",
       "      <td>33.06</td>\n",
       "      <td>25.69</td>\n",
       "      <td>11.29</td>\n",
       "      <td>5.0</td>\n",
       "      <td>14.29</td>\n",
       "      <td>...</td>\n",
       "      <td>32.56</td>\n",
       "      <td>37.64</td>\n",
       "      <td>18.70</td>\n",
       "      <td>22.39</td>\n",
       "      <td>41.38</td>\n",
       "      <td>34.68</td>\n",
       "      <td>52.62</td>\n",
       "      <td>31.57</td>\n",
       "      <td>28.93</td>\n",
       "      <td>18.86</td>\n",
       "    </tr>\n",
       "    <tr>\n",
       "      <th>2005-06-01</th>\n",
       "      <td>100.0</td>\n",
       "      <td>100.0</td>\n",
       "      <td>100.0</td>\n",
       "      <td>100.0</td>\n",
       "      <td>8.06</td>\n",
       "      <td>33.06</td>\n",
       "      <td>25.69</td>\n",
       "      <td>11.29</td>\n",
       "      <td>5.0</td>\n",
       "      <td>14.29</td>\n",
       "      <td>...</td>\n",
       "      <td>31.79</td>\n",
       "      <td>37.64</td>\n",
       "      <td>18.87</td>\n",
       "      <td>22.39</td>\n",
       "      <td>41.38</td>\n",
       "      <td>34.68</td>\n",
       "      <td>52.62</td>\n",
       "      <td>31.57</td>\n",
       "      <td>28.93</td>\n",
       "      <td>18.86</td>\n",
       "    </tr>\n",
       "  </tbody>\n",
       "</table>\n",
       "<p>5 rows × 2085 columns</p>\n",
       "</div>"
      ],
      "text/plain": [
       "            000116  000930  000960  0009A0  1101   1102   1103   1104  1107  \\\n",
       "年月日                                                                           \n",
       "2005-02-01   100.0   100.0   100.0   100.0  7.66  33.06  25.72  11.25   5.0   \n",
       "2005-03-01   100.0   100.0   100.0   100.0  7.66  33.06  25.70  11.27   5.0   \n",
       "2005-04-01   100.0   100.0   100.0   100.0  7.69  33.06  25.69  11.29   5.0   \n",
       "2005-05-01   100.0   100.0   100.0   100.0  7.95  33.06  25.69  11.29   5.0   \n",
       "2005-06-01   100.0   100.0   100.0   100.0  8.06  33.06  25.69  11.29   5.0   \n",
       "\n",
       "             1108  ...   9944   9945   9946   9949   9950   9951   9955  \\\n",
       "年月日                ...                                                    \n",
       "2005-02-01  13.66  ...  32.69  37.64  20.80  22.39  41.38  34.51  53.20   \n",
       "2005-03-01  14.29  ...  32.69  37.64  20.80  22.39  41.38  34.45  53.20   \n",
       "2005-04-01  14.29  ...  32.56  37.64  20.80  22.39  41.38  34.45  52.62   \n",
       "2005-05-01  14.29  ...  32.56  37.64  18.70  22.39  41.38  34.68  52.62   \n",
       "2005-06-01  14.29  ...  31.79  37.64  18.87  22.39  41.38  34.68  52.62   \n",
       "\n",
       "             9958   9960   9962  \n",
       "年月日                              \n",
       "2005-02-01  31.57  28.93  26.70  \n",
       "2005-03-01  31.57  28.93  18.86  \n",
       "2005-04-01  31.57  28.93  18.86  \n",
       "2005-05-01  31.57  28.93  18.86  \n",
       "2005-06-01  31.57  28.93  18.86  \n",
       "\n",
       "[5 rows x 2085 columns]"
      ]
     },
     "execution_count": 48,
     "metadata": {},
     "output_type": "execute_result"
    }
   ],
   "source": [
    "董監持股 = 董監持股.shift(1).dropna(how = \"all\", axis = 0) #數據是前一個月的\n",
    "董監持股.head()"
   ]
  },
  {
   "cell_type": "code",
   "execution_count": 49,
   "metadata": {},
   "outputs": [
    {
     "data": {
      "text/html": [
       "<div>\n",
       "<style scoped>\n",
       "    .dataframe tbody tr th:only-of-type {\n",
       "        vertical-align: middle;\n",
       "    }\n",
       "\n",
       "    .dataframe tbody tr th {\n",
       "        vertical-align: top;\n",
       "    }\n",
       "\n",
       "    .dataframe thead th {\n",
       "        text-align: right;\n",
       "    }\n",
       "</style>\n",
       "<table border=\"1\" class=\"dataframe\">\n",
       "  <thead>\n",
       "    <tr style=\"text-align: right;\">\n",
       "      <th></th>\n",
       "      <th>000116</th>\n",
       "      <th>000930</th>\n",
       "      <th>000960</th>\n",
       "      <th>0009A0</th>\n",
       "      <th>1101</th>\n",
       "      <th>1102</th>\n",
       "      <th>1103</th>\n",
       "      <th>1104</th>\n",
       "      <th>1107</th>\n",
       "      <th>1108</th>\n",
       "      <th>...</th>\n",
       "      <th>9944</th>\n",
       "      <th>9945</th>\n",
       "      <th>9946</th>\n",
       "      <th>9949</th>\n",
       "      <th>9950</th>\n",
       "      <th>9951</th>\n",
       "      <th>9955</th>\n",
       "      <th>9958</th>\n",
       "      <th>9960</th>\n",
       "      <th>9962</th>\n",
       "    </tr>\n",
       "    <tr>\n",
       "      <th>年月日</th>\n",
       "      <th></th>\n",
       "      <th></th>\n",
       "      <th></th>\n",
       "      <th></th>\n",
       "      <th></th>\n",
       "      <th></th>\n",
       "      <th></th>\n",
       "      <th></th>\n",
       "      <th></th>\n",
       "      <th></th>\n",
       "      <th></th>\n",
       "      <th></th>\n",
       "      <th></th>\n",
       "      <th></th>\n",
       "      <th></th>\n",
       "      <th></th>\n",
       "      <th></th>\n",
       "      <th></th>\n",
       "      <th></th>\n",
       "      <th></th>\n",
       "      <th></th>\n",
       "    </tr>\n",
       "  </thead>\n",
       "  <tbody>\n",
       "    <tr>\n",
       "      <th>2005-02-15</th>\n",
       "      <td>100.0</td>\n",
       "      <td>100.0</td>\n",
       "      <td>100.0</td>\n",
       "      <td>100.0</td>\n",
       "      <td>7.66</td>\n",
       "      <td>33.06</td>\n",
       "      <td>25.72</td>\n",
       "      <td>11.25</td>\n",
       "      <td>5.0</td>\n",
       "      <td>13.66</td>\n",
       "      <td>...</td>\n",
       "      <td>32.69</td>\n",
       "      <td>37.64</td>\n",
       "      <td>20.80</td>\n",
       "      <td>22.39</td>\n",
       "      <td>41.38</td>\n",
       "      <td>34.51</td>\n",
       "      <td>53.20</td>\n",
       "      <td>31.57</td>\n",
       "      <td>28.93</td>\n",
       "      <td>26.70</td>\n",
       "    </tr>\n",
       "    <tr>\n",
       "      <th>2005-03-15</th>\n",
       "      <td>100.0</td>\n",
       "      <td>100.0</td>\n",
       "      <td>100.0</td>\n",
       "      <td>100.0</td>\n",
       "      <td>7.66</td>\n",
       "      <td>33.06</td>\n",
       "      <td>25.70</td>\n",
       "      <td>11.27</td>\n",
       "      <td>5.0</td>\n",
       "      <td>14.29</td>\n",
       "      <td>...</td>\n",
       "      <td>32.69</td>\n",
       "      <td>37.64</td>\n",
       "      <td>20.80</td>\n",
       "      <td>22.39</td>\n",
       "      <td>41.38</td>\n",
       "      <td>34.45</td>\n",
       "      <td>53.20</td>\n",
       "      <td>31.57</td>\n",
       "      <td>28.93</td>\n",
       "      <td>18.86</td>\n",
       "    </tr>\n",
       "    <tr>\n",
       "      <th>2005-04-15</th>\n",
       "      <td>100.0</td>\n",
       "      <td>100.0</td>\n",
       "      <td>100.0</td>\n",
       "      <td>100.0</td>\n",
       "      <td>7.69</td>\n",
       "      <td>33.06</td>\n",
       "      <td>25.69</td>\n",
       "      <td>11.29</td>\n",
       "      <td>5.0</td>\n",
       "      <td>14.29</td>\n",
       "      <td>...</td>\n",
       "      <td>32.56</td>\n",
       "      <td>37.64</td>\n",
       "      <td>20.80</td>\n",
       "      <td>22.39</td>\n",
       "      <td>41.38</td>\n",
       "      <td>34.45</td>\n",
       "      <td>52.62</td>\n",
       "      <td>31.57</td>\n",
       "      <td>28.93</td>\n",
       "      <td>18.86</td>\n",
       "    </tr>\n",
       "    <tr>\n",
       "      <th>2005-05-15</th>\n",
       "      <td>100.0</td>\n",
       "      <td>100.0</td>\n",
       "      <td>100.0</td>\n",
       "      <td>100.0</td>\n",
       "      <td>7.95</td>\n",
       "      <td>33.06</td>\n",
       "      <td>25.69</td>\n",
       "      <td>11.29</td>\n",
       "      <td>5.0</td>\n",
       "      <td>14.29</td>\n",
       "      <td>...</td>\n",
       "      <td>32.56</td>\n",
       "      <td>37.64</td>\n",
       "      <td>18.70</td>\n",
       "      <td>22.39</td>\n",
       "      <td>41.38</td>\n",
       "      <td>34.68</td>\n",
       "      <td>52.62</td>\n",
       "      <td>31.57</td>\n",
       "      <td>28.93</td>\n",
       "      <td>18.86</td>\n",
       "    </tr>\n",
       "    <tr>\n",
       "      <th>2005-06-15</th>\n",
       "      <td>100.0</td>\n",
       "      <td>100.0</td>\n",
       "      <td>100.0</td>\n",
       "      <td>100.0</td>\n",
       "      <td>8.06</td>\n",
       "      <td>33.06</td>\n",
       "      <td>25.69</td>\n",
       "      <td>11.29</td>\n",
       "      <td>5.0</td>\n",
       "      <td>14.29</td>\n",
       "      <td>...</td>\n",
       "      <td>31.79</td>\n",
       "      <td>37.64</td>\n",
       "      <td>18.87</td>\n",
       "      <td>22.39</td>\n",
       "      <td>41.38</td>\n",
       "      <td>34.68</td>\n",
       "      <td>52.62</td>\n",
       "      <td>31.57</td>\n",
       "      <td>28.93</td>\n",
       "      <td>18.86</td>\n",
       "    </tr>\n",
       "  </tbody>\n",
       "</table>\n",
       "<p>5 rows × 2085 columns</p>\n",
       "</div>"
      ],
      "text/plain": [
       "            000116  000930  000960  0009A0  1101   1102   1103   1104  1107  \\\n",
       "年月日                                                                           \n",
       "2005-02-15   100.0   100.0   100.0   100.0  7.66  33.06  25.72  11.25   5.0   \n",
       "2005-03-15   100.0   100.0   100.0   100.0  7.66  33.06  25.70  11.27   5.0   \n",
       "2005-04-15   100.0   100.0   100.0   100.0  7.69  33.06  25.69  11.29   5.0   \n",
       "2005-05-15   100.0   100.0   100.0   100.0  7.95  33.06  25.69  11.29   5.0   \n",
       "2005-06-15   100.0   100.0   100.0   100.0  8.06  33.06  25.69  11.29   5.0   \n",
       "\n",
       "             1108  ...   9944   9945   9946   9949   9950   9951   9955  \\\n",
       "年月日                ...                                                    \n",
       "2005-02-15  13.66  ...  32.69  37.64  20.80  22.39  41.38  34.51  53.20   \n",
       "2005-03-15  14.29  ...  32.69  37.64  20.80  22.39  41.38  34.45  53.20   \n",
       "2005-04-15  14.29  ...  32.56  37.64  20.80  22.39  41.38  34.45  52.62   \n",
       "2005-05-15  14.29  ...  32.56  37.64  18.70  22.39  41.38  34.68  52.62   \n",
       "2005-06-15  14.29  ...  31.79  37.64  18.87  22.39  41.38  34.68  52.62   \n",
       "\n",
       "             9958   9960   9962  \n",
       "年月日                              \n",
       "2005-02-15  31.57  28.93  26.70  \n",
       "2005-03-15  31.57  28.93  18.86  \n",
       "2005-04-15  31.57  28.93  18.86  \n",
       "2005-05-15  31.57  28.93  18.86  \n",
       "2005-06-15  31.57  28.93  18.86  \n",
       "\n",
       "[5 rows x 2085 columns]"
      ]
     },
     "execution_count": 49,
     "metadata": {},
     "output_type": "execute_result"
    }
   ],
   "source": [
    "董監持股.index = 董監持股.index + datetime.timedelta(14) # 每月15日公布\n",
    "董監持股.head()"
   ]
  },
  {
   "cell_type": "code",
   "execution_count": 50,
   "metadata": {},
   "outputs": [],
   "source": [
    "# 不會用到\n",
    "最高價 = pd.read_csv(\"TEJ_調整後股價資料//最高價(元).csv\")\n",
    "最高價['年月日'] = pd.to_datetime(最高價['年月日'])\n",
    "最高價 = 最高價.set_index('年月日')"
   ]
  },
  {
   "cell_type": "code",
   "execution_count": 51,
   "metadata": {},
   "outputs": [],
   "source": [
    "# 不會用到\n",
    "最低價 = pd.read_csv(\"TEJ_調整後股價資料//最低價(元).csv\")\n",
    "最低價['年月日'] = pd.to_datetime(最低價['年月日'])\n",
    "最低價 = 最低價.set_index('年月日')"
   ]
  },
  {
   "cell_type": "code",
   "execution_count": 52,
   "metadata": {},
   "outputs": [],
   "source": [
    "# 不會用到\n",
    "董監質押股 = pd.read_csv(\"TEJ_董監_經理人持股//董監質押股%.csv\")\n",
    "董監質押股['年月日'] = pd.to_datetime(董監質押股['年月日'])\n",
    "董監質押股 = 董監質押股.set_index('年月日')\n",
    "董監質押股.columns = 董監質押股.columns.str.strip()\n",
    "董監質押股 = 董監質押股.shift(1).dropna(how = \"all\", axis = 0)\n",
    "董監質押股.index = 董監質押股.index + datetime.timedelta(14)"
   ]
  },
  {
   "cell_type": "code",
   "execution_count": 53,
   "metadata": {},
   "outputs": [],
   "source": [
    "# 不會用到\n",
    "經理人持股 = pd.read_csv(\"TEJ_董監_經理人持股//經理人持股%.csv\")\n",
    "經理人持股['年月日'] = pd.to_datetime(經理人持股['年月日'])\n",
    "經理人持股 = 經理人持股.set_index('年月日')\n",
    "經理人持股.columns = 經理人持股.columns.str.strip()\n",
    "經理人持股 = 經理人持股.shift(1).dropna(how = \"all\", axis = 0)\n",
    "經理人持股.index = 經理人持股.index + datetime.timedelta(14)"
   ]
  },
  {
   "cell_type": "code",
   "execution_count": 54,
   "metadata": {},
   "outputs": [],
   "source": [
    "# 不會用到\n",
    "ADX = 收盤價.copy()\n",
    "for c in 收盤價.columns:\n",
    "    ADX[c] = talib.ADX(最高價[c].dropna(), 最低價[c].dropna(), 收盤價[c].dropna(), 20)"
   ]
  },
  {
   "cell_type": "markdown",
   "metadata": {},
   "source": [
    "# 預設選股日期\n",
    "### 定在每個月的16號(15號一定會知道董監事持股)"
   ]
  },
  {
   "cell_type": "code",
   "execution_count": 55,
   "metadata": {},
   "outputs": [],
   "source": [
    "選股日期 = pd.date_range(\"2007-01-01\", \"2021-04-01\", freq = \"MS\") + datetime.timedelta(15) #起始2007-2021 多久一次:MS(Month的第一天)，再加15天\n",
    "選股前一日 = 選股日期 - datetime.timedelta(1)\n",
    "選股後一日 = 選股日期 + datetime.timedelta(1)\n",
    "回測最後一日 = pd.to_datetime(\"2021-05-15\") #4/16加一個月"
   ]
  },
  {
   "cell_type": "markdown",
   "metadata": {},
   "source": [
    "# 邏輯磚塊"
   ]
  },
  {
   "cell_type": "code",
   "execution_count": 56,
   "metadata": {},
   "outputs": [],
   "source": [
    "class Condition:\n",
    "    def __init__(self, data, condition_type, threshold): #condition_type, threshold 條件的種類和門檻\n",
    "        self.data = data\n",
    "        self.condition_type = condition_type\n",
    "        self.threshold = threshold\n",
    "        \n",
    "        #每檔股票的門檻值都一樣 or 每檔股票的門檻都不一樣\n",
    "        if type(threshold) == pd.Series: \n",
    "            valid_tickers = list(set(self.data.index) & set(self.threshold.index)) #資料和門檻值都共同有的ticker，把他們共有的tickers拿出來\n",
    "            self.data = self.data[valid_tickers] #只保留他們倆個都有tickers的資料 和門檻值\n",
    "            self.threshold = self.threshold[valid_tickers] \n",
    "            \n",
    "    #輸入條件後，要能找出滿足這個條件的股票代號有哪些        \n",
    "    def build(self, used_tickers = None): #used_tickers:我們要使用的股票代碼(如果使用者沒說要用在哪個股票上，None代表可以用的股票是資料中有的股票代碼)\n",
    "        if used_tickers is None:\n",
    "            valid_tickers = list(self.data.index) #等於data裡面有的股票代碼\n",
    "        else: #如果它有指定要從哪些股票中篩選，必須要是資料裡有的和符合used_tickers(必須兩個都有)\n",
    "            valid_tickers = list(set(self.data.index) & set(used_tickers))\n",
    "            \n",
    "        #根據不同的condition type做處理:一種有排序、一種是跟門檻值比較的(不排序)\n",
    "        if \"rank\" in self.condition_type:\n",
    "            if self.condition_type == \"rank_high_pct\": # ascending = False:我原本數值比較高的，它的排名比較前面 # pct = True:回傳百分比%(pr值)\n",
    "                rank_data = self.data[valid_tickers].rank(ascending = False, pct = True, na_option='bottom') \n",
    "\n",
    "            elif self.condition_type == \"rank_low_pct\": # ascending = True我原本數值比較低的，排名比較前面(第一名是比較差的)\n",
    "                rank_data = self.data[valid_tickers].rank(ascending = True, pct = True, na_option='bottom')\n",
    "\n",
    "            elif self.condition_type == \"rank_high\":# pct = False:回傳名次\n",
    "                rank_data = self.data[valid_tickers].rank(ascending = False, pct = False, na_option='bottom') # pct = False: 回傳真實的排名\n",
    "\n",
    "            elif self.condition_type == \"rank_low\":\n",
    "                rank_data = self.data[valid_tickers].rank(ascending = True, pct = False, na_option='bottom')\n",
    "                # rank_data是排名後的data\n",
    "                \n",
    "            result = self.data[valid_tickers][rank_data < self.threshold] #可以用的資料中，找排名小於我們門檻值的\n",
    "        \n",
    "        else: #純粹跟門檻值比較的\n",
    "            if self.condition_type == \"compare_high\":\n",
    "                result = self.data[valid_tickers][self.data > self.threshold] #大於門檻值\n",
    "\n",
    "            elif self.condition_type == \"compare_low\":\n",
    "                result = self.data[valid_tickers][self.data < self.threshold] #小於門檻值\n",
    "\n",
    "            elif self.condition_type == \"equal\":\n",
    "                result = self.data[valid_tickers][self.data == self.threshold]\n",
    "            \n",
    "        return list(result.index) #回傳結果(哪些tickers滿足這些條件)\n",
    "    "
   ]
  },
  {
   "cell_type": "code",
   "execution_count": 57,
   "metadata": {},
   "outputs": [],
   "source": [
    "class ConditionAnd: #把兩個條件結合起來變成一個新的條件\n",
    "    def __init__(self, conditions):\n",
    "        self.conditions = conditions #把傳進來的conditions的list(裡面包含很多condition)回傳給自己\n",
    "    \n",
    "    def build(self, used_tickers = None):\n",
    "        tickers = None\n",
    "        for condition in self.conditions: #把每個condition run一遍\n",
    "            result  = condition.build(used_tickers) #取得符合這個condition的tickers，再把這些tickers做交集的邏輯運算，得到新的可以的tickers\n",
    "            \n",
    "            if tickers is None:\n",
    "                tickers = result\n",
    "            else:\n",
    "                tickers = list(set(tickers) & set(result))  #做condition的交集\n",
    "                \n",
    "        return tickers\n",
    "    \n",
    "class ConditionOR: #把兩個條件or起來變成一個新的條件\n",
    "    def __init__(self, conditions):\n",
    "        self.conditions = conditions\n",
    "    \n",
    "    def build(self, used_tickers = None):\n",
    "        tickers = None\n",
    "        for condition in self.conditions:\n",
    "            result  = condition.build(used_tickers)\n",
    "            \n",
    "            if tickers is None:\n",
    "                tickers = result\n",
    "            else:\n",
    "                tickers = list(set(tickers) | set(result)) #做condition的聯集\n",
    "                \n",
    "        return tickers"
   ]
  },
  {
   "cell_type": "code",
   "execution_count": 58,
   "metadata": {},
   "outputs": [],
   "source": [
    "#不同層級的條件合成(上下集合的關係)\n",
    "\n",
    "class ConditionBlocks:\n",
    "    def __init__(self):\n",
    "        self.condition_blocks = []  #初始是一個空的list\n",
    "        \n",
    "    def add_condition(self, condition):\n",
    "        self.condition_blocks.append(condition)\n",
    "        \n",
    "    def build(self):\n",
    "        tickers = None\n",
    "        for condition in self.condition_blocks:\n",
    "            if tickers is None:\n",
    "                tickers = condition.build() #拿到tickers\n",
    "            else:\n",
    "                tickers = condition.build(tickers) #前面條件篩選過後的再篩選\n",
    "                \n",
    "        return tickers"
   ]
  },
  {
   "cell_type": "markdown",
   "metadata": {},
   "source": [
    "# 回測\n",
    "\n",
    "### 上市股票市值前5%，董監事持股增加(同個層級)"
   ]
  },
  {
   "cell_type": "code",
   "execution_count": 60,
   "metadata": {},
   "outputs": [
    {
     "data": {
      "text/plain": [
       "['3009', '2883']"
      ]
     },
     "metadata": {},
     "output_type": "display_data"
    },
    {
     "data": {
      "text/plain": [
       "['1326', '1303', '2883']"
      ]
     },
     "metadata": {},
     "output_type": "display_data"
    },
    {
     "data": {
      "text/plain": [
       "['1303']"
      ]
     },
     "metadata": {},
     "output_type": "display_data"
    },
    {
     "data": {
      "text/plain": [
       "['2888', '1303']"
      ]
     },
     "metadata": {},
     "output_type": "display_data"
    },
    {
     "data": {
      "text/plain": [
       "['3045', '2498', '2888', '1303']"
      ]
     },
     "metadata": {},
     "output_type": "display_data"
    },
    {
     "data": {
      "text/plain": [
       "['6505']"
      ]
     },
     "metadata": {},
     "output_type": "display_data"
    },
    {
     "data": {
      "text/plain": [
       "['2324', '1303', '2354', '6505', '2412', '2882']"
      ]
     },
     "metadata": {},
     "output_type": "display_data"
    },
    {
     "data": {
      "text/plain": [
       "['2325']"
      ]
     },
     "metadata": {},
     "output_type": "display_data"
    },
    {
     "data": {
      "text/plain": [
       "['1216', '1303', '6505', '2303', '1301']"
      ]
     },
     "metadata": {},
     "output_type": "display_data"
    },
    {
     "data": {
      "text/plain": [
       "['6505']"
      ]
     },
     "metadata": {},
     "output_type": "display_data"
    },
    {
     "data": {
      "text/plain": [
       "[]"
      ]
     },
     "metadata": {},
     "output_type": "display_data"
    },
    {
     "data": {
      "text/plain": [
       "['6505', '2412']"
      ]
     },
     "metadata": {},
     "output_type": "display_data"
    },
    {
     "data": {
      "text/plain": [
       "[]"
      ]
     },
     "metadata": {},
     "output_type": "display_data"
    },
    {
     "data": {
      "text/plain": [
       "[]"
      ]
     },
     "metadata": {},
     "output_type": "display_data"
    },
    {
     "data": {
      "text/plain": [
       "['2330', '3481']"
      ]
     },
     "metadata": {},
     "output_type": "display_data"
    },
    {
     "data": {
      "text/plain": [
       "['3481']"
      ]
     },
     "metadata": {},
     "output_type": "display_data"
    },
    {
     "data": {
      "text/plain": [
       "[]"
      ]
     },
     "metadata": {},
     "output_type": "display_data"
    },
    {
     "data": {
      "text/plain": [
       "[]"
      ]
     },
     "metadata": {},
     "output_type": "display_data"
    },
    {
     "data": {
      "text/plain": [
       "['3045']"
      ]
     },
     "metadata": {},
     "output_type": "display_data"
    },
    {
     "data": {
      "text/plain": [
       "['6505', '2317', '2412', '1301', '2353']"
      ]
     },
     "metadata": {},
     "output_type": "display_data"
    },
    {
     "data": {
      "text/plain": [
       "[]"
      ]
     },
     "metadata": {},
     "output_type": "display_data"
    },
    {
     "data": {
      "text/plain": [
       "['6505']"
      ]
     },
     "metadata": {},
     "output_type": "display_data"
    },
    {
     "data": {
      "text/plain": [
       "['1101', '6505', '1402', '1301', '2801', '2886']"
      ]
     },
     "metadata": {},
     "output_type": "display_data"
    },
    {
     "data": {
      "text/plain": [
       "['2330', '2885', '1402', '2801', '1102']"
      ]
     },
     "metadata": {},
     "output_type": "display_data"
    },
    {
     "data": {
      "text/plain": [
       "['2308', '1102']"
      ]
     },
     "metadata": {},
     "output_type": "display_data"
    },
    {
     "data": {
      "text/plain": [
       "['2303', '1101', '2498', '1102']"
      ]
     },
     "metadata": {},
     "output_type": "display_data"
    },
    {
     "data": {
      "text/plain": [
       "['6505', '2412', '2382', '1301']"
      ]
     },
     "metadata": {},
     "output_type": "display_data"
    },
    {
     "data": {
      "text/plain": [
       "['3009', '1101', '2311', '2324']"
      ]
     },
     "metadata": {},
     "output_type": "display_data"
    },
    {
     "data": {
      "text/plain": [
       "['2412']"
      ]
     },
     "metadata": {},
     "output_type": "display_data"
    },
    {
     "data": {
      "text/plain": [
       "['2412', '4904']"
      ]
     },
     "metadata": {},
     "output_type": "display_data"
    },
    {
     "data": {
      "text/plain": [
       "['1101', '2303', '2308', '2880']"
      ]
     },
     "metadata": {},
     "output_type": "display_data"
    },
    {
     "data": {
      "text/plain": [
       "['2357', '2311', '2892', '2412']"
      ]
     },
     "metadata": {},
     "output_type": "display_data"
    },
    {
     "data": {
      "text/plain": [
       "['2412', '2382', '2002', '2324']"
      ]
     },
     "metadata": {},
     "output_type": "display_data"
    },
    {
     "data": {
      "text/plain": [
       "['2412', '1301', '1402']"
      ]
     },
     "metadata": {},
     "output_type": "display_data"
    },
    {
     "data": {
      "text/plain": [
       "['2882']"
      ]
     },
     "metadata": {},
     "output_type": "display_data"
    },
    {
     "data": {
      "text/plain": [
       "['2412', '2303']"
      ]
     },
     "metadata": {},
     "output_type": "display_data"
    },
    {
     "data": {
      "text/plain": [
       "[]"
      ]
     },
     "metadata": {},
     "output_type": "display_data"
    },
    {
     "data": {
      "text/plain": [
       "[]"
      ]
     },
     "metadata": {},
     "output_type": "display_data"
    },
    {
     "data": {
      "text/plain": [
       "['1216', '3474', '1722', '1303']"
      ]
     },
     "metadata": {},
     "output_type": "display_data"
    },
    {
     "data": {
      "text/plain": [
       "['1301']"
      ]
     },
     "metadata": {},
     "output_type": "display_data"
    },
    {
     "data": {
      "text/plain": [
       "['2498']"
      ]
     },
     "metadata": {},
     "output_type": "display_data"
    },
    {
     "data": {
      "text/plain": [
       "[]"
      ]
     },
     "metadata": {},
     "output_type": "display_data"
    },
    {
     "data": {
      "text/plain": [
       "['1216', '2317', '5854', '2324']"
      ]
     },
     "metadata": {},
     "output_type": "display_data"
    },
    {
     "data": {
      "text/plain": [
       "['3481', '2353']"
      ]
     },
     "metadata": {},
     "output_type": "display_data"
    },
    {
     "data": {
      "text/plain": [
       "['2330', '2498', '2357', '1402', '3231']"
      ]
     },
     "metadata": {},
     "output_type": "display_data"
    },
    {
     "data": {
      "text/plain": [
       "['5854', '2412', '3481']"
      ]
     },
     "metadata": {},
     "output_type": "display_data"
    },
    {
     "data": {
      "text/plain": [
       "['2357', '6505']"
      ]
     },
     "metadata": {},
     "output_type": "display_data"
    },
    {
     "data": {
      "text/plain": [
       "['2357', '1301', '1303']"
      ]
     },
     "metadata": {},
     "output_type": "display_data"
    },
    {
     "data": {
      "text/plain": [
       "['1101']"
      ]
     },
     "metadata": {},
     "output_type": "display_data"
    },
    {
     "data": {
      "text/plain": [
       "['2325', '1402']"
      ]
     },
     "metadata": {},
     "output_type": "display_data"
    },
    {
     "data": {
      "text/plain": [
       "['2412', '2498']"
      ]
     },
     "metadata": {},
     "output_type": "display_data"
    },
    {
     "data": {
      "text/plain": [
       "['2357', '2412', '2883']"
      ]
     },
     "metadata": {},
     "output_type": "display_data"
    },
    {
     "data": {
      "text/plain": [
       "['2357', '2412']"
      ]
     },
     "metadata": {},
     "output_type": "display_data"
    },
    {
     "data": {
      "text/plain": [
       "['2412']"
      ]
     },
     "metadata": {},
     "output_type": "display_data"
    },
    {
     "data": {
      "text/plain": [
       "['1216', '2324', '2801', '2357', '2412']"
      ]
     },
     "metadata": {},
     "output_type": "display_data"
    },
    {
     "data": {
      "text/plain": [
       "[]"
      ]
     },
     "metadata": {},
     "output_type": "display_data"
    },
    {
     "data": {
      "text/plain": [
       "['2330', '2105', '2357', '2454', '2317']"
      ]
     },
     "metadata": {},
     "output_type": "display_data"
    },
    {
     "data": {
      "text/plain": [
       "['2886', '1301', '1102', '2412', '2891']"
      ]
     },
     "metadata": {},
     "output_type": "display_data"
    },
    {
     "data": {
      "text/plain": [
       "['2412', '1301', '2324']"
      ]
     },
     "metadata": {},
     "output_type": "display_data"
    },
    {
     "data": {
      "text/plain": [
       "['2347', '1301', '2324']"
      ]
     },
     "metadata": {},
     "output_type": "display_data"
    },
    {
     "data": {
      "text/plain": [
       "['2357', '2308']"
      ]
     },
     "metadata": {},
     "output_type": "display_data"
    },
    {
     "data": {
      "text/plain": [
       "['2357', '2311', '1402']"
      ]
     },
     "metadata": {},
     "output_type": "display_data"
    },
    {
     "data": {
      "text/plain": [
       "['2105']"
      ]
     },
     "metadata": {},
     "output_type": "display_data"
    },
    {
     "data": {
      "text/plain": [
       "[]"
      ]
     },
     "metadata": {},
     "output_type": "display_data"
    },
    {
     "data": {
      "text/plain": [
       "['2891', '2207', '5880']"
      ]
     },
     "metadata": {},
     "output_type": "display_data"
    },
    {
     "data": {
      "text/plain": [
       "['2382']"
      ]
     },
     "metadata": {},
     "output_type": "display_data"
    },
    {
     "data": {
      "text/plain": [
       "['4904', '1326', '1301', '1402']"
      ]
     },
     "metadata": {},
     "output_type": "display_data"
    },
    {
     "data": {
      "text/plain": [
       "['2357']"
      ]
     },
     "metadata": {},
     "output_type": "display_data"
    },
    {
     "data": {
      "text/plain": [
       "['2357']"
      ]
     },
     "metadata": {},
     "output_type": "display_data"
    },
    {
     "data": {
      "text/plain": [
       "[]"
      ]
     },
     "metadata": {},
     "output_type": "display_data"
    },
    {
     "data": {
      "text/plain": [
       "[]"
      ]
     },
     "metadata": {},
     "output_type": "display_data"
    },
    {
     "data": {
      "text/plain": [
       "['6505']"
      ]
     },
     "metadata": {},
     "output_type": "display_data"
    },
    {
     "data": {
      "text/plain": [
       "['1216', '1402', '2412', '2890']"
      ]
     },
     "metadata": {},
     "output_type": "display_data"
    },
    {
     "data": {
      "text/plain": [
       "['2207']"
      ]
     },
     "metadata": {},
     "output_type": "display_data"
    },
    {
     "data": {
      "text/plain": [
       "['2308']"
      ]
     },
     "metadata": {},
     "output_type": "display_data"
    },
    {
     "data": {
      "text/plain": [
       "['2105', '2308']"
      ]
     },
     "metadata": {},
     "output_type": "display_data"
    },
    {
     "data": {
      "text/plain": [
       "['1216', '3008', '2357']"
      ]
     },
     "metadata": {},
     "output_type": "display_data"
    },
    {
     "data": {
      "text/plain": [
       "[]"
      ]
     },
     "metadata": {},
     "output_type": "display_data"
    },
    {
     "data": {
      "text/plain": [
       "['2317', '1301', '1303']"
      ]
     },
     "metadata": {},
     "output_type": "display_data"
    },
    {
     "data": {
      "text/plain": [
       "[]"
      ]
     },
     "metadata": {},
     "output_type": "display_data"
    },
    {
     "data": {
      "text/plain": [
       "['5880', '2301', '2357', '3697', '2886']"
      ]
     },
     "metadata": {},
     "output_type": "display_data"
    },
    {
     "data": {
      "text/plain": [
       "['2882']"
      ]
     },
     "metadata": {},
     "output_type": "display_data"
    },
    {
     "data": {
      "text/plain": [
       "['2357']"
      ]
     },
     "metadata": {},
     "output_type": "display_data"
    },
    {
     "data": {
      "text/plain": [
       "['1216', '2308', '2357']"
      ]
     },
     "metadata": {},
     "output_type": "display_data"
    },
    {
     "data": {
      "text/plain": [
       "[]"
      ]
     },
     "metadata": {},
     "output_type": "display_data"
    },
    {
     "data": {
      "text/plain": [
       "[]"
      ]
     },
     "metadata": {},
     "output_type": "display_data"
    },
    {
     "data": {
      "text/plain": [
       "['1216', '2498']"
      ]
     },
     "metadata": {},
     "output_type": "display_data"
    },
    {
     "data": {
      "text/plain": [
       "['5880']"
      ]
     },
     "metadata": {},
     "output_type": "display_data"
    },
    {
     "data": {
      "text/plain": [
       "['3474', '2498', '2886']"
      ]
     },
     "metadata": {},
     "output_type": "display_data"
    },
    {
     "data": {
      "text/plain": [
       "['2886']"
      ]
     },
     "metadata": {},
     "output_type": "display_data"
    },
    {
     "data": {
      "text/plain": [
       "['2382', '2886']"
      ]
     },
     "metadata": {},
     "output_type": "display_data"
    },
    {
     "data": {
      "text/plain": [
       "[]"
      ]
     },
     "metadata": {},
     "output_type": "display_data"
    },
    {
     "data": {
      "text/plain": [
       "['2207', '1402']"
      ]
     },
     "metadata": {},
     "output_type": "display_data"
    },
    {
     "data": {
      "text/plain": [
       "['2105', '2357']"
      ]
     },
     "metadata": {},
     "output_type": "display_data"
    },
    {
     "data": {
      "text/plain": [
       "['1216']"
      ]
     },
     "metadata": {},
     "output_type": "display_data"
    },
    {
     "data": {
      "text/plain": [
       "[]"
      ]
     },
     "metadata": {},
     "output_type": "display_data"
    },
    {
     "data": {
      "text/plain": [
       "['1216', '2303', '1402']"
      ]
     },
     "metadata": {},
     "output_type": "display_data"
    },
    {
     "data": {
      "text/plain": [
       "['2882', '2886', '2207']"
      ]
     },
     "metadata": {},
     "output_type": "display_data"
    },
    {
     "data": {
      "text/plain": [
       "['2474']"
      ]
     },
     "metadata": {},
     "output_type": "display_data"
    },
    {
     "data": {
      "text/plain": [
       "['1216', '2886']"
      ]
     },
     "metadata": {},
     "output_type": "display_data"
    },
    {
     "data": {
      "text/plain": [
       "['1216']"
      ]
     },
     "metadata": {},
     "output_type": "display_data"
    },
    {
     "data": {
      "text/plain": [
       "['2886']"
      ]
     },
     "metadata": {},
     "output_type": "display_data"
    },
    {
     "data": {
      "text/plain": [
       "['1216']"
      ]
     },
     "metadata": {},
     "output_type": "display_data"
    },
    {
     "data": {
      "text/plain": [
       "['1216']"
      ]
     },
     "metadata": {},
     "output_type": "display_data"
    },
    {
     "data": {
      "text/plain": [
       "['2325', '2207', '2882', '2886']"
      ]
     },
     "metadata": {},
     "output_type": "display_data"
    },
    {
     "data": {
      "text/plain": [
       "['1216', '3474', '2207', '2105']"
      ]
     },
     "metadata": {},
     "output_type": "display_data"
    },
    {
     "data": {
      "text/plain": [
       "[]"
      ]
     },
     "metadata": {},
     "output_type": "display_data"
    },
    {
     "data": {
      "text/plain": [
       "['2207']"
      ]
     },
     "metadata": {},
     "output_type": "display_data"
    },
    {
     "data": {
      "text/plain": [
       "[]"
      ]
     },
     "metadata": {},
     "output_type": "display_data"
    },
    {
     "data": {
      "text/plain": [
       "['1216', '2884', '2002', '2317', '2912']"
      ]
     },
     "metadata": {},
     "output_type": "display_data"
    },
    {
     "data": {
      "text/plain": [
       "['1216', '4938', '2912']"
      ]
     },
     "metadata": {},
     "output_type": "display_data"
    },
    {
     "data": {
      "text/plain": [
       "[]"
      ]
     },
     "metadata": {},
     "output_type": "display_data"
    },
    {
     "data": {
      "text/plain": [
       "[]"
      ]
     },
     "metadata": {},
     "output_type": "display_data"
    },
    {
     "data": {
      "text/plain": [
       "['1216', '2207', '4938', '2886']"
      ]
     },
     "metadata": {},
     "output_type": "display_data"
    },
    {
     "data": {
      "text/plain": [
       "['1216', '1101', '3008', '2885', '4938', '1303', '1402', '2303', '1326']"
      ]
     },
     "metadata": {},
     "output_type": "display_data"
    },
    {
     "data": {
      "text/plain": [
       "['2357', '2885', '2881', '1402']"
      ]
     },
     "metadata": {},
     "output_type": "display_data"
    },
    {
     "data": {
      "text/plain": [
       "['1402']"
      ]
     },
     "metadata": {},
     "output_type": "display_data"
    },
    {
     "data": {
      "text/plain": [
       "['1216']"
      ]
     },
     "metadata": {},
     "output_type": "display_data"
    },
    {
     "data": {
      "text/plain": [
       "[]"
      ]
     },
     "metadata": {},
     "output_type": "display_data"
    },
    {
     "data": {
      "text/plain": [
       "['2454', '2891', '2207']"
      ]
     },
     "metadata": {},
     "output_type": "display_data"
    },
    {
     "data": {
      "text/plain": [
       "['1216']"
      ]
     },
     "metadata": {},
     "output_type": "display_data"
    },
    {
     "data": {
      "text/plain": [
       "['1216', '1101']"
      ]
     },
     "metadata": {},
     "output_type": "display_data"
    },
    {
     "data": {
      "text/plain": [
       "['1216', '2883', '2912']"
      ]
     },
     "metadata": {},
     "output_type": "display_data"
    },
    {
     "data": {
      "text/plain": [
       "['2207', '2409']"
      ]
     },
     "metadata": {},
     "output_type": "display_data"
    },
    {
     "data": {
      "text/plain": [
       "['1216', '2207', '2886']"
      ]
     },
     "metadata": {},
     "output_type": "display_data"
    },
    {
     "data": {
      "text/plain": [
       "['1216', '2633', '4938', '6505', '2886']"
      ]
     },
     "metadata": {},
     "output_type": "display_data"
    },
    {
     "data": {
      "text/plain": [
       "['2801', '2886', '1402']"
      ]
     },
     "metadata": {},
     "output_type": "display_data"
    },
    {
     "data": {
      "text/plain": [
       "['2454']"
      ]
     },
     "metadata": {},
     "output_type": "display_data"
    },
    {
     "data": {
      "text/plain": [
       "['2207', '1402']"
      ]
     },
     "metadata": {},
     "output_type": "display_data"
    },
    {
     "data": {
      "text/plain": [
       "['2454', '2884']"
      ]
     },
     "metadata": {},
     "output_type": "display_data"
    },
    {
     "data": {
      "text/plain": [
       "['2885', '2884']"
      ]
     },
     "metadata": {},
     "output_type": "display_data"
    },
    {
     "data": {
      "text/plain": [
       "[]"
      ]
     },
     "metadata": {},
     "output_type": "display_data"
    },
    {
     "data": {
      "text/plain": [
       "['2884', '2207', '2002', '2395', '2327', '2886']"
      ]
     },
     "metadata": {},
     "output_type": "display_data"
    },
    {
     "data": {
      "text/plain": [
       "[]"
      ]
     },
     "metadata": {},
     "output_type": "display_data"
    },
    {
     "data": {
      "text/plain": [
       "['2891', '2409', '2886']"
      ]
     },
     "metadata": {},
     "output_type": "display_data"
    },
    {
     "data": {
      "text/plain": [
       "['1101', '2885', '2886']"
      ]
     },
     "metadata": {},
     "output_type": "display_data"
    },
    {
     "data": {
      "text/plain": [
       "['2886', '2492']"
      ]
     },
     "metadata": {},
     "output_type": "display_data"
    },
    {
     "data": {
      "text/plain": [
       "['1101', '2409', '2105', '2207', '4938', '2890', '2886']"
      ]
     },
     "metadata": {},
     "output_type": "display_data"
    },
    {
     "data": {
      "text/plain": [
       "['2105', '1402']"
      ]
     },
     "metadata": {},
     "output_type": "display_data"
    },
    {
     "data": {
      "text/plain": [
       "['2105', '2887', '2885', '2884']"
      ]
     },
     "metadata": {},
     "output_type": "display_data"
    },
    {
     "data": {
      "text/plain": [
       "['2890']"
      ]
     },
     "metadata": {},
     "output_type": "display_data"
    },
    {
     "data": {
      "text/plain": [
       "[]"
      ]
     },
     "metadata": {},
     "output_type": "display_data"
    },
    {
     "data": {
      "text/plain": [
       "['2887', '1101', '2207', '2884']"
      ]
     },
     "metadata": {},
     "output_type": "display_data"
    },
    {
     "data": {
      "text/plain": [
       "['2207']"
      ]
     },
     "metadata": {},
     "output_type": "display_data"
    },
    {
     "data": {
      "text/plain": [
       "['1101', '2884', '2207', '2890', '2887', '2880']"
      ]
     },
     "metadata": {},
     "output_type": "display_data"
    },
    {
     "data": {
      "text/plain": [
       "['2317', '2887', '4938', '2884']"
      ]
     },
     "metadata": {},
     "output_type": "display_data"
    },
    {
     "data": {
      "text/plain": [
       "['2890']"
      ]
     },
     "metadata": {},
     "output_type": "display_data"
    },
    {
     "data": {
      "text/plain": [
       "['2884', '2408', '2890', '2303', '2317', '2887']"
      ]
     },
     "metadata": {},
     "output_type": "display_data"
    },
    {
     "data": {
      "text/plain": [
       "['1216', '2454', '2890']"
      ]
     },
     "metadata": {},
     "output_type": "display_data"
    },
    {
     "data": {
      "text/plain": [
       "['2105', '4938', '2408', '2890', '2887']"
      ]
     },
     "metadata": {},
     "output_type": "display_data"
    },
    {
     "data": {
      "text/plain": [
       "['2887', '2823', '3008', '2885', '4938', '2317', '2303', '2880']"
      ]
     },
     "metadata": {},
     "output_type": "display_data"
    },
    {
     "data": {
      "text/plain": [
       "[]"
      ]
     },
     "metadata": {},
     "output_type": "display_data"
    },
    {
     "data": {
      "text/plain": [
       "['2885', '2890']"
      ]
     },
     "metadata": {},
     "output_type": "display_data"
    },
    {
     "data": {
      "text/plain": [
       "[]"
      ]
     },
     "metadata": {},
     "output_type": "display_data"
    },
    {
     "data": {
      "text/plain": [
       "['2885', '2890', '2454', '2887', '1301']"
      ]
     },
     "metadata": {},
     "output_type": "display_data"
    },
    {
     "data": {
      "text/plain": [
       "[]"
      ]
     },
     "metadata": {},
     "output_type": "display_data"
    },
    {
     "data": {
      "text/plain": [
       "['1101']"
      ]
     },
     "metadata": {},
     "output_type": "display_data"
    },
    {
     "data": {
      "text/plain": [
       "[]"
      ]
     },
     "metadata": {},
     "output_type": "display_data"
    },
    {
     "data": {
      "text/plain": [
       "[]"
      ]
     },
     "metadata": {},
     "output_type": "display_data"
    },
    {
     "data": {
      "text/plain": [
       "['5880', '2408', '2308', '2317', '2887']"
      ]
     },
     "metadata": {},
     "output_type": "display_data"
    },
    {
     "data": {
      "text/plain": [
       "['2454']"
      ]
     },
     "metadata": {},
     "output_type": "display_data"
    },
    {
     "data": {
      "text/plain": [
       "['2395', '4938']"
      ]
     },
     "metadata": {},
     "output_type": "display_data"
    },
    {
     "data": {
      "text/plain": [
       "['2474', '2207', '2881', '1303', '2887']"
      ]
     },
     "metadata": {},
     "output_type": "display_data"
    },
    {
     "data": {
      "text/plain": [
       "[]"
      ]
     },
     "metadata": {},
     "output_type": "display_data"
    },
    {
     "data": {
      "text/plain": [
       "[]"
      ]
     },
     "metadata": {},
     "output_type": "display_data"
    },
    {
     "data": {
      "text/plain": [
       "['2317', '2303', '2454']"
      ]
     },
     "metadata": {},
     "output_type": "display_data"
    },
    {
     "data": {
      "text/plain": [
       "[]"
      ]
     },
     "metadata": {},
     "output_type": "display_data"
    },
    {
     "data": {
      "text/plain": [
       "[]"
      ]
     },
     "metadata": {},
     "output_type": "display_data"
    },
    {
     "data": {
      "text/plain": [
       "['2207', '4938']"
      ]
     },
     "metadata": {},
     "output_type": "display_data"
    },
    {
     "data": {
      "text/plain": [
       "['1216', '6669']"
      ]
     },
     "metadata": {},
     "output_type": "display_data"
    },
    {
     "data": {
      "text/plain": [
       "['1216', '2409', '1402']"
      ]
     },
     "metadata": {},
     "output_type": "display_data"
    },
    {
     "data": {
      "text/plain": [
       "['1216', '2409', '1402']"
      ]
     },
     "metadata": {},
     "output_type": "display_data"
    }
   ],
   "source": [
    "N = 2\n",
    "K = 10 #均線長度\n",
    "fee = 1.425/1000 * 0.6 #手續費\n",
    "tax = 3/1000 #交易稅\n",
    "retrun_series = pd.Series([1], [選股日期[0]]) #儲存回測結果\n",
    "tickers_record = [] #儲存選到的股票\n",
    "\n",
    "for i in range(len(選股日期)):\n",
    "    日期 = 選股日期[i]\n",
    "    #print(日期)\n",
    "    \n",
    "    # 準備資料\n",
    "    當期市場別 = 市場別.loc[:日期].iloc[-1].dropna() # loc[:日期].iloc[-1]選到這個日期前所有可以看到資料中的最後一筆，然後drop掉na\n",
    "    當期市值 = 市值.loc[:日期].iloc[-1].dropna()\n",
    "    均線 = 收盤價.loc[:日期].iloc[-K:].mean().dropna() # k日均線(取當前可以看到資料的最後k筆的平均)\n",
    "    均線2 = 收盤價.loc[:日期].iloc[-K*2:].mean().dropna()\n",
    "    前N期董監持股 = 董監持股.loc[:日期][-N:] # 倒數兩次的持股比例\n",
    "    董監持股成長率 = 前N期董監持股.iloc[-1] / 前N期董監持股.iloc[-2] - 1\n",
    "    董監持股成長率 = 董監持股成長率.dropna() #把沒有值的drop掉\n",
    "    資料齊全的股票 = list(set(董監持股成長率.index) & set(當期市值.index) & set(當期市場別.index))\n",
    "    \n",
    "    # 增加篩選條件\n",
    "    condition_1 = Condition(當期市場別, \"equal\", \"TSE\")  #條件: 上市股票\n",
    "    condition_2 = Condition(當期市值, \"rank_high_pct\", 0.05) #條件: 市值前5%\n",
    "    condition_3 = Condition(董監持股成長率, \"compare_high\", 0)#條件: 董監持股成長率>0\n",
    "    condition_4 = Condition(均線, \"compare_high\", 均線2) #條件: 10日均>20日\n",
    "    \n",
    "    condition_blocks = ConditionBlocks()\n",
    "    condition_blocks.add_condition(condition_1)\n",
    "    condition_blocks.add_condition(ConditionAnd([condition_2, condition_3, condition_4])) #2、3、4條件都成立\n",
    "    tickers = condition_blocks.build()\n",
    "    tickers_record.extend(tickers)  #選好了要交易的股票了\n",
    "    display(tickers)\n",
    "    \n",
    "    if i != len(選股日期) - 1:\n",
    "        收盤價資料 = 收盤價.loc[選股後一日[i]:選股日期[i+1]] #如果不是最後一次選股日期，收盤價=選股後一日到下一次選股\n",
    "\n",
    "    else:\n",
    "        收盤價資料 = 收盤價.loc[選股後一日[i]:回測最後一日]\n",
    "\n",
    "    if len(tickers) != 0:  #有選出股票的情況下\n",
    "        收盤價資料 = 收盤價資料[tickers]    \n",
    "        選股日報酬 = 收盤價資料.pct_change().dropna(how = \"all\", axis = 0).fillna(0) #NA值用0補起來\n",
    "        \n",
    "        if len(選股日報酬) != 0:  # 不是選股日報酬=0(選到後隔天下市)\n",
    "            選股日報酬.iloc[0] = 選股日報酬.iloc[0] - fee\n",
    "            選股日報酬.iloc[-1] = 選股日報酬.iloc[-1] - fee - tax  #扣手續費和稅\n",
    "            區間累積報酬 = (選股日報酬 + 1).cumprod().mean(axis = 1)  # 累乘後再取平均\n",
    "            \n",
    "    else:\n",
    "        區間累積報酬 = pd.Series(1, 收盤價資料.index) #沒選到股票的話是 一串1\n",
    "        \n",
    "    retrun_series = pd.concat([retrun_series, 區間累積報酬*retrun_series.iloc[-1]]) #接上RETURN SERIES後面，因為是累積報酬的序列，要乘上累積報酬的最後一個值\n",
    "            \n",
    "tickers_record = dict(collections.Counter(tickers_record)) #算說每個ticker出現的次數，轉換成dictionary\n",
    "tickers_record = dict(sorted(tickers_record.items(), key=lambda x: x[1], reverse=True)) #再去把dictionary做排序，次數越高在dictionary的順序越前面\n"
   ]
  },
  {
   "cell_type": "code",
   "execution_count": 61,
   "metadata": {},
   "outputs": [
    {
     "data": {
      "text/plain": [
       "['1216', '2409', '1402']"
      ]
     },
     "metadata": {},
     "output_type": "display_data"
    }
   ],
   "source": [
    "display(tickers)"
   ]
  },
  {
   "cell_type": "markdown",
   "metadata": {},
   "source": [
    "# 畫圖"
   ]
  },
  {
   "cell_type": "code",
   "execution_count": 28,
   "metadata": {},
   "outputs": [],
   "source": [
    "benckmark_return = 收盤價[\"50\"].pct_change() #0050收盤價的日報酬\n",
    "benckmark = (benckmark_return[retrun_series.index[0]: retrun_series.index[-1]] + 1).cumprod() #把回測區間的日報酬取出來，加1後做累乘\n",
    "benckmark.index.name = \"Date\" #原本是\"年月日\"，對圖可能不好"
   ]
  },
  {
   "cell_type": "code",
   "execution_count": 29,
   "metadata": {},
   "outputs": [],
   "source": [
    "# Calculating drawdown 回檔(淨值從最高點的滑落程度)\n",
    "dd = retrun_series/retrun_series.cummax() - 1 #return_series除以過程中的累積最大值\n",
    "dd_benckmark = benckmark/benckmark.cummax() - 1"
   ]
  },
  {
   "cell_type": "code",
   "execution_count": 30,
   "metadata": {},
   "outputs": [
    {
     "data": {
      "image/png": "[encoded data removed]",
      "text/plain": [
       "<Figure size 1152x720 with 2 Axes>"
      ]
     },
     "metadata": {
      "needs_background": "light"
     },
     "output_type": "display_data"
    }
   ],
   "source": [
    "# Plotting results\n",
    "fig, ax = plt.subplots(2, 1)\n",
    "retrun_series.plot(figsize = (16, 10), label = \"Stratrgy\", ax = ax[0]) # ax = ax[0]:上半部的區塊\n",
    "benckmark.plot(label = \"Benckmark\", ax = ax[0])\n",
    "\n",
    "dd.plot(figsize = (16, 10), label = \"Stratrgy\", ax = ax[1])\n",
    "dd_benckmark.plot(label = \"Benckmark\", ax = ax[1])\n",
    "ax[0].set_title(\"Cumulative Returns\")\n",
    "ax[1].set_title(\"Drawdown\")\n",
    "ax[0].legend()\n",
    "ax[1].legend()\n",
    "plt.tight_layout()\n",
    "plt.show()"
   ]
  },
  {
   "cell_type": "markdown",
   "metadata": {},
   "source": [
    "# 分析績效"
   ]
  },
  {
   "cell_type": "code",
   "execution_count": 31,
   "metadata": {},
   "outputs": [],
   "source": [
    "def Performance(cumulative_returns):\n",
    "    returns = cumulative_returns.pct_change().dropna() #日報酬\n",
    "    total_return = cumulative_returns[-1] - 1          #總報酬(最後一個數字減1)\n",
    "    total_days = (cumulative_returns.index[-1] - cumulative_returns.index[0]).days #index前面一個數值-最後一個數值\n",
    "    annualized_return = (total_return + 1)**(365/total_days) - 1  #年化的報酬\n",
    "    mean = returns.mean()\n",
    "    std = returns.std()\n",
    "    annualized_volatility = std*np.sqrt(260)  #日標準差*根號260 (260為交易天數)\n",
    "    annualized_sharpe = mean/std*np.sqrt(260)  #日平均報酬/日標準差*根號260\n",
    "    mdd = (cumulative_returns/cumulative_returns.cummax() - 1).min()  #最大交易回落 Max drawdown (MDD)\n",
    "    \n",
    "    return [total_return*100, annualized_return*100, annualized_volatility, annualized_sharpe, mdd*100]  # *100為百分比"
   ]
  },
  {
   "cell_type": "code",
   "execution_count": 32,
   "metadata": {},
   "outputs": [],
   "source": [
    "p1 = Performance(retrun_series)\n",
    "p2 = Performance(benckmark)\n",
    "\n",
    "performance = pd.DataFrame([p1, p2])\n",
    "performance.columns =  [\"Total Return(%)\", \"Annualized Return(%)\", \"Annualized Volatility\", \"Sharpe Ratio\", \"MDD(%)\"]\n",
    "performance.index = [\"Stratrgy\", \"Benckmark\"]"
   ]
  },
  {
   "cell_type": "code",
   "execution_count": 33,
   "metadata": {},
   "outputs": [
    {
     "data": {
      "text/html": [
       "<div>\n",
       "<style scoped>\n",
       "    .dataframe tbody tr th:only-of-type {\n",
       "        vertical-align: middle;\n",
       "    }\n",
       "\n",
       "    .dataframe tbody tr th {\n",
       "        vertical-align: top;\n",
       "    }\n",
       "\n",
       "    .dataframe thead th {\n",
       "        text-align: right;\n",
       "    }\n",
       "</style>\n",
       "<table border=\"1\" class=\"dataframe\">\n",
       "  <thead>\n",
       "    <tr style=\"text-align: right;\">\n",
       "      <th></th>\n",
       "      <th>Total Return(%)</th>\n",
       "      <th>Annualized Return(%)</th>\n",
       "      <th>Annualized Volatility</th>\n",
       "      <th>Sharpe Ratio</th>\n",
       "      <th>MDD(%)</th>\n",
       "    </tr>\n",
       "  </thead>\n",
       "  <tbody>\n",
       "    <tr>\n",
       "      <th>Stratrgy</th>\n",
       "      <td>879.441964</td>\n",
       "      <td>17.255614</td>\n",
       "      <td>0.216268</td>\n",
       "      <td>0.916336</td>\n",
       "      <td>-28.912881</td>\n",
       "    </tr>\n",
       "    <tr>\n",
       "      <th>Benckmark</th>\n",
       "      <td>260.220354</td>\n",
       "      <td>9.352287</td>\n",
       "      <td>0.203979</td>\n",
       "      <td>0.567018</td>\n",
       "      <td>-55.752792</td>\n",
       "    </tr>\n",
       "  </tbody>\n",
       "</table>\n",
       "</div>"
      ],
      "text/plain": [
       "           Total Return(%)  Annualized Return(%)  Annualized Volatility  \\\n",
       "Stratrgy        879.441964             17.255614               0.216268   \n",
       "Benckmark       260.220354              9.352287               0.203979   \n",
       "\n",
       "           Sharpe Ratio     MDD(%)  \n",
       "Stratrgy       0.916336 -28.912881  \n",
       "Benckmark      0.567018 -55.752792  "
      ]
     },
     "execution_count": 33,
     "metadata": {},
     "output_type": "execute_result"
    }
   ],
   "source": [
    "performance"
   ]
  },
  {
   "cell_type": "code",
   "execution_count": 34,
   "metadata": {},
   "outputs": [
    {
     "data": {
      "image/png": "[encoded data removed]",
      "text/plain": [
       "<Figure size 1728x864 with 1 Axes>"
      ]
     },
     "metadata": {
      "needs_background": "light"
     },
     "output_type": "display_data"
    }
   ],
   "source": [
    "#要看我們的績效是不是都來自某一檔股票\n",
    "names = list(tickers_record.keys())  #tickers_record.keys()取出股票代碼\n",
    "values = list(tickers_record.values()) #.values代表它被選到了幾次\n",
    "\n",
    "top = 0.3\n",
    "num = int(len(names) * top)\n",
    "plt.bar(range(num), values[:num], tick_label=names[:num])\n",
    "plt.tight_layout()\n",
    "plt.show()"
   ]
  },
  {
   "cell_type": "code",
   "execution_count": 35,
   "metadata": {},
   "outputs": [],
   "source": [
    "#如果選不到1216統一企業的話，績效會不會還是不錯?\n",
    "#回去把統一的收盤價drop掉後，再全部跑一次\n",
    "收盤價 = 收盤價.drop([\"1216\"], axis=1)\n",
    "\n",
    "#=> 沒有統一並沒有影響太多"
   ]
  },
  {
   "cell_type": "code",
   "execution_count": null,
   "metadata": {},
   "outputs": [],
   "source": []
  },
  {
   "cell_type": "code",
   "execution_count": null,
   "metadata": {},
   "outputs": [],
   "source": []
  }
 ],
 "metadata": {
  "kernelspec": {
   "display_name": "Python 3",
   "language": "python",
   "name": "python3"
  },
  "language_info": {
   "codemirror_mode": {
    "name": "ipython",
    "version": 3
   },
   "file_extension": ".py",
   "mimetype": "text/x-python",
   "name": "python",
   "nbconvert_exporter": "python",
   "pygments_lexer": "ipython3",
   "version": "3.8.5"
  }
 },
 "nbformat": 4,
 "nbformat_minor": 5
}
