{
 "cells": [
  {
   "cell_type": "code",
   "execution_count": 29,
   "metadata": {},
   "outputs": [],
   "source": [
    "import numpy as np\n",
    "import pandas as pd\n",
    "import collections\n",
    "import datetime\n",
    "import matplotlib.pyplot as plt\n",
    "import talib\n",
    "\n",
    "plt.rcParams['figure.figsize'] = (24, 12)"
   ]
  },
  {
   "cell_type": "code",
   "execution_count": 30,
   "metadata": {},
   "outputs": [],
   "source": [
    "市值 = pd.read_csv(\"TEJ_調整後股價資料//市值(百萬元).csv\") #TEJ_調整後股價資料 (剛剛TEJ_資料整理 整理的資料夾)\n",
    "市值['年月日'] = pd.to_datetime(市值['年月日'])\n",
    "市值 = 市值.set_index('年月日')"
   ]
  },
  {
   "cell_type": "code",
   "execution_count": 31,
   "metadata": {},
   "outputs": [],
   "source": [
    "收盤價 = pd.read_csv(\"TEJ_調整後股價資料//收盤價(元).csv\")\n",
    "收盤價['年月日'] = pd.to_datetime(收盤價['年月日'])\n",
    "收盤價 = 收盤價.set_index('年月日')"
   ]
  },
  {
   "cell_type": "code",
   "execution_count": 32,
   "metadata": {},
   "outputs": [],
   "source": [
    "市場別 = pd.read_csv(\"TEJ_調整後股價資料//市場別.csv\", low_memory=False)\n",
    "市場別['年月日'] = pd.to_datetime(市場別['年月日'])\n",
    "市場別 = 市場別.set_index('年月日')\n",
    "市場別 = 市場別.apply(lambda x: x.str.strip()) # x.str.strip()把一個字串前後的空白都拿掉"
   ]
  },
  {
   "cell_type": "code",
   "execution_count": 69,
   "metadata": {},
   "outputs": [],
   "source": [
    "本益比 = pd.read_csv(\"TEJ_調整後股價資料//本益比-TSE.csv\", low_memory=False)\n",
    "本益比['年月日'] = pd.to_datetime(本益比['年月日'])\n",
    "本益比 = 本益比.set_index('年月日')"
   ]
  },
  {
   "cell_type": "code",
   "execution_count": 72,
   "metadata": {},
   "outputs": [
    {
     "name": "stdout",
     "output_type": "stream",
     "text": [
      "<class 'pandas.core.frame.DataFrame'>\n",
      "DatetimeIndex: 4105 entries, 2005-01-03 to 2021-08-20\n",
      "Columns: 2031 entries, 50 to 916665\n",
      "dtypes: float64(2031)\n",
      "memory usage: 63.6 MB\n"
     ]
    }
   ],
   "source": [
    "本益比.info()"
   ]
  },
  {
   "cell_type": "code",
   "execution_count": 71,
   "metadata": {},
   "outputs": [],
   "source": [
    "#本益比.convert_objects(convert_numeric=True)\n",
    "for i in 本益比.columns:\n",
    "    本益比[i] = pd.to_numeric(本益比[i], errors='coerce')"
   ]
  },
  {
   "cell_type": "code",
   "execution_count": 64,
   "metadata": {},
   "outputs": [
    {
     "data": {
      "text/plain": [
       "Index(['50', '51', '1101', '1102', '1103', '1104', '1107', '1108', '1109',\n",
       "       '1110',\n",
       "       ...\n",
       "       '911613', '911616', '911619', '911622', '911626', '911868', '912000',\n",
       "       '912398', '913889', '916665'],\n",
       "      dtype='object', length=2031)"
      ]
     },
     "execution_count": 64,
     "metadata": {},
     "output_type": "execute_result"
    }
   ],
   "source": [
    "本益比.columns"
   ]
  },
  {
   "cell_type": "code",
   "execution_count": 65,
   "metadata": {},
   "outputs": [
    {
     "data": {
      "text/plain": [
       "13.66"
      ]
     },
     "execution_count": 65,
     "metadata": {},
     "output_type": "execute_result"
    }
   ],
   "source": [
    "本益比.iloc[4][4]"
   ]
  },
  {
   "cell_type": "code",
   "execution_count": 66,
   "metadata": {},
   "outputs": [
    {
     "name": "stdout",
     "output_type": "stream",
     "text": [
      "18.66\n"
     ]
    }
   ],
   "source": [
    "print(本益比.iloc[4][4]+5)"
   ]
  },
  {
   "cell_type": "code",
   "execution_count": 67,
   "metadata": {},
   "outputs": [
    {
     "data": {
      "text/html": [
       "<div>\n",
       "<style scoped>\n",
       "    .dataframe tbody tr th:only-of-type {\n",
       "        vertical-align: middle;\n",
       "    }\n",
       "\n",
       "    .dataframe tbody tr th {\n",
       "        vertical-align: top;\n",
       "    }\n",
       "\n",
       "    .dataframe thead th {\n",
       "        text-align: right;\n",
       "    }\n",
       "</style>\n",
       "<table border=\"1\" class=\"dataframe\">\n",
       "  <thead>\n",
       "    <tr style=\"text-align: right;\">\n",
       "      <th></th>\n",
       "      <th>50</th>\n",
       "      <th>51</th>\n",
       "      <th>1101</th>\n",
       "      <th>1102</th>\n",
       "      <th>1103</th>\n",
       "      <th>1104</th>\n",
       "      <th>1107</th>\n",
       "      <th>1108</th>\n",
       "      <th>1109</th>\n",
       "      <th>1110</th>\n",
       "      <th>...</th>\n",
       "      <th>911613</th>\n",
       "      <th>911616</th>\n",
       "      <th>911619</th>\n",
       "      <th>911622</th>\n",
       "      <th>911626</th>\n",
       "      <th>911868</th>\n",
       "      <th>912000</th>\n",
       "      <th>912398</th>\n",
       "      <th>913889</th>\n",
       "      <th>916665</th>\n",
       "    </tr>\n",
       "    <tr>\n",
       "      <th>年月日</th>\n",
       "      <th></th>\n",
       "      <th></th>\n",
       "      <th></th>\n",
       "      <th></th>\n",
       "      <th></th>\n",
       "      <th></th>\n",
       "      <th></th>\n",
       "      <th></th>\n",
       "      <th></th>\n",
       "      <th></th>\n",
       "      <th></th>\n",
       "      <th></th>\n",
       "      <th></th>\n",
       "      <th></th>\n",
       "      <th></th>\n",
       "      <th></th>\n",
       "      <th></th>\n",
       "      <th></th>\n",
       "      <th></th>\n",
       "      <th></th>\n",
       "      <th></th>\n",
       "    </tr>\n",
       "  </thead>\n",
       "  <tbody>\n",
       "    <tr>\n",
       "      <th>2005-01-03</th>\n",
       "      <td>0.0</td>\n",
       "      <td>NaN</td>\n",
       "      <td>16.59</td>\n",
       "      <td>7.57</td>\n",
       "      <td>14.54</td>\n",
       "      <td>10.39</td>\n",
       "      <td>0.0</td>\n",
       "      <td>7.12</td>\n",
       "      <td>10.48</td>\n",
       "      <td>12.27</td>\n",
       "      <td>...</td>\n",
       "      <td>NaN</td>\n",
       "      <td>NaN</td>\n",
       "      <td>NaN</td>\n",
       "      <td>NaN</td>\n",
       "      <td>NaN</td>\n",
       "      <td>NaN</td>\n",
       "      <td>NaN</td>\n",
       "      <td>NaN</td>\n",
       "      <td>NaN</td>\n",
       "      <td>NaN</td>\n",
       "    </tr>\n",
       "    <tr>\n",
       "      <th>2005-01-04</th>\n",
       "      <td>0.0</td>\n",
       "      <td>NaN</td>\n",
       "      <td>16.36</td>\n",
       "      <td>7.40</td>\n",
       "      <td>14.35</td>\n",
       "      <td>10.08</td>\n",
       "      <td>0.0</td>\n",
       "      <td>7.04</td>\n",
       "      <td>10.34</td>\n",
       "      <td>12.07</td>\n",
       "      <td>...</td>\n",
       "      <td>NaN</td>\n",
       "      <td>NaN</td>\n",
       "      <td>NaN</td>\n",
       "      <td>NaN</td>\n",
       "      <td>NaN</td>\n",
       "      <td>NaN</td>\n",
       "      <td>NaN</td>\n",
       "      <td>NaN</td>\n",
       "      <td>NaN</td>\n",
       "      <td>NaN</td>\n",
       "    </tr>\n",
       "    <tr>\n",
       "      <th>2005-01-05</th>\n",
       "      <td>0.0</td>\n",
       "      <td>NaN</td>\n",
       "      <td>16.28</td>\n",
       "      <td>7.30</td>\n",
       "      <td>14.26</td>\n",
       "      <td>10.00</td>\n",
       "      <td>0.0</td>\n",
       "      <td>6.86</td>\n",
       "      <td>10.14</td>\n",
       "      <td>11.80</td>\n",
       "      <td>...</td>\n",
       "      <td>NaN</td>\n",
       "      <td>NaN</td>\n",
       "      <td>NaN</td>\n",
       "      <td>NaN</td>\n",
       "      <td>NaN</td>\n",
       "      <td>NaN</td>\n",
       "      <td>NaN</td>\n",
       "      <td>NaN</td>\n",
       "      <td>NaN</td>\n",
       "      <td>NaN</td>\n",
       "    </tr>\n",
       "    <tr>\n",
       "      <th>2005-01-06</th>\n",
       "      <td>0.0</td>\n",
       "      <td>NaN</td>\n",
       "      <td>16.12</td>\n",
       "      <td>7.27</td>\n",
       "      <td>14.17</td>\n",
       "      <td>10.12</td>\n",
       "      <td>0.0</td>\n",
       "      <td>6.82</td>\n",
       "      <td>10.48</td>\n",
       "      <td>11.73</td>\n",
       "      <td>...</td>\n",
       "      <td>NaN</td>\n",
       "      <td>NaN</td>\n",
       "      <td>NaN</td>\n",
       "      <td>NaN</td>\n",
       "      <td>NaN</td>\n",
       "      <td>NaN</td>\n",
       "      <td>NaN</td>\n",
       "      <td>NaN</td>\n",
       "      <td>NaN</td>\n",
       "      <td>NaN</td>\n",
       "    </tr>\n",
       "    <tr>\n",
       "      <th>2005-01-07</th>\n",
       "      <td>0.0</td>\n",
       "      <td>NaN</td>\n",
       "      <td>15.50</td>\n",
       "      <td>7.13</td>\n",
       "      <td>13.66</td>\n",
       "      <td>10.16</td>\n",
       "      <td>0.0</td>\n",
       "      <td>6.79</td>\n",
       "      <td>10.58</td>\n",
       "      <td>11.60</td>\n",
       "      <td>...</td>\n",
       "      <td>NaN</td>\n",
       "      <td>NaN</td>\n",
       "      <td>NaN</td>\n",
       "      <td>NaN</td>\n",
       "      <td>NaN</td>\n",
       "      <td>NaN</td>\n",
       "      <td>NaN</td>\n",
       "      <td>NaN</td>\n",
       "      <td>NaN</td>\n",
       "      <td>NaN</td>\n",
       "    </tr>\n",
       "  </tbody>\n",
       "</table>\n",
       "<p>5 rows × 2031 columns</p>\n",
       "</div>"
      ],
      "text/plain": [
       "             50  51   1101  1102   1103   1104  1107  1108   1109   1110  ...  \\\n",
       "年月日                                                                       ...   \n",
       "2005-01-03  0.0 NaN  16.59  7.57  14.54  10.39   0.0  7.12  10.48  12.27  ...   \n",
       "2005-01-04  0.0 NaN  16.36  7.40  14.35  10.08   0.0  7.04  10.34  12.07  ...   \n",
       "2005-01-05  0.0 NaN  16.28  7.30  14.26  10.00   0.0  6.86  10.14  11.80  ...   \n",
       "2005-01-06  0.0 NaN  16.12  7.27  14.17  10.12   0.0  6.82  10.48  11.73  ...   \n",
       "2005-01-07  0.0 NaN  15.50  7.13  13.66  10.16   0.0  6.79  10.58  11.60  ...   \n",
       "\n",
       "            911613  911616  911619  911622  911626  911868  912000  912398  \\\n",
       "年月日                                                                          \n",
       "2005-01-03     NaN     NaN     NaN     NaN     NaN     NaN     NaN     NaN   \n",
       "2005-01-04     NaN     NaN     NaN     NaN     NaN     NaN     NaN     NaN   \n",
       "2005-01-05     NaN     NaN     NaN     NaN     NaN     NaN     NaN     NaN   \n",
       "2005-01-06     NaN     NaN     NaN     NaN     NaN     NaN     NaN     NaN   \n",
       "2005-01-07     NaN     NaN     NaN     NaN     NaN     NaN     NaN     NaN   \n",
       "\n",
       "            913889  916665  \n",
       "年月日                         \n",
       "2005-01-03     NaN     NaN  \n",
       "2005-01-04     NaN     NaN  \n",
       "2005-01-05     NaN     NaN  \n",
       "2005-01-06     NaN     NaN  \n",
       "2005-01-07     NaN     NaN  \n",
       "\n",
       "[5 rows x 2031 columns]"
      ]
     },
     "execution_count": 67,
     "metadata": {},
     "output_type": "execute_result"
    }
   ],
   "source": [
    "本益比.head()"
   ]
  },
  {
   "cell_type": "code",
   "execution_count": 8,
   "metadata": {},
   "outputs": [],
   "source": [
    "董監持股 = pd.read_csv(\"TEJ_董監_經理人持股//董監持股%.csv\")\n",
    "董監持股['年月日'] = pd.to_datetime(董監持股['年月日'])\n",
    "董監持股 = 董監持股.set_index('年月日')\n",
    "董監持股.columns = 董監持股.columns.str.strip() #用strip()把column後面的空白拿掉\n",
    "董監持股 = 董監持股.shift(1).dropna(how = \"all\", axis = 0) #更改成確定會知道持股數值的日期，因為是下一個月才知道，往後shift(把1/1的值到2/1)，並把第一個row drop掉\n",
    "董監持股.index = 董監持股.index + datetime.timedelta(14) #把index加上14天(因為下個月15號慈才會公布)"
   ]
  },
  {
   "cell_type": "markdown",
   "metadata": {},
   "source": [
    "# 預設選股日期\n",
    "### 定在每個月的16號(15號一定會知道董監事持股)"
   ]
  },
  {
   "cell_type": "code",
   "execution_count": 9,
   "metadata": {},
   "outputs": [],
   "source": [
    "選股日期 = pd.date_range(\"2007-01-01\", \"2021-04-01\", freq = \"MS\") + datetime.timedelta(15) #起始2007-2021 多久一次:MS(Month的第一天)，再加15天\n",
    "選股前一日 = 選股日期 - datetime.timedelta(1)\n",
    "選股後一日 = 選股日期 + datetime.timedelta(1)\n",
    "回測最後一日 = pd.to_datetime(\"2021-05-15\") #4/16加一個月"
   ]
  },
  {
   "cell_type": "markdown",
   "metadata": {},
   "source": [
    "# 邏輯磚塊"
   ]
  },
  {
   "cell_type": "code",
   "execution_count": 10,
   "metadata": {},
   "outputs": [],
   "source": [
    "class Condition:\n",
    "    def __init__(self, data, condition_type, threshold): #condition_type, threshold 條件的種類和門檻\n",
    "        self.data = data\n",
    "        self.condition_type = condition_type\n",
    "        self.threshold = threshold\n",
    "        \n",
    "        #每檔股票的門檻值都一樣 or 每檔股票的門檻都不一樣\n",
    "        if type(threshold) == pd.Series: \n",
    "            valid_tickers = list(set(self.data.index) & set(self.threshold.index)) #資料和門檻值都共同有的ticker，把他們共有的tickers拿出來\n",
    "            self.data = self.data[valid_tickers] #只保留他們倆個都有tickers的資料 和門檻值\n",
    "            self.threshold = self.threshold[valid_tickers] \n",
    "            \n",
    "    #輸入條件後，要能找出滿足這個條件的股票代號有哪些        \n",
    "    def build(self, used_tickers = None): #used_tickers:我們要使用的股票代碼(如果使用者沒說要用在哪個股票上，None代表可以用的股票是資料中有的股票代碼)\n",
    "        if used_tickers is None:\n",
    "            valid_tickers = list(self.data.index) #等於data裡面有的股票代碼\n",
    "        else: #如果它有指定要從哪些股票中篩選，必須要是資料裡有的和符合used_tickers(必須兩個都有)\n",
    "            valid_tickers = list(set(self.data.index) & set(used_tickers))\n",
    "            \n",
    "        #根據不同的condition type做處理:一種有排序、一種是跟門檻值比較的(不排序)\n",
    "        if \"rank\" in self.condition_type:\n",
    "            if self.condition_type == \"rank_high_pct\": # ascending = False:我原本數值比較高的，它的排名比較前面 # pct = True:回傳百分比%(pr值)\n",
    "                rank_data = self.data[valid_tickers].rank(ascending = False, pct = True, na_option='bottom') \n",
    "\n",
    "            elif self.condition_type == \"rank_low_pct\": # ascending = True我原本數值比較低的，排名比較前面(第一名是比較差的)\n",
    "                rank_data = self.data[valid_tickers].rank(ascending = True, pct = True, na_option='bottom')\n",
    "\n",
    "            elif self.condition_type == \"rank_high\":   # pct = False:回傳名次\n",
    "                rank_data = self.data[valid_tickers].rank(ascending = False, pct = False, na_option='bottom') # pct = False: 回傳真實的排名\n",
    "\n",
    "            elif self.condition_type == \"rank_low\":\n",
    "                rank_data = self.data[valid_tickers].rank(ascending = True, pct = False, na_option='bottom')\n",
    "                # rank_data是排名後的data\n",
    "                \n",
    "            result = self.data[valid_tickers][rank_data < self.threshold] #可以用的資料中，找排名小於我們門檻值的\n",
    "        \n",
    "        else: #純粹跟門檻值比較的\n",
    "            if self.condition_type == \"compare_high\":\n",
    "                result = self.data[valid_tickers][self.data > self.threshold] #大於門檻值\n",
    "\n",
    "            elif self.condition_type == \"compare_low\":\n",
    "                result = self.data[valid_tickers][self.data < self.threshold] #小於門檻值\n",
    "\n",
    "            elif self.condition_type == \"equal\":\n",
    "                result = self.data[valid_tickers][self.data == self.threshold]\n",
    "            \n",
    "        return list(result.index) #回傳結果(哪些tickers滿足這些條件)\n",
    "    "
   ]
  },
  {
   "cell_type": "code",
   "execution_count": 11,
   "metadata": {},
   "outputs": [],
   "source": [
    "class ConditionAnd: #把兩個條件結合起來變成一個新的條件\n",
    "    def __init__(self, conditions):\n",
    "        self.conditions = conditions #把傳進來的conditions的list(裡面包含很多condition)回傳給自己\n",
    "    \n",
    "    def build(self, used_tickers = None):\n",
    "        tickers = None\n",
    "        for condition in self.conditions: #把每個condition run一遍\n",
    "            result  = condition.build(used_tickers) #取得符合這個condition的tickers，再把這些tickers做交集的邏輯運算，得到新的可以的tickers\n",
    "            \n",
    "            if tickers is None:\n",
    "                tickers = result\n",
    "            else:\n",
    "                tickers = list(set(tickers) & set(result))  #做condition的交集\n",
    "                \n",
    "        return tickers\n",
    "    \n",
    "class ConditionOR: #把兩個條件or起來變成一個新的條件\n",
    "    def __init__(self, conditions):\n",
    "        self.conditions = conditions\n",
    "    \n",
    "    def build(self, used_tickers = None):\n",
    "        tickers = None\n",
    "        for condition in self.conditions:\n",
    "            result  = condition.build(used_tickers)\n",
    "            \n",
    "            if tickers is None:\n",
    "                tickers = result\n",
    "            else:\n",
    "                tickers = list(set(tickers) | set(result)) #做condition的聯集\n",
    "                \n",
    "        return tickers"
   ]
  },
  {
   "cell_type": "code",
   "execution_count": 12,
   "metadata": {},
   "outputs": [],
   "source": [
    "#不同層級的條件合成(上下集合的關係)\n",
    "\n",
    "class ConditionBlocks:\n",
    "    def __init__(self):\n",
    "        self.condition_blocks = []  #初始是一個空的list\n",
    "        \n",
    "    def add_condition(self, condition):\n",
    "        self.condition_blocks.append(condition)\n",
    "        \n",
    "    def build(self):\n",
    "        tickers = None\n",
    "        for condition in self.condition_blocks:\n",
    "            if tickers is None:\n",
    "                tickers = condition.build() #拿到tickers\n",
    "            else:\n",
    "                tickers = condition.build(tickers) #前面條件篩選過後的再篩選\n",
    "                \n",
    "        return tickers"
   ]
  },
  {
   "cell_type": "markdown",
   "metadata": {},
   "source": [
    "# 回測\n",
    "\n",
    "### 上市股票市值前50%，董監事持股增加(同個層級)，10日均>20日均，本益比低於15倍"
   ]
  },
  {
   "cell_type": "code",
   "execution_count": 45,
   "metadata": {},
   "outputs": [
    {
     "data": {
      "text/html": [
       "<div>\n",
       "<style scoped>\n",
       "    .dataframe tbody tr th:only-of-type {\n",
       "        vertical-align: middle;\n",
       "    }\n",
       "\n",
       "    .dataframe tbody tr th {\n",
       "        vertical-align: top;\n",
       "    }\n",
       "\n",
       "    .dataframe thead th {\n",
       "        text-align: right;\n",
       "    }\n",
       "</style>\n",
       "<table border=\"1\" class=\"dataframe\">\n",
       "  <thead>\n",
       "    <tr style=\"text-align: right;\">\n",
       "      <th></th>\n",
       "      <th>50</th>\n",
       "      <th>51</th>\n",
       "      <th>1101</th>\n",
       "      <th>1102</th>\n",
       "      <th>1103</th>\n",
       "      <th>1104</th>\n",
       "      <th>1107</th>\n",
       "      <th>1108</th>\n",
       "      <th>1109</th>\n",
       "      <th>1110</th>\n",
       "      <th>...</th>\n",
       "      <th>911613</th>\n",
       "      <th>911616</th>\n",
       "      <th>911619</th>\n",
       "      <th>911622</th>\n",
       "      <th>911626</th>\n",
       "      <th>911868</th>\n",
       "      <th>912000</th>\n",
       "      <th>912398</th>\n",
       "      <th>913889</th>\n",
       "      <th>916665</th>\n",
       "    </tr>\n",
       "    <tr>\n",
       "      <th>年月日</th>\n",
       "      <th></th>\n",
       "      <th></th>\n",
       "      <th></th>\n",
       "      <th></th>\n",
       "      <th></th>\n",
       "      <th></th>\n",
       "      <th></th>\n",
       "      <th></th>\n",
       "      <th></th>\n",
       "      <th></th>\n",
       "      <th></th>\n",
       "      <th></th>\n",
       "      <th></th>\n",
       "      <th></th>\n",
       "      <th></th>\n",
       "      <th></th>\n",
       "      <th></th>\n",
       "      <th></th>\n",
       "      <th></th>\n",
       "      <th></th>\n",
       "      <th></th>\n",
       "    </tr>\n",
       "  </thead>\n",
       "  <tbody>\n",
       "    <tr>\n",
       "      <th>2005-01-03</th>\n",
       "      <td>0.0</td>\n",
       "      <td>NaN</td>\n",
       "      <td>16.59</td>\n",
       "      <td>7.57</td>\n",
       "      <td>14.54</td>\n",
       "      <td>10.39</td>\n",
       "      <td>0.0</td>\n",
       "      <td>7.12</td>\n",
       "      <td>10.48</td>\n",
       "      <td>12.27</td>\n",
       "      <td>...</td>\n",
       "      <td>NaN</td>\n",
       "      <td>NaN</td>\n",
       "      <td>NaN</td>\n",
       "      <td>NaN</td>\n",
       "      <td>NaN</td>\n",
       "      <td>NaN</td>\n",
       "      <td>NaN</td>\n",
       "      <td>NaN</td>\n",
       "      <td>NaN</td>\n",
       "      <td>NaN</td>\n",
       "    </tr>\n",
       "    <tr>\n",
       "      <th>2005-01-04</th>\n",
       "      <td>0.0</td>\n",
       "      <td>NaN</td>\n",
       "      <td>16.36</td>\n",
       "      <td>7.40</td>\n",
       "      <td>14.35</td>\n",
       "      <td>10.08</td>\n",
       "      <td>0.0</td>\n",
       "      <td>7.04</td>\n",
       "      <td>10.34</td>\n",
       "      <td>12.07</td>\n",
       "      <td>...</td>\n",
       "      <td>NaN</td>\n",
       "      <td>NaN</td>\n",
       "      <td>NaN</td>\n",
       "      <td>NaN</td>\n",
       "      <td>NaN</td>\n",
       "      <td>NaN</td>\n",
       "      <td>NaN</td>\n",
       "      <td>NaN</td>\n",
       "      <td>NaN</td>\n",
       "      <td>NaN</td>\n",
       "    </tr>\n",
       "    <tr>\n",
       "      <th>2005-01-05</th>\n",
       "      <td>0.0</td>\n",
       "      <td>NaN</td>\n",
       "      <td>16.28</td>\n",
       "      <td>7.30</td>\n",
       "      <td>14.26</td>\n",
       "      <td>10.00</td>\n",
       "      <td>0.0</td>\n",
       "      <td>6.86</td>\n",
       "      <td>10.14</td>\n",
       "      <td>11.8</td>\n",
       "      <td>...</td>\n",
       "      <td>NaN</td>\n",
       "      <td>NaN</td>\n",
       "      <td>NaN</td>\n",
       "      <td>NaN</td>\n",
       "      <td>NaN</td>\n",
       "      <td>NaN</td>\n",
       "      <td>NaN</td>\n",
       "      <td>NaN</td>\n",
       "      <td>NaN</td>\n",
       "      <td>NaN</td>\n",
       "    </tr>\n",
       "    <tr>\n",
       "      <th>2005-01-06</th>\n",
       "      <td>0.0</td>\n",
       "      <td>NaN</td>\n",
       "      <td>16.12</td>\n",
       "      <td>7.27</td>\n",
       "      <td>14.17</td>\n",
       "      <td>10.12</td>\n",
       "      <td>0.0</td>\n",
       "      <td>6.82</td>\n",
       "      <td>10.48</td>\n",
       "      <td>11.73</td>\n",
       "      <td>...</td>\n",
       "      <td>NaN</td>\n",
       "      <td>NaN</td>\n",
       "      <td>NaN</td>\n",
       "      <td>NaN</td>\n",
       "      <td>NaN</td>\n",
       "      <td>NaN</td>\n",
       "      <td>NaN</td>\n",
       "      <td>NaN</td>\n",
       "      <td>NaN</td>\n",
       "      <td>NaN</td>\n",
       "    </tr>\n",
       "    <tr>\n",
       "      <th>2005-01-07</th>\n",
       "      <td>0.0</td>\n",
       "      <td>NaN</td>\n",
       "      <td>15.50</td>\n",
       "      <td>7.13</td>\n",
       "      <td>13.66</td>\n",
       "      <td>10.16</td>\n",
       "      <td>0.0</td>\n",
       "      <td>6.79</td>\n",
       "      <td>10.58</td>\n",
       "      <td>11.6</td>\n",
       "      <td>...</td>\n",
       "      <td>NaN</td>\n",
       "      <td>NaN</td>\n",
       "      <td>NaN</td>\n",
       "      <td>NaN</td>\n",
       "      <td>NaN</td>\n",
       "      <td>NaN</td>\n",
       "      <td>NaN</td>\n",
       "      <td>NaN</td>\n",
       "      <td>NaN</td>\n",
       "      <td>NaN</td>\n",
       "    </tr>\n",
       "  </tbody>\n",
       "</table>\n",
       "<p>5 rows × 2031 columns</p>\n",
       "</div>"
      ],
      "text/plain": [
       "             50   51   1101  1102   1103   1104 1107  1108   1109   1110  ...  \\\n",
       "年月日                                                                       ...   \n",
       "2005-01-03  0.0  NaN  16.59  7.57  14.54  10.39  0.0  7.12  10.48  12.27  ...   \n",
       "2005-01-04  0.0  NaN  16.36  7.40  14.35  10.08  0.0  7.04  10.34  12.07  ...   \n",
       "2005-01-05  0.0  NaN  16.28  7.30  14.26  10.00  0.0  6.86  10.14   11.8  ...   \n",
       "2005-01-06  0.0  NaN  16.12  7.27  14.17  10.12  0.0  6.82  10.48  11.73  ...   \n",
       "2005-01-07  0.0  NaN  15.50  7.13  13.66  10.16  0.0  6.79  10.58   11.6  ...   \n",
       "\n",
       "           911613  911616 911619  911622  911626 911868 912000  912398  \\\n",
       "年月日                                                                      \n",
       "2005-01-03    NaN     NaN    NaN     NaN     NaN    NaN    NaN     NaN   \n",
       "2005-01-04    NaN     NaN    NaN     NaN     NaN    NaN    NaN     NaN   \n",
       "2005-01-05    NaN     NaN    NaN     NaN     NaN    NaN    NaN     NaN   \n",
       "2005-01-06    NaN     NaN    NaN     NaN     NaN    NaN    NaN     NaN   \n",
       "2005-01-07    NaN     NaN    NaN     NaN     NaN    NaN    NaN     NaN   \n",
       "\n",
       "            913889 916665  \n",
       "年月日                        \n",
       "2005-01-03     NaN    NaN  \n",
       "2005-01-04     NaN    NaN  \n",
       "2005-01-05     NaN    NaN  \n",
       "2005-01-06     NaN    NaN  \n",
       "2005-01-07     NaN    NaN  \n",
       "\n",
       "[5 rows x 2031 columns]"
      ]
     },
     "execution_count": 45,
     "metadata": {},
     "output_type": "execute_result"
    }
   ],
   "source": [
    "本益比.head()"
   ]
  },
  {
   "cell_type": "code",
   "execution_count": 73,
   "metadata": {},
   "outputs": [
    {
     "data": {
      "text/plain": [
       "['2393', '2457', '2432', '2450', '2387', '2344', '3009', '3063']"
      ]
     },
     "metadata": {},
     "output_type": "display_data"
    },
    {
     "data": {
      "text/plain": [
       "['9908', '2520', '2448', '1503', '2912']"
      ]
     },
     "metadata": {},
     "output_type": "display_data"
    },
    {
     "data": {
      "text/plain": [
       "['3014', '2448', '2489', '2027']"
      ]
     },
     "metadata": {},
     "output_type": "display_data"
    },
    {
     "data": {
      "text/plain": [
       "['9910', '2347', '3702', '2448', '2106', '2432', '2888', '1507', '2439']"
      ]
     },
     "metadata": {},
     "output_type": "display_data"
    },
    {
     "data": {
      "text/plain": [
       "['2393', '1606', '2391', '2499', '2105', '2538', '2888']"
      ]
     },
     "metadata": {},
     "output_type": "display_data"
    },
    {
     "data": {
      "text/plain": [
       "['2347', '2374', '2385', '1729', '6505', '3005', '2489']"
      ]
     },
     "metadata": {},
     "output_type": "display_data"
    },
    {
     "data": {
      "text/plain": [
       "['2106',\n",
       " '2107',\n",
       " '3041',\n",
       " '2446',\n",
       " '2329',\n",
       " '2327',\n",
       " '8008',\n",
       " '2856',\n",
       " '2393',\n",
       " '1103',\n",
       " '2890',\n",
       " '2504',\n",
       " '2514',\n",
       " '2314',\n",
       " '1310',\n",
       " '2354',\n",
       " '1532',\n",
       " '2448',\n",
       " '2882',\n",
       " '2432',\n",
       " '2473',\n",
       " '1905',\n",
       " '2411',\n",
       " '9907',\n",
       " '9940',\n",
       " '6005',\n",
       " '1704',\n",
       " '2336',\n",
       " '6505',\n",
       " '6202',\n",
       " '1210',\n",
       " '1903',\n",
       " '2439']"
      ]
     },
     "metadata": {},
     "output_type": "display_data"
    },
    {
     "data": {
      "text/plain": [
       "['9910', '9934']"
      ]
     },
     "metadata": {},
     "output_type": "display_data"
    },
    {
     "data": {
      "text/plain": [
       "['2385',\n",
       " '2547',\n",
       " '1606',\n",
       " '2332',\n",
       " '2107',\n",
       " '1608',\n",
       " '2856',\n",
       " '1717',\n",
       " '2347',\n",
       " '2880',\n",
       " '2476',\n",
       " '1216',\n",
       " '2397',\n",
       " '1532',\n",
       " '3702',\n",
       " '2303',\n",
       " '1905',\n",
       " '6505',\n",
       " '1104',\n",
       " '3005',\n",
       " '2439']"
      ]
     },
     "metadata": {},
     "output_type": "display_data"
    },
    {
     "data": {
      "text/plain": [
       "['2856',\n",
       " '2313',\n",
       " '2417',\n",
       " '1606',\n",
       " '2432',\n",
       " '2908',\n",
       " '9927',\n",
       " '2336',\n",
       " '6505',\n",
       " '1909',\n",
       " '9940',\n",
       " '2314',\n",
       " '1520']"
      ]
     },
     "metadata": {},
     "output_type": "display_data"
    },
    {
     "data": {
      "text/plain": [
       "['1608']"
      ]
     },
     "metadata": {},
     "output_type": "display_data"
    },
    {
     "data": {
      "text/plain": [
       "['2106',\n",
       " '2481',\n",
       " '2452',\n",
       " '2387',\n",
       " '1608',\n",
       " '2834',\n",
       " '1520',\n",
       " '2412',\n",
       " '6289',\n",
       " '2908',\n",
       " '1605',\n",
       " '9934',\n",
       " '1440',\n",
       " '2411',\n",
       " '2384',\n",
       " '2617',\n",
       " '2207',\n",
       " '2336',\n",
       " '6505',\n",
       " '3008']"
      ]
     },
     "metadata": {},
     "output_type": "display_data"
    },
    {
     "data": {
      "text/plain": [
       "['3014',\n",
       " '1444',\n",
       " '9915',\n",
       " '1503',\n",
       " '2373',\n",
       " '2344',\n",
       " '2856',\n",
       " '9908',\n",
       " '2393',\n",
       " '2108',\n",
       " '1736',\n",
       " '2908',\n",
       " '1909',\n",
       " '2395',\n",
       " '1507',\n",
       " '2207',\n",
       " '1729',\n",
       " '1104',\n",
       " '1210']"
      ]
     },
     "metadata": {},
     "output_type": "display_data"
    },
    {
     "data": {
      "text/plain": [
       "['2910', '1444', '2889']"
      ]
     },
     "metadata": {},
     "output_type": "display_data"
    },
    {
     "data": {
      "text/plain": [
       "['2617',\n",
       " '1103',\n",
       " '8070',\n",
       " '1444',\n",
       " '3481',\n",
       " '2373',\n",
       " '3005',\n",
       " '1909',\n",
       " '5471',\n",
       " '2330',\n",
       " '4725',\n",
       " '2392']"
      ]
     },
     "metadata": {},
     "output_type": "display_data"
    },
    {
     "data": {
      "text/plain": [
       "['1532',\n",
       " '2395',\n",
       " '1611',\n",
       " '1503',\n",
       " '3481',\n",
       " '2373',\n",
       " '2107',\n",
       " '2538',\n",
       " '2888',\n",
       " '1104',\n",
       " '3008',\n",
       " '2889',\n",
       " '2384',\n",
       " '2915']"
      ]
     },
     "metadata": {},
     "output_type": "display_data"
    },
    {
     "data": {
      "text/plain": [
       "['2010', '1904', '8016', '6286', '2458']"
      ]
     },
     "metadata": {},
     "output_type": "display_data"
    },
    {
     "data": {
      "text/plain": [
       "[]"
      ]
     },
     "metadata": {},
     "output_type": "display_data"
    },
    {
     "data": {
      "text/plain": [
       "['3014', '2535', '2601', '2106', '9939', '2607', '3045', '2328']"
      ]
     },
     "metadata": {},
     "output_type": "display_data"
    },
    {
     "data": {
      "text/plain": [
       "['2412',\n",
       " '2347',\n",
       " '2833',\n",
       " '2207',\n",
       " '1611',\n",
       " '2312',\n",
       " '1503',\n",
       " '6197',\n",
       " '2373',\n",
       " '2432',\n",
       " '2411',\n",
       " '2353',\n",
       " '2317',\n",
       " '2889',\n",
       " '2327',\n",
       " '1419']"
      ]
     },
     "metadata": {},
     "output_type": "display_data"
    },
    {
     "data": {
      "text/plain": [
       "['2411']"
      ]
     },
     "metadata": {},
     "output_type": "display_data"
    },
    {
     "data": {
      "text/plain": [
       "['2463', '8926', '1234', '2373', '6505', '6277', '1507']"
      ]
     },
     "metadata": {},
     "output_type": "display_data"
    },
    {
     "data": {
      "text/plain": [
       "['2886',\n",
       " '2106',\n",
       " '1101',\n",
       " '2373',\n",
       " '2801',\n",
       " '2834',\n",
       " '1419',\n",
       " '2915',\n",
       " '2851',\n",
       " '1301',\n",
       " '1904',\n",
       " '2020',\n",
       " '2354',\n",
       " '2395',\n",
       " '2854',\n",
       " '2884',\n",
       " '1109',\n",
       " '1440',\n",
       " '9937',\n",
       " '1402',\n",
       " '1507',\n",
       " '1716',\n",
       " '6505',\n",
       " '9917',\n",
       " '2439']"
      ]
     },
     "metadata": {},
     "output_type": "display_data"
    },
    {
     "data": {
      "text/plain": [
       "['4906',\n",
       " '2373',\n",
       " '1315',\n",
       " '2801',\n",
       " '6286',\n",
       " '9910',\n",
       " '9908',\n",
       " '2347',\n",
       " '2701',\n",
       " '2851',\n",
       " '1904',\n",
       " '2908',\n",
       " '2314',\n",
       " '2397',\n",
       " '2854',\n",
       " '9937',\n",
       " '6277',\n",
       " '1102',\n",
       " '1402',\n",
       " '2889',\n",
       " '3019',\n",
       " '2913',\n",
       " '3031',\n",
       " '3035',\n",
       " '2458',\n",
       " '2207',\n",
       " '2059',\n",
       " '1611',\n",
       " '2885',\n",
       " '2330']"
      ]
     },
     "metadata": {},
     "output_type": "display_data"
    },
    {
     "data": {
      "text/plain": [
       "['2535',\n",
       " '2347',\n",
       " '2393',\n",
       " '1227',\n",
       " '2059',\n",
       " '2448',\n",
       " '1234',\n",
       " '2373',\n",
       " '2308',\n",
       " '2908',\n",
       " '1102',\n",
       " '3008',\n",
       " '9907',\n",
       " '2314',\n",
       " '1314']"
      ]
     },
     "metadata": {},
     "output_type": "display_data"
    },
    {
     "data": {
      "text/plain": [
       "['2062',\n",
       " '3534',\n",
       " '2498',\n",
       " '1101',\n",
       " '2373',\n",
       " '1319',\n",
       " '2303',\n",
       " '9921',\n",
       " '2615',\n",
       " '1102',\n",
       " '1507',\n",
       " '5203',\n",
       " '2436',\n",
       " '1504']"
      ]
     },
     "metadata": {},
     "output_type": "display_data"
    },
    {
     "data": {
      "text/plain": [
       "['2412',\n",
       " '2401',\n",
       " '2547',\n",
       " '2421',\n",
       " '2373',\n",
       " '2208',\n",
       " '6505',\n",
       " '6277',\n",
       " '1507',\n",
       " '1909',\n",
       " '2615',\n",
       " '3034',\n",
       " '8078']"
      ]
     },
     "metadata": {},
     "output_type": "display_data"
    },
    {
     "data": {
      "text/plain": [
       "['2526',\n",
       " '1101',\n",
       " '2373',\n",
       " '9910',\n",
       " '2535',\n",
       " '2345',\n",
       " '1103',\n",
       " '2851',\n",
       " '3376',\n",
       " '2015',\n",
       " '1234',\n",
       " '2476',\n",
       " '6213',\n",
       " '2031',\n",
       " '3061',\n",
       " '2430',\n",
       " '9934',\n",
       " '6277',\n",
       " '1507',\n",
       " '9907',\n",
       " '2449',\n",
       " '5469']"
      ]
     },
     "metadata": {},
     "output_type": "display_data"
    },
    {
     "data": {
      "text/plain": [
       "['3042',\n",
       " '1503',\n",
       " '2373',\n",
       " '2910',\n",
       " '1419',\n",
       " '6206',\n",
       " '2412',\n",
       " '3518',\n",
       " '3376',\n",
       " '3515',\n",
       " '2851',\n",
       " '1234',\n",
       " '2489',\n",
       " '2458',\n",
       " '9904',\n",
       " '5469',\n",
       " '2608',\n",
       " '1451',\n",
       " '1716']"
      ]
     },
     "metadata": {},
     "output_type": "display_data"
    },
    {
     "data": {
      "text/plain": [
       "['2412', '4904', '2820']"
      ]
     },
     "metadata": {},
     "output_type": "display_data"
    },
    {
     "data": {
      "text/plain": [
       "['2457',\n",
       " '1101',\n",
       " '2308',\n",
       " '2910',\n",
       " '2706',\n",
       " '2452',\n",
       " '3041',\n",
       " '1232',\n",
       " '1419',\n",
       " '2345',\n",
       " '2851',\n",
       " '2337',\n",
       " '2880',\n",
       " '1904',\n",
       " '2499',\n",
       " '2377',\n",
       " '6213',\n",
       " '4104',\n",
       " '2489',\n",
       " '3702',\n",
       " '2538',\n",
       " '9907',\n",
       " '3019',\n",
       " '2913',\n",
       " '1504',\n",
       " '3035',\n",
       " '3034',\n",
       " '1701',\n",
       " '1611',\n",
       " '1729',\n",
       " '1802',\n",
       " '2391',\n",
       " '6202',\n",
       " '1210',\n",
       " '5203']"
      ]
     },
     "metadata": {},
     "output_type": "display_data"
    },
    {
     "data": {
      "text/plain": [
       "['2412', '2851', '2311', '2357', '2892', '9939', '2365']"
      ]
     },
     "metadata": {},
     "output_type": "display_data"
    },
    {
     "data": {
      "text/plain": [
       "['3014',\n",
       " '1229',\n",
       " '4906',\n",
       " '2373',\n",
       " '8046',\n",
       " '2412',\n",
       " '3518',\n",
       " '8008',\n",
       " '2347',\n",
       " '6271',\n",
       " '3376',\n",
       " '2851',\n",
       " '3026',\n",
       " '2383',\n",
       " '6213',\n",
       " '2382',\n",
       " '3036',\n",
       " '2392',\n",
       " '2395',\n",
       " '1319',\n",
       " '1304',\n",
       " '3189',\n",
       " '3010',\n",
       " '2542',\n",
       " '1527',\n",
       " '6191',\n",
       " '8081']"
      ]
     },
     "metadata": {},
     "output_type": "display_data"
    },
    {
     "data": {
      "text/plain": [
       "['2412',\n",
       " '2345',\n",
       " '3019',\n",
       " '2385',\n",
       " '1301',\n",
       " '2455',\n",
       " '1904',\n",
       " '2106',\n",
       " '2373',\n",
       " '2524',\n",
       " '2499',\n",
       " '2473',\n",
       " '1304',\n",
       " '3041',\n",
       " '1402',\n",
       " '3519',\n",
       " '6213']"
      ]
     },
     "metadata": {},
     "output_type": "display_data"
    },
    {
     "data": {
      "text/plain": [
       "['3534',\n",
       " '2395',\n",
       " '2882',\n",
       " '2421',\n",
       " '1304',\n",
       " '9907',\n",
       " '2379',\n",
       " '6286',\n",
       " '9917',\n",
       " '8078']"
      ]
     },
     "metadata": {},
     "output_type": "display_data"
    },
    {
     "data": {
      "text/plain": [
       "['2412',\n",
       " '1201',\n",
       " '2395',\n",
       " '2448',\n",
       " '2421',\n",
       " '2706',\n",
       " '2452',\n",
       " '2355',\n",
       " '3026',\n",
       " '5203',\n",
       " '6213',\n",
       " '1716',\n",
       " '2458']"
      ]
     },
     "metadata": {},
     "output_type": "display_data"
    },
    {
     "data": {
      "text/plain": [
       "['2511',\n",
       " '2345',\n",
       " '9908',\n",
       " '2374',\n",
       " '2101',\n",
       " '2331',\n",
       " '2314',\n",
       " '1101',\n",
       " '1234',\n",
       " '2706',\n",
       " '1210',\n",
       " '9907',\n",
       " '2855',\n",
       " '5203',\n",
       " '6213',\n",
       " '1419']"
      ]
     },
     "metadata": {},
     "output_type": "display_data"
    },
    {
     "data": {
      "text/plain": [
       "['9908']"
      ]
     },
     "metadata": {},
     "output_type": "display_data"
    },
    {
     "data": {
      "text/plain": [
       "['2511',\n",
       " '2350',\n",
       " '3060',\n",
       " '2455',\n",
       " '1611',\n",
       " '1101',\n",
       " '3653',\n",
       " '1319',\n",
       " '2608',\n",
       " '2486',\n",
       " '1304',\n",
       " '2478',\n",
       " '5203',\n",
       " '8081',\n",
       " '1216',\n",
       " '1722',\n",
       " '1716']"
      ]
     },
     "metadata": {},
     "output_type": "display_data"
    },
    {
     "data": {
      "text/plain": [
       "['2345',\n",
       " '3037',\n",
       " '8078',\n",
       " '1301',\n",
       " '2015',\n",
       " '3596',\n",
       " '2608',\n",
       " '9907',\n",
       " '6213',\n",
       " '3017',\n",
       " '1310',\n",
       " '3579']"
      ]
     },
     "metadata": {},
     "output_type": "display_data"
    },
    {
     "data": {
      "text/plain": [
       "['2498', '2421', '8039', '6206']"
      ]
     },
     "metadata": {},
     "output_type": "display_data"
    },
    {
     "data": {
      "text/plain": [
       "['3014', '2449', '8070', '1440', '1611', '2486', '6271', '8078']"
      ]
     },
     "metadata": {},
     "output_type": "display_data"
    },
    {
     "data": {
      "text/plain": [
       "['3006',\n",
       " '4906',\n",
       " '9911',\n",
       " '3653',\n",
       " '2049',\n",
       " '6197',\n",
       " '2365',\n",
       " '3041',\n",
       " '9908',\n",
       " '1103',\n",
       " '1234',\n",
       " '2499',\n",
       " '1110',\n",
       " '3380',\n",
       " '1216',\n",
       " '1440',\n",
       " '2448',\n",
       " '2404',\n",
       " '2478',\n",
       " '2362',\n",
       " '2406',\n",
       " '3031',\n",
       " '5854',\n",
       " '2027',\n",
       " '5203',\n",
       " '3514',\n",
       " '9917']"
      ]
     },
     "metadata": {},
     "output_type": "display_data"
    },
    {
     "data": {
      "text/plain": [
       "['2430',\n",
       " '3534',\n",
       " '3576',\n",
       " '2395',\n",
       " '1440',\n",
       " '3481',\n",
       " '1234',\n",
       " '1110',\n",
       " '2377',\n",
       " '2478',\n",
       " '2353',\n",
       " '2027']"
      ]
     },
     "metadata": {},
     "output_type": "display_data"
    },
    {
     "data": {
      "text/plain": [
       "['2027',\n",
       " '3534',\n",
       " '2108',\n",
       " '2498',\n",
       " '8046',\n",
       " '6285',\n",
       " '1110',\n",
       " '1605',\n",
       " '2478',\n",
       " '1402',\n",
       " '2855',\n",
       " '2905',\n",
       " '2340',\n",
       " '6271',\n",
       " '1716',\n",
       " '8131']"
      ]
     },
     "metadata": {},
     "output_type": "display_data"
    },
    {
     "data": {
      "text/plain": [
       "['2412',\n",
       " '9908',\n",
       " '5854',\n",
       " '2455',\n",
       " '1611',\n",
       " '3189',\n",
       " '3481',\n",
       " '1234',\n",
       " '2908',\n",
       " '9938']"
      ]
     },
     "metadata": {},
     "output_type": "display_data"
    },
    {
     "data": {
      "text/plain": [
       "['1532', '2884', '6505', '2847']"
      ]
     },
     "metadata": {},
     "output_type": "display_data"
    },
    {
     "data": {
      "text/plain": [
       "['4906',\n",
       " '2847',\n",
       " '3519',\n",
       " '2834',\n",
       " '9908',\n",
       " '4930',\n",
       " '1301',\n",
       " '4938',\n",
       " '3026',\n",
       " '2395',\n",
       " '2884',\n",
       " '2888',\n",
       " '2478',\n",
       " '5203',\n",
       " '1611',\n",
       " '1303',\n",
       " '2406',\n",
       " '6012',\n",
       " '2426']"
      ]
     },
     "metadata": {},
     "output_type": "display_data"
    },
    {
     "data": {
      "text/plain": [
       "['1532',\n",
       " '2393',\n",
       " '1101',\n",
       " '1234',\n",
       " '2316',\n",
       " '1802',\n",
       " '6012',\n",
       " '1210',\n",
       " '1102',\n",
       " '2340',\n",
       " '2889',\n",
       " '2363',\n",
       " '3022']"
      ]
     },
     "metadata": {},
     "output_type": "display_data"
    },
    {
     "data": {
      "text/plain": [
       "['2034', '1402', '2325']"
      ]
     },
     "metadata": {},
     "output_type": "display_data"
    },
    {
     "data": {
      "text/plain": [
       "['2412',\n",
       " '1103',\n",
       " '2601',\n",
       " '2492',\n",
       " '2395',\n",
       " '1611',\n",
       " '2498',\n",
       " '2890',\n",
       " '2049',\n",
       " '2608',\n",
       " '6269',\n",
       " '1507']"
      ]
     },
     "metadata": {},
     "output_type": "display_data"
    },
    {
     "data": {
      "text/plain": [
       "['3042',\n",
       " '8163',\n",
       " '2455',\n",
       " '2373',\n",
       " '1608',\n",
       " '2363',\n",
       " '2412',\n",
       " '2856',\n",
       " '1103',\n",
       " '2890',\n",
       " '1234',\n",
       " '3062',\n",
       " '2031',\n",
       " '1532',\n",
       " '2395',\n",
       " '2362',\n",
       " '2478',\n",
       " '1102',\n",
       " '2913',\n",
       " '1611',\n",
       " '2883',\n",
       " '1308']"
      ]
     },
     "metadata": {},
     "output_type": "display_data"
    },
    {
     "data": {
      "text/plain": [
       "['2412', '2856', '1503', '1234', '2373']"
      ]
     },
     "metadata": {},
     "output_type": "display_data"
    },
    {
     "data": {
      "text/plain": [
       "['2412', '2856', '3617', '1234', '2316', '1909', '2911']"
      ]
     },
     "metadata": {},
     "output_type": "display_data"
    },
    {
     "data": {
      "text/plain": [
       "['9945',\n",
       " '2801',\n",
       " '2841',\n",
       " '2412',\n",
       " '2856',\n",
       " '3383',\n",
       " '1234',\n",
       " '2504',\n",
       " '2356',\n",
       " '1605',\n",
       " '1216',\n",
       " '3060',\n",
       " '9934',\n",
       " '3702',\n",
       " '6153',\n",
       " '2913',\n",
       " '1504',\n",
       " '1434',\n",
       " '5469',\n",
       " '8926',\n",
       " '4532',\n",
       " '2027',\n",
       " '8101']"
      ]
     },
     "metadata": {},
     "output_type": "display_data"
    },
    {
     "data": {
      "text/plain": [
       "['1315', '1234']"
      ]
     },
     "metadata": {},
     "output_type": "display_data"
    },
    {
     "data": {
      "text/plain": [
       "['8213',\n",
       " '2454',\n",
       " '1608',\n",
       " '2393',\n",
       " '2015',\n",
       " '1707',\n",
       " '4938',\n",
       " '2105',\n",
       " '2377',\n",
       " '3638',\n",
       " '2473',\n",
       " '1507',\n",
       " '3035',\n",
       " '2449',\n",
       " '2357',\n",
       " '2905',\n",
       " '3005',\n",
       " '2330',\n",
       " '6271']"
      ]
     },
     "metadata": {},
     "output_type": "display_data"
    },
    {
     "data": {
      "text/plain": [
       "['2412',\n",
       " '2617',\n",
       " '2449',\n",
       " '2886',\n",
       " '1611',\n",
       " '2421',\n",
       " '2499',\n",
       " '4938',\n",
       " '1319',\n",
       " '2891',\n",
       " '1102',\n",
       " '2340',\n",
       " '2439']"
      ]
     },
     "metadata": {},
     "output_type": "display_data"
    },
    {
     "data": {
      "text/plain": [
       "['2412',\n",
       " '1301',\n",
       " '1702',\n",
       " '6120',\n",
       " '2495',\n",
       " '1110',\n",
       " '8213',\n",
       " '1909',\n",
       " '6271',\n",
       " '1789']"
      ]
     },
     "metadata": {},
     "output_type": "display_data"
    },
    {
     "data": {
      "text/plain": [
       "['1709',\n",
       " '2617',\n",
       " '2347',\n",
       " '6214',\n",
       " '3060',\n",
       " '1301',\n",
       " '2421',\n",
       " '6120',\n",
       " '2608',\n",
       " '2473',\n",
       " '2441',\n",
       " '2027',\n",
       " '9914']"
      ]
     },
     "metadata": {},
     "output_type": "display_data"
    },
    {
     "data": {
      "text/plain": [
       "['1702',\n",
       " '2308',\n",
       " '2344',\n",
       " '9914',\n",
       " '2345',\n",
       " '2908',\n",
       " '2704',\n",
       " '2031',\n",
       " '2884',\n",
       " '3454',\n",
       " '1504',\n",
       " '2617',\n",
       " '1701',\n",
       " '2601',\n",
       " '2357',\n",
       " '3149',\n",
       " '1704',\n",
       " '2406',\n",
       " '2606']"
      ]
     },
     "metadata": {},
     "output_type": "display_data"
    },
    {
     "data": {
      "text/plain": [
       "['2031',\n",
       " '2617',\n",
       " '2449',\n",
       " '1701',\n",
       " '2601',\n",
       " '4306',\n",
       " '1704',\n",
       " '8926',\n",
       " '2495',\n",
       " '2441',\n",
       " '2387',\n",
       " '1402',\n",
       " '2606',\n",
       " '1504',\n",
       " '2340',\n",
       " '2489']"
      ]
     },
     "metadata": {},
     "output_type": "display_data"
    },
    {
     "data": {
      "text/plain": [
       "['1218', '2455', '8926', '3653', '2105', '3005', '9914', '2913']"
      ]
     },
     "metadata": {},
     "output_type": "display_data"
    },
    {
     "data": {
      "text/plain": [
       "[]"
      ]
     },
     "metadata": {},
     "output_type": "display_data"
    },
    {
     "data": {
      "text/plain": [
       "['1416',\n",
       " '6214',\n",
       " '2449',\n",
       " '8039',\n",
       " '2207',\n",
       " '1444',\n",
       " '2376',\n",
       " '2106',\n",
       " '1234',\n",
       " '3653',\n",
       " '9926',\n",
       " '2441',\n",
       " '2377',\n",
       " '5880',\n",
       " '6702',\n",
       " '1504']"
      ]
     },
     "metadata": {},
     "output_type": "display_data"
    },
    {
     "data": {
      "text/plain": [
       "['1103', '2890', '2905', '2206', '2705', '2382']"
      ]
     },
     "metadata": {},
     "output_type": "display_data"
    },
    {
     "data": {
      "text/plain": [
       "['1710',\n",
       " '4906',\n",
       " '5388',\n",
       " '9918',\n",
       " '2332',\n",
       " '2106',\n",
       " '1723',\n",
       " '2903',\n",
       " '3041',\n",
       " '9921',\n",
       " '1326',\n",
       " '9914',\n",
       " '2034',\n",
       " '3645',\n",
       " '1419',\n",
       " '2915',\n",
       " '1313',\n",
       " '4904',\n",
       " '6214',\n",
       " '1218',\n",
       " '6166',\n",
       " '1301',\n",
       " '1904',\n",
       " '3573',\n",
       " '1560',\n",
       " '1707',\n",
       " '2402',\n",
       " '2855',\n",
       " '2206',\n",
       " '2360',\n",
       " '3607',\n",
       " '1402',\n",
       " '6209',\n",
       " '2913',\n",
       " '3591',\n",
       " '3149',\n",
       " '2495',\n",
       " '2606',\n",
       " '5534']"
      ]
     },
     "metadata": {},
     "output_type": "display_data"
    },
    {
     "data": {
      "text/plain": [
       "['3356',\n",
       " '4906',\n",
       " '2373',\n",
       " '2706',\n",
       " '2387',\n",
       " '2034',\n",
       " '1416',\n",
       " '1218',\n",
       " '1103',\n",
       " '6166',\n",
       " '1904',\n",
       " '2015',\n",
       " '2102',\n",
       " '1722',\n",
       " '2704',\n",
       " '1532',\n",
       " '1507',\n",
       " '6209',\n",
       " '2449',\n",
       " '2357',\n",
       " '9925',\n",
       " '1104',\n",
       " '2905',\n",
       " '2406',\n",
       " '2340']"
      ]
     },
     "metadata": {},
     "output_type": "display_data"
    },
    {
     "data": {
      "text/plain": [
       "['1532',\n",
       " '3638',\n",
       " '1904',\n",
       " '2373',\n",
       " '2102',\n",
       " '2908',\n",
       " '9927',\n",
       " '9926',\n",
       " '3041',\n",
       " '3454',\n",
       " '1608',\n",
       " '2548',\n",
       " '2371',\n",
       " '3017',\n",
       " '2458']"
      ]
     },
     "metadata": {},
     "output_type": "display_data"
    },
    {
     "data": {
      "text/plain": [
       "['2473', '1532', '6209']"
      ]
     },
     "metadata": {},
     "output_type": "display_data"
    },
    {
     "data": {
      "text/plain": [
       "['1532',\n",
       " '1604',\n",
       " '1904',\n",
       " '2332',\n",
       " '2106',\n",
       " '9927',\n",
       " '3454',\n",
       " '2905',\n",
       " '1608',\n",
       " '1711',\n",
       " '2913']"
      ]
     },
     "metadata": {},
     "output_type": "display_data"
    },
    {
     "data": {
      "text/plain": [
       "['9918',\n",
       " '2106',\n",
       " '2373',\n",
       " '9921',\n",
       " '6269',\n",
       " '9938',\n",
       " '1608',\n",
       " '2327',\n",
       " '1711',\n",
       " '2347',\n",
       " '1218',\n",
       " '2108',\n",
       " '1904',\n",
       " '1234',\n",
       " '2504',\n",
       " '2884',\n",
       " '2520',\n",
       " '1476',\n",
       " '9927',\n",
       " '1907',\n",
       " '2548']"
      ]
     },
     "metadata": {},
     "output_type": "display_data"
    },
    {
     "data": {
      "text/plain": [
       "['3356',\n",
       " '2010',\n",
       " '1444',\n",
       " '9918',\n",
       " '2373',\n",
       " '9938',\n",
       " '1608',\n",
       " '2412',\n",
       " '2347',\n",
       " '2393',\n",
       " '6281',\n",
       " '2108',\n",
       " '2890',\n",
       " '1904',\n",
       " '1234',\n",
       " '2102',\n",
       " '2908',\n",
       " '2514',\n",
       " '1216',\n",
       " '3704',\n",
       " '1402',\n",
       " '2913',\n",
       " '2458',\n",
       " '2520',\n",
       " '1611',\n",
       " '1907',\n",
       " '1451',\n",
       " '2548']"
      ]
     },
     "metadata": {},
     "output_type": "display_data"
    },
    {
     "data": {
      "text/plain": [
       "['6214', '6192', '2207', '6281', '1704', '2106', '2373', '9927', '2458']"
      ]
     },
     "metadata": {},
     "output_type": "display_data"
    },
    {
     "data": {
      "text/plain": [
       "['1904', '1319', '2373', '2308', '2208', '2406', '9938', '2206', '2458']"
      ]
     },
     "metadata": {},
     "output_type": "display_data"
    },
    {
     "data": {
      "text/plain": [
       "['2511',\n",
       " '1614',\n",
       " '2108',\n",
       " '2106',\n",
       " '2308',\n",
       " '2105',\n",
       " '9938',\n",
       " '9907',\n",
       " '2458',\n",
       " '2841']"
      ]
     },
     "metadata": {},
     "output_type": "display_data"
    },
    {
     "data": {
      "text/plain": [
       "['9908',\n",
       " '1201',\n",
       " '2108',\n",
       " '3596',\n",
       " '9937',\n",
       " '2362',\n",
       " '9921',\n",
       " '2514',\n",
       " '3008',\n",
       " '6209',\n",
       " '2340',\n",
       " '9914',\n",
       " '1216',\n",
       " '6005',\n",
       " '2458']"
      ]
     },
     "metadata": {},
     "output_type": "display_data"
    },
    {
     "data": {
      "text/plain": [
       "['2313', '2520', '2315', '3607', '9907']"
      ]
     },
     "metadata": {},
     "output_type": "display_data"
    },
    {
     "data": {
      "text/plain": [
       "['2547',\n",
       " '4306',\n",
       " '9921',\n",
       " '9938',\n",
       " '3705',\n",
       " '6166',\n",
       " '1301',\n",
       " '8411',\n",
       " '2325',\n",
       " '2855',\n",
       " '1722',\n",
       " '1734',\n",
       " '1532',\n",
       " '2313',\n",
       " '1201',\n",
       " '1319',\n",
       " '2723',\n",
       " '1737',\n",
       " '6277',\n",
       " '9907',\n",
       " '2511',\n",
       " '1203',\n",
       " '8926',\n",
       " '9939',\n",
       " '1303',\n",
       " '2836',\n",
       " '2606',\n",
       " '6271',\n",
       " '2340']"
      ]
     },
     "metadata": {},
     "output_type": "display_data"
    },
    {
     "data": {
      "text/plain": [
       "['1532',\n",
       " '9908',\n",
       " '2347',\n",
       " '1203',\n",
       " '3356',\n",
       " '2539',\n",
       " '9918',\n",
       " '1560',\n",
       " '9926',\n",
       " '4104',\n",
       " '1608',\n",
       " '9914',\n",
       " '3705',\n",
       " '9942',\n",
       " '2841']"
      ]
     },
     "metadata": {},
     "output_type": "display_data"
    },
    {
     "data": {
      "text/plain": [
       "['2886',\n",
       " '2373',\n",
       " '2034',\n",
       " '1416',\n",
       " '2347',\n",
       " '2393',\n",
       " '6214',\n",
       " '2108',\n",
       " '3697',\n",
       " '2102',\n",
       " '1110',\n",
       " '4104',\n",
       " '1440',\n",
       " '2538',\n",
       " '3454',\n",
       " '2889',\n",
       " '9942',\n",
       " '1704',\n",
       " '2301',\n",
       " '9939',\n",
       " '5880']"
      ]
     },
     "metadata": {},
     "output_type": "display_data"
    },
    {
     "data": {
      "text/plain": [
       "['2511',\n",
       " '1416',\n",
       " '1709',\n",
       " '2010',\n",
       " '1704',\n",
       " '2882',\n",
       " '2360',\n",
       " '2373',\n",
       " '2102',\n",
       " '6285',\n",
       " '1338',\n",
       " '1589',\n",
       " '2836',\n",
       " '1210',\n",
       " '9907',\n",
       " '2324',\n",
       " '3705',\n",
       " '1789']"
      ]
     },
     "metadata": {},
     "output_type": "display_data"
    },
    {
     "data": {
      "text/plain": [
       "['4906', '1338', '6202', '1589', '2109', '8078']"
      ]
     },
     "metadata": {},
     "output_type": "display_data"
    },
    {
     "data": {
      "text/plain": [
       "['4906',\n",
       " '2106',\n",
       " '2373',\n",
       " '2308',\n",
       " '1589',\n",
       " '1608',\n",
       " '1416',\n",
       " '6214',\n",
       " '1707',\n",
       " '2102',\n",
       " '1216',\n",
       " '2704',\n",
       " '2362',\n",
       " '9907',\n",
       " '2436',\n",
       " '9942',\n",
       " '8078',\n",
       " '1709',\n",
       " '1203',\n",
       " '1338']"
      ]
     },
     "metadata": {},
     "output_type": "display_data"
    },
    {
     "data": {
      "text/plain": [
       "['6214',\n",
       " '2108',\n",
       " '1608',\n",
       " '2910',\n",
       " '1583',\n",
       " '3015',\n",
       " '2351',\n",
       " '6286',\n",
       " '9942',\n",
       " '8101']"
      ]
     },
     "metadata": {},
     "output_type": "display_data"
    },
    {
     "data": {
      "text/plain": [
       "['6192', '2520', '1583', '9942', '8078']"
      ]
     },
     "metadata": {},
     "output_type": "display_data"
    },
    {
     "data": {
      "text/plain": [
       "['1476', '9911', '2836', '1535', '2351', '5471', '1216', '2034', '2439']"
      ]
     },
     "metadata": {},
     "output_type": "display_data"
    },
    {
     "data": {
      "text/plain": [
       "['1709',\n",
       " '2390',\n",
       " '9917',\n",
       " '2823',\n",
       " '2106',\n",
       " '2015',\n",
       " '2499',\n",
       " '5880',\n",
       " '2836',\n",
       " '1535',\n",
       " '2351',\n",
       " '5471',\n",
       " '1722',\n",
       " '1308',\n",
       " '2489']"
      ]
     },
     "metadata": {},
     "output_type": "display_data"
    },
    {
     "data": {
      "text/plain": [
       "['2390', '9908', '1444', '1321', '1234', '2327', '3561']"
      ]
     },
     "metadata": {},
     "output_type": "display_data"
    },
    {
     "data": {
      "text/plain": [
       "['1477',\n",
       " '9917',\n",
       " '1440',\n",
       " '1234',\n",
       " '9939',\n",
       " '2114',\n",
       " '9937',\n",
       " '1715',\n",
       " '2913',\n",
       " '1308',\n",
       " '2109']"
      ]
     },
     "metadata": {},
     "output_type": "display_data"
    },
    {
     "data": {
      "text/plain": [
       "['2027',\n",
       " '6412',\n",
       " '1904',\n",
       " '1736',\n",
       " '8210',\n",
       " '1234',\n",
       " '8016',\n",
       " '1707',\n",
       " '4526',\n",
       " '2836',\n",
       " '1535',\n",
       " '2344',\n",
       " '6286',\n",
       " '2382',\n",
       " '9942']"
      ]
     },
     "metadata": {},
     "output_type": "display_data"
    },
    {
     "data": {
      "text/plain": [
       "['4994', '1614', '1904', '2015', '6415', '3607', '9917']"
      ]
     },
     "metadata": {},
     "output_type": "display_data"
    },
    {
     "data": {
      "text/plain": [
       "['9917',\n",
       " '4906',\n",
       " '9918',\n",
       " '3706',\n",
       " '9908',\n",
       " '2345',\n",
       " '3698',\n",
       " '6282',\n",
       " '6214',\n",
       " '1904',\n",
       " '2908',\n",
       " '1909',\n",
       " '3231',\n",
       " '1734',\n",
       " '1402',\n",
       " '4994',\n",
       " '2207',\n",
       " '2836',\n",
       " '1308']"
      ]
     },
     "metadata": {},
     "output_type": "display_data"
    },
    {
     "data": {
      "text/plain": [
       "['3607', '1904', '1234']"
      ]
     },
     "metadata": {},
     "output_type": "display_data"
    },
    {
     "data": {
      "text/plain": [
       "['2101',\n",
       " '2332',\n",
       " '2106',\n",
       " '1419',\n",
       " '2634',\n",
       " '1313',\n",
       " '2108',\n",
       " '1904',\n",
       " '1234',\n",
       " '1707',\n",
       " '2102',\n",
       " '2908',\n",
       " '4915',\n",
       " '1216',\n",
       " '1722',\n",
       " '2109',\n",
       " '2392',\n",
       " '2489',\n",
       " '4536',\n",
       " '1440',\n",
       " '3607',\n",
       " '1312',\n",
       " '3454',\n",
       " '9907',\n",
       " '1718',\n",
       " '1339',\n",
       " '2836',\n",
       " '2340',\n",
       " '1308']"
      ]
     },
     "metadata": {},
     "output_type": "display_data"
    },
    {
     "data": {
      "text/plain": [
       "['4906',\n",
       " '2498',\n",
       " '2373',\n",
       " '2329',\n",
       " '1419',\n",
       " '1313',\n",
       " '3698',\n",
       " '2108',\n",
       " '1234',\n",
       " '2228',\n",
       " '1440',\n",
       " '3704',\n",
       " '3607',\n",
       " '1312',\n",
       " '2367',\n",
       " '2492',\n",
       " '9939',\n",
       " '1339',\n",
       " '3514',\n",
       " '9917',\n",
       " '6285']"
      ]
     },
     "metadata": {},
     "output_type": "display_data"
    },
    {
     "data": {
      "text/plain": [
       "['3356',\n",
       " '2387',\n",
       " '3706',\n",
       " '2393',\n",
       " '6412',\n",
       " '2015',\n",
       " '1234',\n",
       " '1216',\n",
       " '1722',\n",
       " '2392',\n",
       " '1720',\n",
       " '2374',\n",
       " '2303',\n",
       " '1583',\n",
       " '3607',\n",
       " '1402',\n",
       " '1308',\n",
       " '9917',\n",
       " '6285']"
      ]
     },
     "metadata": {},
     "output_type": "display_data"
    },
    {
     "data": {
      "text/plain": [
       "['1720', '2207', '8070', '1319', '1583', '2836', '9917']"
      ]
     },
     "metadata": {},
     "output_type": "display_data"
    },
    {
     "data": {
      "text/plain": [
       "['2492', '2474', '9907', '2324', '8131']"
      ]
     },
     "metadata": {},
     "output_type": "display_data"
    },
    {
     "data": {
      "text/plain": [
       "['1532',\n",
       " '1720',\n",
       " '1216',\n",
       " '9802',\n",
       " '1444',\n",
       " '2015',\n",
       " '1338',\n",
       " '2406',\n",
       " '3380',\n",
       " '9914',\n",
       " '3705',\n",
       " '9917']"
      ]
     },
     "metadata": {},
     "output_type": "display_data"
    },
    {
     "data": {
      "text/plain": [
       "['1717',\n",
       " '4906',\n",
       " '2731',\n",
       " '2448',\n",
       " '1234',\n",
       " '2373',\n",
       " '2908',\n",
       " '1110',\n",
       " '2836',\n",
       " '9907',\n",
       " '1216',\n",
       " '1722']"
      ]
     },
     "metadata": {},
     "output_type": "display_data"
    },
    {
     "data": {
      "text/plain": [
       "['9917']"
      ]
     },
     "metadata": {},
     "output_type": "display_data"
    },
    {
     "data": {
      "text/plain": [
       "['3665',\n",
       " '2385',\n",
       " '1216',\n",
       " '5007',\n",
       " '6115',\n",
       " '8341',\n",
       " '1707',\n",
       " '2910',\n",
       " '9921',\n",
       " '1210',\n",
       " '2606',\n",
       " '3705',\n",
       " '1722',\n",
       " '2392']"
      ]
     },
     "metadata": {},
     "output_type": "display_data"
    },
    {
     "data": {
      "text/plain": [
       "['1305', '2015', '2106', '2373', '2723', '1232', '3023', '1216', '9917']"
      ]
     },
     "metadata": {},
     "output_type": "display_data"
    },
    {
     "data": {
      "text/plain": [
       "['2506',\n",
       " '4306',\n",
       " '2106',\n",
       " '2373',\n",
       " '6197',\n",
       " '1232',\n",
       " '3023',\n",
       " '3706',\n",
       " '6605',\n",
       " '6214',\n",
       " '3698',\n",
       " '3376',\n",
       " '6166',\n",
       " '3617',\n",
       " '2015',\n",
       " '2102',\n",
       " '2908',\n",
       " '1605',\n",
       " '6213',\n",
       " '3583',\n",
       " '4104',\n",
       " '3231',\n",
       " '1722',\n",
       " '2103',\n",
       " '2392',\n",
       " '2374',\n",
       " '2231',\n",
       " '3060',\n",
       " '9802',\n",
       " '1440',\n",
       " '2451',\n",
       " '2353',\n",
       " '9907',\n",
       " '6153',\n",
       " '2889',\n",
       " '2913',\n",
       " '9942',\n",
       " '4994',\n",
       " '2207',\n",
       " '1225',\n",
       " '9939',\n",
       " '1308',\n",
       " '1338',\n",
       " '4526',\n",
       " '2027',\n",
       " '2606',\n",
       " '9917']"
      ]
     },
     "metadata": {},
     "output_type": "display_data"
    },
    {
     "data": {
      "text/plain": [
       "['1216',\n",
       " '3617',\n",
       " '3060',\n",
       " '6412',\n",
       " '9802',\n",
       " '1440',\n",
       " '6153',\n",
       " '2207',\n",
       " '2373',\n",
       " '2723',\n",
       " '2105',\n",
       " '1605',\n",
       " '1232',\n",
       " '3706',\n",
       " '3705',\n",
       " '1310',\n",
       " '2392']"
      ]
     },
     "metadata": {},
     "output_type": "display_data"
    },
    {
     "data": {
      "text/plain": [
       "['1537', '1720', '4190', '6452', '1234', '3023', '2634']"
      ]
     },
     "metadata": {},
     "output_type": "display_data"
    },
    {
     "data": {
      "text/plain": [
       "['1537',\n",
       " '2345',\n",
       " '2207',\n",
       " '9802',\n",
       " '2455',\n",
       " '1225',\n",
       " '4532',\n",
       " '2913',\n",
       " '5269',\n",
       " '1313']"
      ]
     },
     "metadata": {},
     "output_type": "display_data"
    },
    {
     "data": {
      "text/plain": [
       "['3062', '1210', '1234']"
      ]
     },
     "metadata": {},
     "output_type": "display_data"
    },
    {
     "data": {
      "text/plain": [
       "['3042',\n",
       " '4906',\n",
       " '4306',\n",
       " '2373',\n",
       " '4934',\n",
       " '1419',\n",
       " '2002',\n",
       " '6214',\n",
       " '3698',\n",
       " '6412',\n",
       " '1707',\n",
       " '1605',\n",
       " '6213',\n",
       " '1216',\n",
       " '1310',\n",
       " '2489',\n",
       " '1720',\n",
       " '9802',\n",
       " '2889',\n",
       " '2301',\n",
       " '9927',\n",
       " '4532',\n",
       " '1210',\n",
       " '2606',\n",
       " '2912',\n",
       " '2439']"
      ]
     },
     "metadata": {},
     "output_type": "display_data"
    },
    {
     "data": {
      "text/plain": [
       "['3042',\n",
       " '4306',\n",
       " '1702',\n",
       " '4733',\n",
       " '6206',\n",
       " '1313',\n",
       " '2345',\n",
       " '6282',\n",
       " '1234',\n",
       " '3016',\n",
       " '1605',\n",
       " '2402',\n",
       " '2855',\n",
       " '6213',\n",
       " '1216',\n",
       " '9907',\n",
       " '6005',\n",
       " '2239',\n",
       " '2492',\n",
       " '9927',\n",
       " '4532',\n",
       " '1210',\n",
       " '2606',\n",
       " '2912']"
      ]
     },
     "metadata": {},
     "output_type": "display_data"
    },
    {
     "data": {
      "text/plain": [
       "['9802', '1702', '1234', '1707', '5534', '6213', '3705', '2913']"
      ]
     },
     "metadata": {},
     "output_type": "display_data"
    },
    {
     "data": {
      "text/plain": [
       "['1702', '1210']"
      ]
     },
     "metadata": {},
     "output_type": "display_data"
    },
    {
     "data": {
      "text/plain": [
       "['8150',\n",
       " '3703',\n",
       " '6214',\n",
       " '3698',\n",
       " '1216',\n",
       " '1720',\n",
       " '2207',\n",
       " '6281',\n",
       " '1234',\n",
       " '1707',\n",
       " '2464',\n",
       " '3030',\n",
       " '1210',\n",
       " '2855',\n",
       " '3705',\n",
       " '1722',\n",
       " '2913']"
      ]
     },
     "metadata": {},
     "output_type": "display_data"
    },
    {
     "data": {
      "text/plain": [
       "['1101',\n",
       " '2373',\n",
       " '2107',\n",
       " '1326',\n",
       " '2634',\n",
       " '1537',\n",
       " '2345',\n",
       " '2393',\n",
       " '6214',\n",
       " '2606',\n",
       " '1707',\n",
       " '6213',\n",
       " '1216',\n",
       " '1722',\n",
       " '2397',\n",
       " '2231',\n",
       " '9802',\n",
       " '8404',\n",
       " '1319',\n",
       " '1737',\n",
       " '2303',\n",
       " '1402',\n",
       " '1102',\n",
       " '3035',\n",
       " '9942',\n",
       " '2520',\n",
       " '1614',\n",
       " '1303',\n",
       " '2608',\n",
       " '2885',\n",
       " '4426',\n",
       " '3008',\n",
       " '5203',\n",
       " '1714',\n",
       " '3003']"
      ]
     },
     "metadata": {},
     "output_type": "display_data"
    },
    {
     "data": {
      "text/plain": [
       "['9908',\n",
       " '4906',\n",
       " '2539',\n",
       " '6415',\n",
       " '9927',\n",
       " '2885',\n",
       " '1402',\n",
       " '2836',\n",
       " '1210',\n",
       " '3022',\n",
       " '1525']"
      ]
     },
     "metadata": {},
     "output_type": "display_data"
    },
    {
     "data": {
      "text/plain": [
       "['8150',\n",
       " '4906',\n",
       " '2455',\n",
       " '2106',\n",
       " '8016',\n",
       " '2201',\n",
       " '1232',\n",
       " '3705',\n",
       " '1218',\n",
       " '6166',\n",
       " '1535',\n",
       " '5434',\n",
       " '3231',\n",
       " '9802',\n",
       " '8404',\n",
       " '1402',\n",
       " '3022',\n",
       " '9942',\n",
       " '1225',\n",
       " '2406',\n",
       " '6285']"
      ]
     },
     "metadata": {},
     "output_type": "display_data"
    },
    {
     "data": {
      "text/plain": [
       "['1218',\n",
       " '6412',\n",
       " '4190',\n",
       " '9939',\n",
       " '2373',\n",
       " '2107',\n",
       " '1232',\n",
       " '2406',\n",
       " '1714',\n",
       " '1216']"
      ]
     },
     "metadata": {},
     "output_type": "display_data"
    },
    {
     "data": {
      "text/plain": [
       "['9908', '2015']"
      ]
     },
     "metadata": {},
     "output_type": "display_data"
    },
    {
     "data": {
      "text/plain": [
       "['4906',\n",
       " '2455',\n",
       " '1232',\n",
       " '2454',\n",
       " '3023',\n",
       " '6414',\n",
       " '3705',\n",
       " '6605',\n",
       " '6166',\n",
       " '3617',\n",
       " '2015',\n",
       " '1234',\n",
       " '2314',\n",
       " '1720',\n",
       " '9802',\n",
       " '1440',\n",
       " '2539',\n",
       " '4438',\n",
       " '9942',\n",
       " '5269',\n",
       " '1203',\n",
       " '2207',\n",
       " '1455',\n",
       " '6191']"
      ]
     },
     "metadata": {},
     "output_type": "display_data"
    },
    {
     "data": {
      "text/plain": [
       "['1537',\n",
       " '3665',\n",
       " '6166',\n",
       " '3060',\n",
       " '2107',\n",
       " '4532',\n",
       " '6230',\n",
       " '1232',\n",
       " '9907',\n",
       " '1909',\n",
       " '5434',\n",
       " '1216',\n",
       " '8473',\n",
       " '3022',\n",
       " '2913',\n",
       " '2351']"
      ]
     },
     "metadata": {},
     "output_type": "display_data"
    },
    {
     "data": {
      "text/plain": [
       "['2345',\n",
       " '8039',\n",
       " '2455',\n",
       " '1101',\n",
       " '1707',\n",
       " '2107',\n",
       " '6415',\n",
       " '9939',\n",
       " '3346',\n",
       " '9921',\n",
       " '1232',\n",
       " '3454',\n",
       " '2456',\n",
       " '1216',\n",
       " '8473',\n",
       " '6285']"
      ]
     },
     "metadata": {},
     "output_type": "display_data"
    },
    {
     "data": {
      "text/plain": [
       "['1537',\n",
       " '6412',\n",
       " '2731',\n",
       " '1225',\n",
       " '2373',\n",
       " '2107',\n",
       " '3545',\n",
       " '1110',\n",
       " '3454',\n",
       " '2883',\n",
       " '2912',\n",
       " '1216',\n",
       " '9917']"
      ]
     },
     "metadata": {},
     "output_type": "display_data"
    },
    {
     "data": {
      "text/plain": [
       "['8163',\n",
       " '2207',\n",
       " '8081',\n",
       " '1737',\n",
       " '1110',\n",
       " '2409',\n",
       " '3454',\n",
       " '9914',\n",
       " '1419',\n",
       " '9942',\n",
       " '2841']"
      ]
     },
     "metadata": {},
     "output_type": "display_data"
    },
    {
     "data": {
      "text/plain": [
       "['1537',\n",
       " '8039',\n",
       " '2207',\n",
       " '2886',\n",
       " '2727',\n",
       " '6283',\n",
       " '8081',\n",
       " '2456',\n",
       " '1232',\n",
       " '6414',\n",
       " '1216']"
      ]
     },
     "metadata": {},
     "output_type": "display_data"
    },
    {
     "data": {
      "text/plain": [
       "['1720', '1218', '2886', '1225', '2373', '2633', '3708', '1216']"
      ]
     },
     "metadata": {},
     "output_type": "display_data"
    },
    {
     "data": {
      "text/plain": [
       "['2886',\n",
       " '9918',\n",
       " '2107',\n",
       " '2006',\n",
       " '9938',\n",
       " '2634',\n",
       " '2015',\n",
       " '4943',\n",
       " '2888',\n",
       " '3454',\n",
       " '1402',\n",
       " '8466',\n",
       " '9907',\n",
       " '2913',\n",
       " '9942',\n",
       " '1455',\n",
       " '1219',\n",
       " '2027',\n",
       " '8464']"
      ]
     },
     "metadata": {},
     "output_type": "display_data"
    },
    {
     "data": {
      "text/plain": [
       "['1440', '1904', '2605', '6120', '3454', '3708', '2454', '2913', '6464']"
      ]
     },
     "metadata": {},
     "output_type": "display_data"
    },
    {
     "data": {
      "text/plain": [
       "['8039',\n",
       " '2481',\n",
       " '6120',\n",
       " '4137',\n",
       " '2107',\n",
       " '6414',\n",
       " '2327',\n",
       " '1313',\n",
       " '2337',\n",
       " '6281',\n",
       " '2312',\n",
       " '1707',\n",
       " '2908',\n",
       " '1909',\n",
       " '2206',\n",
       " '1440',\n",
       " '3454',\n",
       " '1402',\n",
       " '1102',\n",
       " '2436',\n",
       " '2207',\n",
       " '1225',\n",
       " '8473',\n",
       " '9917']"
      ]
     },
     "metadata": {},
     "output_type": "display_data"
    },
    {
     "data": {
      "text/plain": [
       "['2492',\n",
       " '2337',\n",
       " '5388',\n",
       " '6281',\n",
       " '6412',\n",
       " '2397',\n",
       " '2481',\n",
       " '1234',\n",
       " '1455',\n",
       " '1232',\n",
       " '2454',\n",
       " '6271',\n",
       " '2913',\n",
       " '8473',\n",
       " '3231',\n",
       " '9942']"
      ]
     },
     "metadata": {},
     "output_type": "display_data"
    },
    {
     "data": {
      "text/plain": [
       "['2108', '2448', '1225', '1707', '1232', '9917']"
      ]
     },
     "metadata": {},
     "output_type": "display_data"
    },
    {
     "data": {
      "text/plain": [
       "['1532',\n",
       " '6531',\n",
       " '2455',\n",
       " '2464',\n",
       " '1707',\n",
       " '3035',\n",
       " '1589',\n",
       " '3645',\n",
       " '8473',\n",
       " '6464']"
      ]
     },
     "metadata": {},
     "output_type": "display_data"
    },
    {
     "data": {
      "text/plain": [
       "['2481',\n",
       " '2107',\n",
       " '2006',\n",
       " '1589',\n",
       " '3708',\n",
       " '2327',\n",
       " '2002',\n",
       " '2108',\n",
       " '1532',\n",
       " '2823',\n",
       " '2395',\n",
       " '1440',\n",
       " '4438',\n",
       " '2478',\n",
       " '2913',\n",
       " '2449',\n",
       " '2207',\n",
       " '2376',\n",
       " '1714',\n",
       " '1609']"
      ]
     },
     "metadata": {},
     "output_type": "display_data"
    },
    {
     "data": {
      "text/plain": [
       "['1225', '2373', '2059']"
      ]
     },
     "metadata": {},
     "output_type": "display_data"
    },
    {
     "data": {
      "text/plain": [
       "['1532',\n",
       " '2345',\n",
       " '2449',\n",
       " '3665',\n",
       " '2890',\n",
       " '2481',\n",
       " '1707',\n",
       " '2478',\n",
       " '6271',\n",
       " '3705',\n",
       " '8473']"
      ]
     },
     "metadata": {},
     "output_type": "display_data"
    },
    {
     "data": {
      "text/plain": [
       "['1532',\n",
       " '2492',\n",
       " '2337',\n",
       " '1440',\n",
       " '1902',\n",
       " '1101',\n",
       " '1589',\n",
       " '2478',\n",
       " '3454',\n",
       " '3705',\n",
       " '3059']"
      ]
     },
     "metadata": {},
     "output_type": "display_data"
    },
    {
     "data": {
      "text/plain": [
       "['2062',\n",
       " '2492',\n",
       " '3130',\n",
       " '2731',\n",
       " '2886',\n",
       " '4190',\n",
       " '3062',\n",
       " '4438',\n",
       " '3645',\n",
       " '9917']"
      ]
     },
     "metadata": {},
     "output_type": "display_data"
    },
    {
     "data": {
      "text/plain": [
       "['2393',\n",
       " '3698',\n",
       " '3376',\n",
       " '2207',\n",
       " '9917',\n",
       " '2727',\n",
       " '1902',\n",
       " '1101',\n",
       " '4438',\n",
       " '2105',\n",
       " '2006',\n",
       " '3708',\n",
       " '6153',\n",
       " '2340',\n",
       " '3022']"
      ]
     },
     "metadata": {},
     "output_type": "display_data"
    },
    {
     "data": {
      "text/plain": [
       "['9905',\n",
       " '9926',\n",
       " '2105',\n",
       " '1515',\n",
       " '1402',\n",
       " '6525',\n",
       " '3380',\n",
       " '3035',\n",
       " '3034',\n",
       " '2103']"
      ]
     },
     "metadata": {},
     "output_type": "display_data"
    },
    {
     "data": {
      "text/plain": [
       "['8150',\n",
       " '3022',\n",
       " '1464',\n",
       " '3037',\n",
       " '1440',\n",
       " '2612',\n",
       " '2884',\n",
       " '2360',\n",
       " '2105',\n",
       " '2006',\n",
       " '2351',\n",
       " '2820',\n",
       " '3231',\n",
       " '2913',\n",
       " '6464']"
      ]
     },
     "metadata": {},
     "output_type": "display_data"
    },
    {
     "data": {
      "text/plain": [
       "['9917', '1702', '2890', '2607', '3454', '1507', '2353', '5203', '6278']"
      ]
     },
     "metadata": {},
     "output_type": "display_data"
    },
    {
     "data": {
      "text/plain": [
       "['1513', '2612', '6271']"
      ]
     },
     "metadata": {},
     "output_type": "display_data"
    },
    {
     "data": {
      "text/plain": [
       "['2897',\n",
       " '3037',\n",
       " '1702',\n",
       " '2373',\n",
       " '8016',\n",
       " '2049',\n",
       " '2107',\n",
       " '9914',\n",
       " '6414',\n",
       " '3705',\n",
       " '6605',\n",
       " '2345',\n",
       " '1537',\n",
       " '3376',\n",
       " '6412',\n",
       " '2890',\n",
       " '1513',\n",
       " '2012',\n",
       " '3231',\n",
       " '1440',\n",
       " '2884',\n",
       " '2368',\n",
       " '3022',\n",
       " '2207',\n",
       " '2013',\n",
       " '2836',\n",
       " '2548',\n",
       " '8464',\n",
       " '8473']"
      ]
     },
     "metadata": {},
     "output_type": "display_data"
    },
    {
     "data": {
      "text/plain": [
       "['2849',\n",
       " '3376',\n",
       " '2610',\n",
       " '3037',\n",
       " '6412',\n",
       " '2207',\n",
       " '2312',\n",
       " '1560',\n",
       " '8016',\n",
       " '2107',\n",
       " '1707',\n",
       " '2836',\n",
       " '5203',\n",
       " '2368',\n",
       " '2458',\n",
       " '6285']"
      ]
     },
     "metadata": {},
     "output_type": "display_data"
    },
    {
     "data": {
      "text/plain": [
       "['5388',\n",
       " '2107',\n",
       " '3705',\n",
       " '6412',\n",
       " '2880',\n",
       " '2312',\n",
       " '1707',\n",
       " '5522',\n",
       " '2504',\n",
       " '1110',\n",
       " '2012',\n",
       " '6581',\n",
       " '2884',\n",
       " '4190',\n",
       " '4438',\n",
       " '1515',\n",
       " '1701',\n",
       " '2207',\n",
       " '2548',\n",
       " '9917',\n",
       " '6285']"
      ]
     },
     "metadata": {},
     "output_type": "display_data"
    },
    {
     "data": {
      "text/plain": [
       "['8454',\n",
       " '1701',\n",
       " '6412',\n",
       " '1440',\n",
       " '2884',\n",
       " '1707',\n",
       " '2006',\n",
       " '6581',\n",
       " '2836',\n",
       " '9917',\n",
       " '9942']"
      ]
     },
     "metadata": {},
     "output_type": "display_data"
    },
    {
     "data": {
      "text/plain": [
       "['2010',\n",
       " '6412',\n",
       " '1560',\n",
       " '2107',\n",
       " '1315',\n",
       " '9921',\n",
       " '4915',\n",
       " '2597',\n",
       " '2836',\n",
       " '1504']"
      ]
     },
     "metadata": {},
     "output_type": "display_data"
    },
    {
     "data": {
      "text/plain": [
       "['2338',\n",
       " '2511',\n",
       " '3059',\n",
       " '3037',\n",
       " '6116',\n",
       " '2455',\n",
       " '2707',\n",
       " '2884',\n",
       " '2727',\n",
       " '3596',\n",
       " '1707',\n",
       " '2107',\n",
       " '2303',\n",
       " '5243',\n",
       " '5203',\n",
       " '2548',\n",
       " '3035',\n",
       " '2323']"
      ]
     },
     "metadata": {},
     "output_type": "display_data"
    },
    {
     "data": {
      "text/plain": [
       "['2511',\n",
       " '2536',\n",
       " '2890',\n",
       " '1707',\n",
       " '2107',\n",
       " '2006',\n",
       " '2836',\n",
       " '2454',\n",
       " '1216',\n",
       " '9917']"
      ]
     },
     "metadata": {},
     "output_type": "display_data"
    },
    {
     "data": {
      "text/plain": [
       "['8150',\n",
       " '6579',\n",
       " '3698',\n",
       " '2536',\n",
       " '6412',\n",
       " '2727',\n",
       " '1225',\n",
       " '2105',\n",
       " '2006',\n",
       " '6581',\n",
       " '2836',\n",
       " '2351',\n",
       " '2340']"
      ]
     },
     "metadata": {},
     "output_type": "display_data"
    },
    {
     "data": {
      "text/plain": [
       "['3042',\n",
       " '5388',\n",
       " '4919',\n",
       " '3023',\n",
       " '2329',\n",
       " '3705',\n",
       " '6412',\n",
       " '2880',\n",
       " '6415',\n",
       " '2504',\n",
       " '2514',\n",
       " '2536',\n",
       " '2727',\n",
       " '2360',\n",
       " '2303',\n",
       " '4438',\n",
       " '1590',\n",
       " '1709',\n",
       " '2059',\n",
       " '9927',\n",
       " '6230',\n",
       " '3008',\n",
       " '6271',\n",
       " '9917']"
      ]
     },
     "metadata": {},
     "output_type": "display_data"
    },
    {
     "data": {
      "text/plain": [
       "['3042', '4935', '6412', '6230', '3406', '6464']"
      ]
     },
     "metadata": {},
     "output_type": "display_data"
    },
    {
     "data": {
      "text/plain": [
       "['3042',\n",
       " '2481',\n",
       " '8016',\n",
       " '2107',\n",
       " '2006',\n",
       " '2034',\n",
       " '4961',\n",
       " '6464',\n",
       " '1234',\n",
       " '1707',\n",
       " '6581',\n",
       " '2338',\n",
       " '2031',\n",
       " '4943',\n",
       " '2536',\n",
       " '6153',\n",
       " '1709',\n",
       " '8462',\n",
       " '9927',\n",
       " '2355',\n",
       " '2836',\n",
       " '2351',\n",
       " '2548',\n",
       " '9917',\n",
       " '6285']"
      ]
     },
     "metadata": {},
     "output_type": "display_data"
    },
    {
     "data": {
      "text/plain": [
       "['2511', '4763', '1707', '4438', '2504', '2006', '2548', '3645', '8473']"
      ]
     },
     "metadata": {},
     "output_type": "display_data"
    },
    {
     "data": {
      "text/plain": [
       "['1709',\n",
       " '3042',\n",
       " '1301',\n",
       " '6412',\n",
       " '9927',\n",
       " '2504',\n",
       " '2006',\n",
       " '6558',\n",
       " '2836',\n",
       " '2454',\n",
       " '1519',\n",
       " '6464']"
      ]
     },
     "metadata": {},
     "output_type": "display_data"
    },
    {
     "data": {
      "text/plain": [
       "['3042',\n",
       " '2393',\n",
       " '8039',\n",
       " '3515',\n",
       " '4438',\n",
       " '2006',\n",
       " '8114',\n",
       " '6230',\n",
       " '2836',\n",
       " '2820',\n",
       " '9917',\n",
       " '6464']"
      ]
     },
     "metadata": {},
     "output_type": "display_data"
    },
    {
     "data": {
      "text/plain": [
       "['1203',\n",
       " '8039',\n",
       " '3376',\n",
       " '6281',\n",
       " '1707',\n",
       " '8996',\n",
       " '2006',\n",
       " '2836',\n",
       " '3703',\n",
       " '6464']"
      ]
     },
     "metadata": {},
     "output_type": "display_data"
    },
    {
     "data": {
      "text/plain": [
       "['1709']"
      ]
     },
     "metadata": {},
     "output_type": "display_data"
    },
    {
     "data": {
      "text/plain": [
       "['2006', '1707']"
      ]
     },
     "metadata": {},
     "output_type": "display_data"
    },
    {
     "data": {
      "text/plain": [
       "['3042',\n",
       " '2897',\n",
       " '2308',\n",
       " '3413',\n",
       " '2387',\n",
       " '9914',\n",
       " '3705',\n",
       " '6464',\n",
       " '2515',\n",
       " '3376',\n",
       " '6281',\n",
       " '1707',\n",
       " '2504',\n",
       " '6213',\n",
       " '2408',\n",
       " '2031',\n",
       " '1532',\n",
       " '1440',\n",
       " '2451',\n",
       " '8341',\n",
       " '8996',\n",
       " '2478',\n",
       " '1808',\n",
       " '9907',\n",
       " '1504',\n",
       " '1590',\n",
       " '1709',\n",
       " '6116',\n",
       " '1536',\n",
       " '6230',\n",
       " '1714',\n",
       " '6271',\n",
       " '9917',\n",
       " '6285']"
      ]
     },
     "metadata": {},
     "output_type": "display_data"
    },
    {
     "data": {
      "text/plain": [
       "['2511',\n",
       " '1532',\n",
       " '4994',\n",
       " '3661',\n",
       " '2015',\n",
       " '4576',\n",
       " '2478',\n",
       " '2454',\n",
       " '2855',\n",
       " '6464']"
      ]
     },
     "metadata": {},
     "output_type": "display_data"
    },
    {
     "data": {
      "text/plain": [
       "['2338',\n",
       " '9933',\n",
       " '2511',\n",
       " '2395',\n",
       " '2015',\n",
       " '2481',\n",
       " '1707',\n",
       " '4576',\n",
       " '6581',\n",
       " '2855',\n",
       " '3380',\n",
       " '9917',\n",
       " '1310']"
      ]
     },
     "metadata": {},
     "output_type": "display_data"
    },
    {
     "data": {
      "text/plain": [
       "['1589',\n",
       " '2344',\n",
       " '4551',\n",
       " '1717',\n",
       " '6166',\n",
       " '2607',\n",
       " '2504',\n",
       " '1513',\n",
       " '6581',\n",
       " '1310',\n",
       " '4943',\n",
       " '2511',\n",
       " '2207',\n",
       " '6706',\n",
       " '8926',\n",
       " '1303',\n",
       " '9927',\n",
       " '4576',\n",
       " '4532',\n",
       " '6285']"
      ]
     },
     "metadata": {},
     "output_type": "display_data"
    },
    {
     "data": {
      "text/plain": [
       "['2031',\n",
       " '1532',\n",
       " '1477',\n",
       " '3059',\n",
       " '2417',\n",
       " '4968',\n",
       " '9927',\n",
       " '4532',\n",
       " '3454',\n",
       " '6581',\n",
       " '2206',\n",
       " '1519',\n",
       " '3545',\n",
       " '9917',\n",
       " '1310',\n",
       " '3380']"
      ]
     },
     "metadata": {},
     "output_type": "display_data"
    },
    {
     "data": {
      "text/plain": [
       "['2338',\n",
       " '1532',\n",
       " '2031',\n",
       " '3059',\n",
       " '2231',\n",
       " '1707',\n",
       " '3454',\n",
       " '3708',\n",
       " '6230',\n",
       " '3380',\n",
       " '2340',\n",
       " '1310']"
      ]
     },
     "metadata": {},
     "output_type": "display_data"
    },
    {
     "data": {
      "text/plain": [
       "['1532', '2455', '2303', '6202', '2454', '2344', '3380', '9917', '3059']"
      ]
     },
     "metadata": {},
     "output_type": "display_data"
    },
    {
     "data": {
      "text/plain": [
       "['1477',\n",
       " '1614',\n",
       " '6116',\n",
       " '1440',\n",
       " '2332',\n",
       " '8926',\n",
       " '1707',\n",
       " '6202',\n",
       " '6581',\n",
       " '2344']"
      ]
     },
     "metadata": {},
     "output_type": "display_data"
    },
    {
     "data": {
      "text/plain": [
       "['2332', '1536', '6581', '3380', '3035', '2439']"
      ]
     },
     "metadata": {},
     "output_type": "display_data"
    },
    {
     "data": {
      "text/plain": [
       "['2511',\n",
       " '1532',\n",
       " '3665',\n",
       " '2207',\n",
       " '1225',\n",
       " '1707',\n",
       " '1515',\n",
       " '3454',\n",
       " '6196',\n",
       " '6230',\n",
       " '3380',\n",
       " '6271',\n",
       " '3035']"
      ]
     },
     "metadata": {},
     "output_type": "display_data"
    },
    {
     "data": {
      "text/plain": [
       "['9802', '6669', '6706', '1216']"
      ]
     },
     "metadata": {},
     "output_type": "display_data"
    },
    {
     "data": {
      "text/plain": [
       "['1532', '8926', '1225', '2409', '6581', '3380', '2489']"
      ]
     },
     "metadata": {},
     "output_type": "display_data"
    },
    {
     "data": {
      "text/plain": [
       "['2031',\n",
       " '1532',\n",
       " '2617',\n",
       " '8462',\n",
       " '5007',\n",
       " '2481',\n",
       " '8016',\n",
       " '1225',\n",
       " '2409',\n",
       " '9921',\n",
       " '1402',\n",
       " '1519',\n",
       " '2436',\n",
       " '3545',\n",
       " '9942',\n",
       " '1310',\n",
       " '2489']"
      ]
     },
     "metadata": {},
     "output_type": "display_data"
    }
   ],
   "source": [
    "N = 2\n",
    "K = 10 #均線長度\n",
    "fee = 1.425/1000 * 0.6 #手續費\n",
    "tax = 3/1000 #交易稅\n",
    "retrun_series = pd.Series([1], [選股日期[0]]) #儲存回測結果\n",
    "tickers_record = [] #儲存選到的股票\n",
    "\n",
    "for i in range(len(選股日期)):\n",
    "    日期 = 選股日期[i]\n",
    "    #print(日期)\n",
    "    \n",
    "    # 準備資料\n",
    "    當期市場別 = 市場別.loc[:日期].iloc[-1].dropna() # loc[:日期].iloc[-1]選到這個日期前所有可以看到資料中的最後一筆，然後drop掉na\n",
    "    當期市值 = 市值.loc[:日期].iloc[-1].dropna()\n",
    "    均線 = 收盤價.loc[:日期].iloc[-K:].mean().dropna() # k日均線(取當前可以看到資料的最後k筆的平均)\n",
    "    均線2 = 收盤價.loc[:日期].iloc[-K*2:].mean().dropna()\n",
    "    前N期董監持股 = 董監持股.loc[:日期][-N:] # 倒數兩次的持股比例\n",
    "    董監持股成長率 = 前N期董監持股.iloc[-1] / 前N期董監持股.iloc[-2] - 1\n",
    "    董監持股成長率 = 董監持股成長率.dropna() #把沒有值的drop掉\n",
    "    #本益比 = 本益比.dropna()\n",
    "    當期本益比 = 本益比.loc[:日期].iloc[-1].dropna()  # .loc[:日期].iloc[-1] 代表式取得資料的最後一筆本益比數值(沒加的話會不知道是取哪一天的)\n",
    "    資料齊全的股票 = list(set(董監持股成長率.index) & set(當期市值.index) & set(當期市場別.index) & set(本益比.index))\n",
    "    \n",
    "    # 增加篩選條件\n",
    "    condition_1 = Condition(當期市場別, \"equal\", \"TSE\")  #條件: 上市股票\n",
    "    condition_2 = Condition(當期市值, \"rank_high_pct\", 0.5) #條件: 市值前50%\n",
    "    condition_3 = Condition(董監持股成長率, \"compare_high\", 0)#條件: 董監持股成長率>0\n",
    "    condition_4 = Condition(均線, \"compare_high\", 均線2) #條件: 10日均>20日\n",
    "    condition_5 = Condition(當期本益比, \"rank_high_pct\", 0.5) #條件: 本益比<15倍\n",
    "    \n",
    "    \n",
    "    condition_blocks = ConditionBlocks()\n",
    "    condition_blocks.add_condition(condition_1)\n",
    "    condition_blocks.add_condition(ConditionAnd([condition_2, condition_3, condition_4, condition_5])) #2、3、4、5條件都成立\n",
    "    tickers = condition_blocks.build()\n",
    "    tickers_record.extend(tickers)  #選好了要交易的股票了\n",
    "    display(tickers)\n",
    "    \n",
    "    if i != len(選股日期) - 1:\n",
    "        收盤價資料 = 收盤價.loc[選股後一日[i]:選股日期[i+1]] #如果不是最後一次選股日期，收盤價=選股後一日到下一次選股\n",
    "\n",
    "    else:\n",
    "        收盤價資料 = 收盤價.loc[選股後一日[i]:回測最後一日]\n",
    "\n",
    "    if len(tickers) != 0:  #有選出股票的情況下\n",
    "        收盤價資料 = 收盤價資料[tickers]    \n",
    "        選股日報酬 = 收盤價資料.pct_change().dropna(how = \"all\", axis = 0).fillna(0) #NA值用0補起來\n",
    "        \n",
    "        if len(選股日報酬) != 0:  # 不是選股日報酬=0(選到後隔天下市)\n",
    "            選股日報酬.iloc[0] = 選股日報酬.iloc[0] - fee\n",
    "            選股日報酬.iloc[-1] = 選股日報酬.iloc[-1] - fee - tax  #扣手續費和稅\n",
    "            區間累積報酬 = (選股日報酬 + 1).cumprod().mean(axis = 1)  # 累乘後再取平均\n",
    "            \n",
    "    else:\n",
    "        區間累積報酬 = pd.Series(1, 收盤價資料.index) #沒選到股票的話是 一串1\n",
    "        \n",
    "    retrun_series = pd.concat([retrun_series, 區間累積報酬*retrun_series.iloc[-1]]) #接上RETURN SERIES後面，因為是累積報酬的序列，要乘上累積報酬的最後一個值\n",
    "            \n",
    "tickers_record = dict(collections.Counter(tickers_record)) #算說每個ticker出現的次數，轉換成dictionary\n",
    "tickers_record = dict(sorted(tickers_record.items(), key=lambda x: x[1], reverse=True)) #再去把dictionary做排序，次數越高在dictionary的順序越前面"
   ]
  },
  {
   "cell_type": "code",
   "execution_count": 60,
   "metadata": {},
   "outputs": [
    {
     "data": {
      "text/html": [
       "<div>\n",
       "<style scoped>\n",
       "    .dataframe tbody tr th:only-of-type {\n",
       "        vertical-align: middle;\n",
       "    }\n",
       "\n",
       "    .dataframe tbody tr th {\n",
       "        vertical-align: top;\n",
       "    }\n",
       "\n",
       "    .dataframe thead th {\n",
       "        text-align: right;\n",
       "    }\n",
       "</style>\n",
       "<table border=\"1\" class=\"dataframe\">\n",
       "  <thead>\n",
       "    <tr style=\"text-align: right;\">\n",
       "      <th></th>\n",
       "      <th>50</th>\n",
       "      <th>51</th>\n",
       "      <th>1101</th>\n",
       "      <th>1102</th>\n",
       "      <th>1103</th>\n",
       "      <th>1104</th>\n",
       "      <th>1107</th>\n",
       "      <th>1108</th>\n",
       "      <th>1109</th>\n",
       "      <th>1110</th>\n",
       "      <th>...</th>\n",
       "      <th>911613</th>\n",
       "      <th>911616</th>\n",
       "      <th>911619</th>\n",
       "      <th>911622</th>\n",
       "      <th>911626</th>\n",
       "      <th>911868</th>\n",
       "      <th>912000</th>\n",
       "      <th>912398</th>\n",
       "      <th>913889</th>\n",
       "      <th>916665</th>\n",
       "    </tr>\n",
       "    <tr>\n",
       "      <th>年月日</th>\n",
       "      <th></th>\n",
       "      <th></th>\n",
       "      <th></th>\n",
       "      <th></th>\n",
       "      <th></th>\n",
       "      <th></th>\n",
       "      <th></th>\n",
       "      <th></th>\n",
       "      <th></th>\n",
       "      <th></th>\n",
       "      <th></th>\n",
       "      <th></th>\n",
       "      <th></th>\n",
       "      <th></th>\n",
       "      <th></th>\n",
       "      <th></th>\n",
       "      <th></th>\n",
       "      <th></th>\n",
       "      <th></th>\n",
       "      <th></th>\n",
       "      <th></th>\n",
       "    </tr>\n",
       "  </thead>\n",
       "  <tbody>\n",
       "  </tbody>\n",
       "</table>\n",
       "<p>0 rows × 2031 columns</p>\n",
       "</div>"
      ],
      "text/plain": [
       "Empty DataFrame\n",
       "Columns: [50, 51, 1101, 1102, 1103, 1104, 1107, 1108, 1109, 1110, 1201, 1203, 1204, 1207, 1210, 1212, 1213, 1215, 1216, 1217, 1218, 1219, 1220, 1224, 1225, 1227, 1229, 1231, 1232, 1233, 1234, 1235, 1236, 1240, 1256, 1258, 1259, 1262, 1264, 1268, 1301, 1303, 1304, 1305, 1306, 1307, 1308, 1309, 1310, 1311, 1312, 1313, 1314, 1315, 1316, 1319, 1321, 1323, 1324, 1325, 1326, 1333, 1336, 1337, 1338, 1339, 1340, 1341, 1342, 1402, 1408, 1409, 1410, 1413, 1414, 1416, 1417, 1418, 1419, 1423, 1432, 1434, 1435, 1436, 1437, 1438, 1439, 1440, 1441, 1442, 1443, 1444, 1445, 1446, 1447, 1449, 1450, 1451, 1452, 1453, ...]\n",
       "Index: []\n",
       "\n",
       "[0 rows x 2031 columns]"
      ]
     },
     "execution_count": 60,
     "metadata": {},
     "output_type": "execute_result"
    }
   ],
   "source": [
    "本益比.head(4)"
   ]
  },
  {
   "cell_type": "code",
   "execution_count": 47,
   "metadata": {},
   "outputs": [
    {
     "ename": "ValueError",
     "evalue": "could not convert string to float: '          -'",
     "output_type": "error",
     "traceback": [
      "\u001b[1;31m---------------------------------------------------------------------------\u001b[0m",
      "\u001b[1;31mValueError\u001b[0m                                Traceback (most recent call last)",
      "\u001b[1;32m<ipython-input-47-4ddc815eef39>\u001b[0m in \u001b[0;36m<module>\u001b[1;34m\u001b[0m\n\u001b[0;32m      1\u001b[0m \u001b[1;31m#print(本益比)\u001b[0m\u001b[1;33m\u001b[0m\u001b[1;33m\u001b[0m\u001b[1;33m\u001b[0m\u001b[0m\n\u001b[1;32m----> 2\u001b[1;33m \u001b[0m本益比\u001b[0m \u001b[1;33m=\u001b[0m \u001b[0m本益比\u001b[0m\u001b[1;33m.\u001b[0m\u001b[0mastype\u001b[0m\u001b[1;33m(\u001b[0m\u001b[0mfloat\u001b[0m\u001b[1;33m)\u001b[0m\u001b[1;33m\u001b[0m\u001b[1;33m\u001b[0m\u001b[0m\n\u001b[0m",
      "\u001b[1;32mC:\\Anaconda3\\lib\\site-packages\\pandas\\core\\generic.py\u001b[0m in \u001b[0;36mastype\u001b[1;34m(self, dtype, copy, errors)\u001b[0m\n\u001b[0;32m   5813\u001b[0m         \u001b[1;32melse\u001b[0m\u001b[1;33m:\u001b[0m\u001b[1;33m\u001b[0m\u001b[1;33m\u001b[0m\u001b[0m\n\u001b[0;32m   5814\u001b[0m             \u001b[1;31m# else, only a single dtype is given\u001b[0m\u001b[1;33m\u001b[0m\u001b[1;33m\u001b[0m\u001b[1;33m\u001b[0m\u001b[0m\n\u001b[1;32m-> 5815\u001b[1;33m             \u001b[0mnew_data\u001b[0m \u001b[1;33m=\u001b[0m \u001b[0mself\u001b[0m\u001b[1;33m.\u001b[0m\u001b[0m_mgr\u001b[0m\u001b[1;33m.\u001b[0m\u001b[0mastype\u001b[0m\u001b[1;33m(\u001b[0m\u001b[0mdtype\u001b[0m\u001b[1;33m=\u001b[0m\u001b[0mdtype\u001b[0m\u001b[1;33m,\u001b[0m \u001b[0mcopy\u001b[0m\u001b[1;33m=\u001b[0m\u001b[0mcopy\u001b[0m\u001b[1;33m,\u001b[0m \u001b[0merrors\u001b[0m\u001b[1;33m=\u001b[0m\u001b[0merrors\u001b[0m\u001b[1;33m)\u001b[0m\u001b[1;33m\u001b[0m\u001b[1;33m\u001b[0m\u001b[0m\n\u001b[0m\u001b[0;32m   5816\u001b[0m             \u001b[1;32mreturn\u001b[0m \u001b[0mself\u001b[0m\u001b[1;33m.\u001b[0m\u001b[0m_constructor\u001b[0m\u001b[1;33m(\u001b[0m\u001b[0mnew_data\u001b[0m\u001b[1;33m)\u001b[0m\u001b[1;33m.\u001b[0m\u001b[0m__finalize__\u001b[0m\u001b[1;33m(\u001b[0m\u001b[0mself\u001b[0m\u001b[1;33m,\u001b[0m \u001b[0mmethod\u001b[0m\u001b[1;33m=\u001b[0m\u001b[1;34m\"astype\"\u001b[0m\u001b[1;33m)\u001b[0m\u001b[1;33m\u001b[0m\u001b[1;33m\u001b[0m\u001b[0m\n\u001b[0;32m   5817\u001b[0m \u001b[1;33m\u001b[0m\u001b[0m\n",
      "\u001b[1;32mC:\\Anaconda3\\lib\\site-packages\\pandas\\core\\internals\\managers.py\u001b[0m in \u001b[0;36mastype\u001b[1;34m(self, dtype, copy, errors)\u001b[0m\n\u001b[0;32m    416\u001b[0m \u001b[1;33m\u001b[0m\u001b[0m\n\u001b[0;32m    417\u001b[0m     \u001b[1;32mdef\u001b[0m \u001b[0mastype\u001b[0m\u001b[1;33m(\u001b[0m\u001b[0mself\u001b[0m\u001b[1;33m:\u001b[0m \u001b[0mT\u001b[0m\u001b[1;33m,\u001b[0m \u001b[0mdtype\u001b[0m\u001b[1;33m,\u001b[0m \u001b[0mcopy\u001b[0m\u001b[1;33m:\u001b[0m \u001b[0mbool\u001b[0m \u001b[1;33m=\u001b[0m \u001b[1;32mFalse\u001b[0m\u001b[1;33m,\u001b[0m \u001b[0merrors\u001b[0m\u001b[1;33m:\u001b[0m \u001b[0mstr\u001b[0m \u001b[1;33m=\u001b[0m \u001b[1;34m\"raise\"\u001b[0m\u001b[1;33m)\u001b[0m \u001b[1;33m->\u001b[0m \u001b[0mT\u001b[0m\u001b[1;33m:\u001b[0m\u001b[1;33m\u001b[0m\u001b[1;33m\u001b[0m\u001b[0m\n\u001b[1;32m--> 418\u001b[1;33m         \u001b[1;32mreturn\u001b[0m \u001b[0mself\u001b[0m\u001b[1;33m.\u001b[0m\u001b[0mapply\u001b[0m\u001b[1;33m(\u001b[0m\u001b[1;34m\"astype\"\u001b[0m\u001b[1;33m,\u001b[0m \u001b[0mdtype\u001b[0m\u001b[1;33m=\u001b[0m\u001b[0mdtype\u001b[0m\u001b[1;33m,\u001b[0m \u001b[0mcopy\u001b[0m\u001b[1;33m=\u001b[0m\u001b[0mcopy\u001b[0m\u001b[1;33m,\u001b[0m \u001b[0merrors\u001b[0m\u001b[1;33m=\u001b[0m\u001b[0merrors\u001b[0m\u001b[1;33m)\u001b[0m\u001b[1;33m\u001b[0m\u001b[1;33m\u001b[0m\u001b[0m\n\u001b[0m\u001b[0;32m    419\u001b[0m \u001b[1;33m\u001b[0m\u001b[0m\n\u001b[0;32m    420\u001b[0m     def convert(\n",
      "\u001b[1;32mC:\\Anaconda3\\lib\\site-packages\\pandas\\core\\internals\\managers.py\u001b[0m in \u001b[0;36mapply\u001b[1;34m(self, f, align_keys, ignore_failures, **kwargs)\u001b[0m\n\u001b[0;32m    325\u001b[0m                     \u001b[0mapplied\u001b[0m \u001b[1;33m=\u001b[0m \u001b[0mb\u001b[0m\u001b[1;33m.\u001b[0m\u001b[0mapply\u001b[0m\u001b[1;33m(\u001b[0m\u001b[0mf\u001b[0m\u001b[1;33m,\u001b[0m \u001b[1;33m**\u001b[0m\u001b[0mkwargs\u001b[0m\u001b[1;33m)\u001b[0m\u001b[1;33m\u001b[0m\u001b[1;33m\u001b[0m\u001b[0m\n\u001b[0;32m    326\u001b[0m                 \u001b[1;32melse\u001b[0m\u001b[1;33m:\u001b[0m\u001b[1;33m\u001b[0m\u001b[1;33m\u001b[0m\u001b[0m\n\u001b[1;32m--> 327\u001b[1;33m                     \u001b[0mapplied\u001b[0m \u001b[1;33m=\u001b[0m \u001b[0mgetattr\u001b[0m\u001b[1;33m(\u001b[0m\u001b[0mb\u001b[0m\u001b[1;33m,\u001b[0m \u001b[0mf\u001b[0m\u001b[1;33m)\u001b[0m\u001b[1;33m(\u001b[0m\u001b[1;33m**\u001b[0m\u001b[0mkwargs\u001b[0m\u001b[1;33m)\u001b[0m\u001b[1;33m\u001b[0m\u001b[1;33m\u001b[0m\u001b[0m\n\u001b[0m\u001b[0;32m    328\u001b[0m             \u001b[1;32mexcept\u001b[0m \u001b[1;33m(\u001b[0m\u001b[0mTypeError\u001b[0m\u001b[1;33m,\u001b[0m \u001b[0mNotImplementedError\u001b[0m\u001b[1;33m)\u001b[0m\u001b[1;33m:\u001b[0m\u001b[1;33m\u001b[0m\u001b[1;33m\u001b[0m\u001b[0m\n\u001b[0;32m    329\u001b[0m                 \u001b[1;32mif\u001b[0m \u001b[1;32mnot\u001b[0m \u001b[0mignore_failures\u001b[0m\u001b[1;33m:\u001b[0m\u001b[1;33m\u001b[0m\u001b[1;33m\u001b[0m\u001b[0m\n",
      "\u001b[1;32mC:\\Anaconda3\\lib\\site-packages\\pandas\\core\\internals\\blocks.py\u001b[0m in \u001b[0;36mastype\u001b[1;34m(self, dtype, copy, errors)\u001b[0m\n\u001b[0;32m    590\u001b[0m         \u001b[0mvalues\u001b[0m \u001b[1;33m=\u001b[0m \u001b[0mself\u001b[0m\u001b[1;33m.\u001b[0m\u001b[0mvalues\u001b[0m\u001b[1;33m\u001b[0m\u001b[1;33m\u001b[0m\u001b[0m\n\u001b[0;32m    591\u001b[0m \u001b[1;33m\u001b[0m\u001b[0m\n\u001b[1;32m--> 592\u001b[1;33m         \u001b[0mnew_values\u001b[0m \u001b[1;33m=\u001b[0m \u001b[0mastype_array_safe\u001b[0m\u001b[1;33m(\u001b[0m\u001b[0mvalues\u001b[0m\u001b[1;33m,\u001b[0m \u001b[0mdtype\u001b[0m\u001b[1;33m,\u001b[0m \u001b[0mcopy\u001b[0m\u001b[1;33m=\u001b[0m\u001b[0mcopy\u001b[0m\u001b[1;33m,\u001b[0m \u001b[0merrors\u001b[0m\u001b[1;33m=\u001b[0m\u001b[0merrors\u001b[0m\u001b[1;33m)\u001b[0m\u001b[1;33m\u001b[0m\u001b[1;33m\u001b[0m\u001b[0m\n\u001b[0m\u001b[0;32m    593\u001b[0m \u001b[1;33m\u001b[0m\u001b[0m\n\u001b[0;32m    594\u001b[0m         \u001b[0mnew_values\u001b[0m \u001b[1;33m=\u001b[0m \u001b[0mmaybe_coerce_values\u001b[0m\u001b[1;33m(\u001b[0m\u001b[0mnew_values\u001b[0m\u001b[1;33m)\u001b[0m\u001b[1;33m\u001b[0m\u001b[1;33m\u001b[0m\u001b[0m\n",
      "\u001b[1;32mC:\\Anaconda3\\lib\\site-packages\\pandas\\core\\dtypes\\cast.py\u001b[0m in \u001b[0;36mastype_array_safe\u001b[1;34m(values, dtype, copy, errors)\u001b[0m\n\u001b[0;32m   1307\u001b[0m \u001b[1;33m\u001b[0m\u001b[0m\n\u001b[0;32m   1308\u001b[0m     \u001b[1;32mtry\u001b[0m\u001b[1;33m:\u001b[0m\u001b[1;33m\u001b[0m\u001b[1;33m\u001b[0m\u001b[0m\n\u001b[1;32m-> 1309\u001b[1;33m         \u001b[0mnew_values\u001b[0m \u001b[1;33m=\u001b[0m \u001b[0mastype_array\u001b[0m\u001b[1;33m(\u001b[0m\u001b[0mvalues\u001b[0m\u001b[1;33m,\u001b[0m \u001b[0mdtype\u001b[0m\u001b[1;33m,\u001b[0m \u001b[0mcopy\u001b[0m\u001b[1;33m=\u001b[0m\u001b[0mcopy\u001b[0m\u001b[1;33m)\u001b[0m\u001b[1;33m\u001b[0m\u001b[1;33m\u001b[0m\u001b[0m\n\u001b[0m\u001b[0;32m   1310\u001b[0m     \u001b[1;32mexcept\u001b[0m \u001b[1;33m(\u001b[0m\u001b[0mValueError\u001b[0m\u001b[1;33m,\u001b[0m \u001b[0mTypeError\u001b[0m\u001b[1;33m)\u001b[0m\u001b[1;33m:\u001b[0m\u001b[1;33m\u001b[0m\u001b[1;33m\u001b[0m\u001b[0m\n\u001b[0;32m   1311\u001b[0m         \u001b[1;31m# e.g. astype_nansafe can fail on object-dtype of strings\u001b[0m\u001b[1;33m\u001b[0m\u001b[1;33m\u001b[0m\u001b[1;33m\u001b[0m\u001b[0m\n",
      "\u001b[1;32mC:\\Anaconda3\\lib\\site-packages\\pandas\\core\\dtypes\\cast.py\u001b[0m in \u001b[0;36mastype_array\u001b[1;34m(values, dtype, copy)\u001b[0m\n\u001b[0;32m   1255\u001b[0m \u001b[1;33m\u001b[0m\u001b[0m\n\u001b[0;32m   1256\u001b[0m     \u001b[1;32melse\u001b[0m\u001b[1;33m:\u001b[0m\u001b[1;33m\u001b[0m\u001b[1;33m\u001b[0m\u001b[0m\n\u001b[1;32m-> 1257\u001b[1;33m         \u001b[0mvalues\u001b[0m \u001b[1;33m=\u001b[0m \u001b[0mastype_nansafe\u001b[0m\u001b[1;33m(\u001b[0m\u001b[0mvalues\u001b[0m\u001b[1;33m,\u001b[0m \u001b[0mdtype\u001b[0m\u001b[1;33m,\u001b[0m \u001b[0mcopy\u001b[0m\u001b[1;33m=\u001b[0m\u001b[0mcopy\u001b[0m\u001b[1;33m)\u001b[0m\u001b[1;33m\u001b[0m\u001b[1;33m\u001b[0m\u001b[0m\n\u001b[0m\u001b[0;32m   1258\u001b[0m \u001b[1;33m\u001b[0m\u001b[0m\n\u001b[0;32m   1259\u001b[0m     \u001b[1;31m# in pandas we don't store numpy str dtypes, so convert to object\u001b[0m\u001b[1;33m\u001b[0m\u001b[1;33m\u001b[0m\u001b[1;33m\u001b[0m\u001b[0m\n",
      "\u001b[1;32mC:\\Anaconda3\\lib\\site-packages\\pandas\\core\\dtypes\\cast.py\u001b[0m in \u001b[0;36mastype_nansafe\u001b[1;34m(arr, dtype, copy, skipna)\u001b[0m\n\u001b[0;32m   1093\u001b[0m     \u001b[1;32mif\u001b[0m \u001b[0marr\u001b[0m\u001b[1;33m.\u001b[0m\u001b[0mndim\u001b[0m \u001b[1;33m>\u001b[0m \u001b[1;36m1\u001b[0m\u001b[1;33m:\u001b[0m\u001b[1;33m\u001b[0m\u001b[1;33m\u001b[0m\u001b[0m\n\u001b[0;32m   1094\u001b[0m         \u001b[0mflat\u001b[0m \u001b[1;33m=\u001b[0m \u001b[0marr\u001b[0m\u001b[1;33m.\u001b[0m\u001b[0mravel\u001b[0m\u001b[1;33m(\u001b[0m\u001b[1;33m)\u001b[0m\u001b[1;33m\u001b[0m\u001b[1;33m\u001b[0m\u001b[0m\n\u001b[1;32m-> 1095\u001b[1;33m         \u001b[0mresult\u001b[0m \u001b[1;33m=\u001b[0m \u001b[0mastype_nansafe\u001b[0m\u001b[1;33m(\u001b[0m\u001b[0mflat\u001b[0m\u001b[1;33m,\u001b[0m \u001b[0mdtype\u001b[0m\u001b[1;33m,\u001b[0m \u001b[0mcopy\u001b[0m\u001b[1;33m=\u001b[0m\u001b[0mcopy\u001b[0m\u001b[1;33m,\u001b[0m \u001b[0mskipna\u001b[0m\u001b[1;33m=\u001b[0m\u001b[0mskipna\u001b[0m\u001b[1;33m)\u001b[0m\u001b[1;33m\u001b[0m\u001b[1;33m\u001b[0m\u001b[0m\n\u001b[0m\u001b[0;32m   1096\u001b[0m         \u001b[1;31m# error: Item \"ExtensionArray\" of \"Union[ExtensionArray, ndarray]\" has no\u001b[0m\u001b[1;33m\u001b[0m\u001b[1;33m\u001b[0m\u001b[1;33m\u001b[0m\u001b[0m\n\u001b[0;32m   1097\u001b[0m         \u001b[1;31m# attribute \"reshape\"\u001b[0m\u001b[1;33m\u001b[0m\u001b[1;33m\u001b[0m\u001b[1;33m\u001b[0m\u001b[0m\n",
      "\u001b[1;32mC:\\Anaconda3\\lib\\site-packages\\pandas\\core\\dtypes\\cast.py\u001b[0m in \u001b[0;36mastype_nansafe\u001b[1;34m(arr, dtype, copy, skipna)\u001b[0m\n\u001b[0;32m   1199\u001b[0m     \u001b[1;32mif\u001b[0m \u001b[0mcopy\u001b[0m \u001b[1;32mor\u001b[0m \u001b[0mis_object_dtype\u001b[0m\u001b[1;33m(\u001b[0m\u001b[0marr\u001b[0m\u001b[1;33m.\u001b[0m\u001b[0mdtype\u001b[0m\u001b[1;33m)\u001b[0m \u001b[1;32mor\u001b[0m \u001b[0mis_object_dtype\u001b[0m\u001b[1;33m(\u001b[0m\u001b[0mdtype\u001b[0m\u001b[1;33m)\u001b[0m\u001b[1;33m:\u001b[0m\u001b[1;33m\u001b[0m\u001b[1;33m\u001b[0m\u001b[0m\n\u001b[0;32m   1200\u001b[0m         \u001b[1;31m# Explicit copy, or required since NumPy can't view from / to object.\u001b[0m\u001b[1;33m\u001b[0m\u001b[1;33m\u001b[0m\u001b[1;33m\u001b[0m\u001b[0m\n\u001b[1;32m-> 1201\u001b[1;33m         \u001b[1;32mreturn\u001b[0m \u001b[0marr\u001b[0m\u001b[1;33m.\u001b[0m\u001b[0mastype\u001b[0m\u001b[1;33m(\u001b[0m\u001b[0mdtype\u001b[0m\u001b[1;33m,\u001b[0m \u001b[0mcopy\u001b[0m\u001b[1;33m=\u001b[0m\u001b[1;32mTrue\u001b[0m\u001b[1;33m)\u001b[0m\u001b[1;33m\u001b[0m\u001b[1;33m\u001b[0m\u001b[0m\n\u001b[0m\u001b[0;32m   1202\u001b[0m \u001b[1;33m\u001b[0m\u001b[0m\n\u001b[0;32m   1203\u001b[0m     \u001b[1;32mreturn\u001b[0m \u001b[0marr\u001b[0m\u001b[1;33m.\u001b[0m\u001b[0mastype\u001b[0m\u001b[1;33m(\u001b[0m\u001b[0mdtype\u001b[0m\u001b[1;33m,\u001b[0m \u001b[0mcopy\u001b[0m\u001b[1;33m=\u001b[0m\u001b[0mcopy\u001b[0m\u001b[1;33m)\u001b[0m\u001b[1;33m\u001b[0m\u001b[1;33m\u001b[0m\u001b[0m\n",
      "\u001b[1;31mValueError\u001b[0m: could not convert string to float: '          -'"
     ]
    }
   ],
   "source": []
  },
  {
   "cell_type": "code",
   "execution_count": null,
   "metadata": {},
   "outputs": [],
   "source": []
  }
 ],
 "metadata": {
  "kernelspec": {
   "display_name": "Python 3",
   "language": "python",
   "name": "python3"
  },
  "language_info": {
   "codemirror_mode": {
    "name": "ipython",
    "version": 3
   },
   "file_extension": ".py",
   "mimetype": "text/x-python",
   "name": "python",
   "nbconvert_exporter": "python",
   "pygments_lexer": "ipython3",
   "version": "3.8.5"
  }
 },
 "nbformat": 4,
 "nbformat_minor": 4
}
